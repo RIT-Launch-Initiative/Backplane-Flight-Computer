{
 "cells": [
  {
   "cell_type": "code",
   "execution_count": 161,
   "metadata": {},
   "outputs": [],
   "source": [
    "import altair as alt\n",
    "import plotly.express as px\n",
    "\n",
    "import pandas as pd\n",
    "import numpy as np\n"
   ]
  },
  {
   "cell_type": "code",
   "execution_count": 162,
   "metadata": {},
   "outputs": [],
   "source": [
    "# Payload\n",
    "measurement_sizes = {\n",
    "    'Barometer Data': 4,\n",
    "    'LSM6DSL Acc': 4*3,\n",
    "    'LSM6DSL Gyro': 4*3,\n",
    "    'GPS All': 19, # gnss_info(2+4+4+1+1) + gnss_time (7) = 19 bytes \n",
    "    'Battery INA260': 4*2, # 8\n",
    "    '3V3 INA260': 4*2, # 8\n",
    "    'Radio Temp': 1, # 1\n",
    "}\n",
    "\n",
    "groups = {\n",
    "    'LSM6DSL Acc': ['LSM6DSL Acc'],\n",
    "    'LSM6DSL Gyro': ['LSM6DSL Gyro'],\n",
    "    'BMP390': ['Barometer Data'],\n",
    "    'GPS,Power': ['GPS All', 'Battery INA260', '3V3 INA260', 'Radio Temp']\n",
    "}\n",
    "\n",
    "# seconds\n",
    "stages = [\n",
    "    ['boost', 3],\n",
    "    ['flight', 330],\n",
    "    ['ground', 24*60*60] #one day\n",
    "]\n",
    "\n",
    "stage_rates = {\n",
    "    'boost': {'LSM6DSL Acc': 1000, 'LSM6DSL Gyro': 1000, 'BMP390': 100, 'GPS,Power': 1},\n",
    "    'flight': {'LSM6DSL Acc': 100, 'LSM6DSL Gyro': 100, 'BMP390': 100, 'GPS,Power': 1},\n",
    "    'ground': {'LSM6DSL Acc': 1, 'LSM6DSL Gyro': 0, 'BMP390': 1/60, 'GPS,Power': 1/60}\n",
    "}\n",
    "\n",
    "\n",
    "timestamp_size_bytes = 4\n",
    "\n",
    "flash_chip_size_bytes = 128 * 1024 * 1024 / 8\n"
   ]
  },
  {
   "cell_type": "code",
   "execution_count": 163,
   "metadata": {},
   "outputs": [],
   "source": [
    "# Deployment Mod\n",
    "# measurement_sizes = {\n",
    "#     'BMP390 Temperature': 4,\n",
    "#     'BMP390 Pressure': 4,\n",
    "#     'LSM6DSO Acc': 4*3,\n",
    "#     'LSM6DSO Gyro': 4*3,\n",
    "#     'MS5611 Press': 4,\n",
    "#     'MS5611 Temp': 4,\n",
    "# }\n",
    "# groups = {\n",
    "#     'MS5611': ['MS5611 Press', 'MS5611 Temp'],\n",
    "#     'LSM6DSO': ['LSM6DSO Acc', 'LSM6DSO Gyro'],\n",
    "#     'BMP390': ['BMP390 Temperature', 'BMP390 Pressure'],\n",
    "# }\n",
    "\n",
    "# # ms\n",
    "# stages = [\n",
    "#     ['boost', 3],\n",
    "#     ['ascent', 30],\n",
    "#     ['flight', 302],\n",
    "# ]\n",
    "\n",
    "# stage_rates = {\n",
    "#     'boost': {'MS5611': 1024, 'LSM6DSO': 416, 'BMP390': 50},\n",
    "#     'ascent': {'MS5611': 1024, 'LSM6DSO': 208, 'BMP390': 180},\n",
    "#     'flight': {'MS5611': 512, 'LSM6DSO': 52, 'BMP390': 50},\n",
    "# }\n",
    "\n",
    "\n",
    "# timestamp_size_bytes = 4\n",
    "\n",
    "# flash_chip_size_bytes = 128 * 1024 * 1024"
   ]
  },
  {
   "cell_type": "code",
   "execution_count": 164,
   "metadata": {},
   "outputs": [],
   "source": [
    "sizedf = pd.DataFrame.from_dict(\n",
    "    measurement_sizes, orient='index', columns=['size_bytes'])\n",
    "\n",
    "stageratedf = pd.DataFrame.from_dict(stage_rates).T\n",
    "\n",
    "stagelendf = pd.DataFrame.from_records(\n",
    "    stages, columns=['stage', 'time_s'], index='stage')\n",
    "\n",
    "packetsizedf = pd.DataFrame.from_records([(groupname, sum([measurement_sizes[sensor] for sensor in groups[groupname]]))\n",
    "                                         for groupname in groups.keys()], columns=['group', 'data'], index='group')\n",
    "packetsizedf['timestamp'] = timestamp_size_bytes\n"
   ]
  },
  {
   "cell_type": "code",
   "execution_count": 165,
   "metadata": {},
   "outputs": [],
   "source": [
    "combined = stageratedf.stack().to_frame(name='read_rate')\n",
    "combined.index.set_names(['stage', 'group'], inplace=True)\n",
    "\n",
    "totals = combined.join(packetsizedf) \\\n",
    "    .apply(lambda r: [r['read_rate'] * r['data'], r['read_rate'] * r['timestamp']], axis=1, result_type='expand') \\\n",
    "    .rename(columns={0: 'data', 1: 'timestamp'}).stack().rename('rate').rename_axis(['stage', 'group', 'part']).to_frame()\n",
    "\n",
    "rates = combined.join(packetsizedf) \\\n",
    "    .apply(lambda r: [r['read_rate'] * r['data'], r['read_rate'] * r['timestamp']], axis=1, result_type='expand') \\\n",
    "    .rename(columns={0: 'data', 1: 'timestamp'}).stack().rename('rate').rename_axis(['stage', 'group', 'part']).to_frame()\n"
   ]
  },
  {
   "cell_type": "code",
   "execution_count": 166,
   "metadata": {},
   "outputs": [],
   "source": [
    "packetsizedf['size_with_ts'] = packetsizedf['data']  + packetsizedf['timestamp']"
   ]
  },
  {
   "cell_type": "code",
   "execution_count": 167,
   "metadata": {},
   "outputs": [
    {
     "data": {
      "text/html": [
       "<div>\n",
       "<style scoped>\n",
       "    .dataframe tbody tr th:only-of-type {\n",
       "        vertical-align: middle;\n",
       "    }\n",
       "\n",
       "    .dataframe tbody tr th {\n",
       "        vertical-align: top;\n",
       "    }\n",
       "\n",
       "    .dataframe thead th {\n",
       "        text-align: right;\n",
       "    }\n",
       "</style>\n",
       "<table border=\"1\" class=\"dataframe\">\n",
       "  <thead>\n",
       "    <tr style=\"text-align: right;\">\n",
       "      <th></th>\n",
       "      <th></th>\n",
       "      <th>read_rate</th>\n",
       "    </tr>\n",
       "    <tr>\n",
       "      <th>stage</th>\n",
       "      <th>group</th>\n",
       "      <th></th>\n",
       "    </tr>\n",
       "  </thead>\n",
       "  <tbody>\n",
       "    <tr>\n",
       "      <th rowspan=\"4\" valign=\"top\">boost</th>\n",
       "      <th>LSM6DSL Acc</th>\n",
       "      <td>1000.000000</td>\n",
       "    </tr>\n",
       "    <tr>\n",
       "      <th>LSM6DSL Gyro</th>\n",
       "      <td>1000.000000</td>\n",
       "    </tr>\n",
       "    <tr>\n",
       "      <th>BMP390</th>\n",
       "      <td>100.000000</td>\n",
       "    </tr>\n",
       "    <tr>\n",
       "      <th>GPS,Power</th>\n",
       "      <td>1.000000</td>\n",
       "    </tr>\n",
       "    <tr>\n",
       "      <th rowspan=\"4\" valign=\"top\">flight</th>\n",
       "      <th>LSM6DSL Acc</th>\n",
       "      <td>100.000000</td>\n",
       "    </tr>\n",
       "    <tr>\n",
       "      <th>LSM6DSL Gyro</th>\n",
       "      <td>100.000000</td>\n",
       "    </tr>\n",
       "    <tr>\n",
       "      <th>BMP390</th>\n",
       "      <td>100.000000</td>\n",
       "    </tr>\n",
       "    <tr>\n",
       "      <th>GPS,Power</th>\n",
       "      <td>1.000000</td>\n",
       "    </tr>\n",
       "    <tr>\n",
       "      <th rowspan=\"4\" valign=\"top\">ground</th>\n",
       "      <th>LSM6DSL Acc</th>\n",
       "      <td>1.000000</td>\n",
       "    </tr>\n",
       "    <tr>\n",
       "      <th>LSM6DSL Gyro</th>\n",
       "      <td>0.000000</td>\n",
       "    </tr>\n",
       "    <tr>\n",
       "      <th>BMP390</th>\n",
       "      <td>0.016667</td>\n",
       "    </tr>\n",
       "    <tr>\n",
       "      <th>GPS,Power</th>\n",
       "      <td>0.016667</td>\n",
       "    </tr>\n",
       "  </tbody>\n",
       "</table>\n",
       "</div>"
      ],
      "text/plain": [
       "                       read_rate\n",
       "stage  group                    \n",
       "boost  LSM6DSL Acc   1000.000000\n",
       "       LSM6DSL Gyro  1000.000000\n",
       "       BMP390         100.000000\n",
       "       GPS,Power        1.000000\n",
       "flight LSM6DSL Acc    100.000000\n",
       "       LSM6DSL Gyro   100.000000\n",
       "       BMP390         100.000000\n",
       "       GPS,Power        1.000000\n",
       "ground LSM6DSL Acc      1.000000\n",
       "       LSM6DSL Gyro     0.000000\n",
       "       BMP390           0.016667\n",
       "       GPS,Power        0.016667"
      ]
     },
     "execution_count": 167,
     "metadata": {},
     "output_type": "execute_result"
    }
   ],
   "source": [
    "combined\n"
   ]
  },
  {
   "cell_type": "code",
   "execution_count": 168,
   "metadata": {},
   "outputs": [],
   "source": [
    "combined['data_byte_rate'] = combined['read_rate'].mul(\n",
    "    packetsizedf['data'], level=1)\n",
    "combined['timestamp_byte_rate'] = combined['read_rate'].mul(\n",
    "    timestamp_size_bytes)\n",
    "combined['packet_byte_rate'] = combined['read_rate'].mul(\n",
    "    packetsizedf['size_with_ts'], level=1)\n"
   ]
  },
  {
   "cell_type": "code",
   "execution_count": 169,
   "metadata": {},
   "outputs": [
    {
     "data": {
      "text/html": [
       "<div>\n",
       "<style scoped>\n",
       "    .dataframe tbody tr th:only-of-type {\n",
       "        vertical-align: middle;\n",
       "    }\n",
       "\n",
       "    .dataframe tbody tr th {\n",
       "        vertical-align: top;\n",
       "    }\n",
       "\n",
       "    .dataframe thead th {\n",
       "        text-align: right;\n",
       "    }\n",
       "</style>\n",
       "<table border=\"1\" class=\"dataframe\">\n",
       "  <thead>\n",
       "    <tr style=\"text-align: right;\">\n",
       "      <th></th>\n",
       "      <th></th>\n",
       "      <th>read_rate</th>\n",
       "      <th>data_byte_rate</th>\n",
       "      <th>timestamp_byte_rate</th>\n",
       "      <th>packet_byte_rate</th>\n",
       "    </tr>\n",
       "    <tr>\n",
       "      <th>stage</th>\n",
       "      <th>group</th>\n",
       "      <th></th>\n",
       "      <th></th>\n",
       "      <th></th>\n",
       "      <th></th>\n",
       "    </tr>\n",
       "  </thead>\n",
       "  <tbody>\n",
       "    <tr>\n",
       "      <th rowspan=\"4\" valign=\"top\">boost</th>\n",
       "      <th>LSM6DSL Acc</th>\n",
       "      <td>1000.000000</td>\n",
       "      <td>12000.000000</td>\n",
       "      <td>4000.000000</td>\n",
       "      <td>16000.000000</td>\n",
       "    </tr>\n",
       "    <tr>\n",
       "      <th>LSM6DSL Gyro</th>\n",
       "      <td>1000.000000</td>\n",
       "      <td>12000.000000</td>\n",
       "      <td>4000.000000</td>\n",
       "      <td>16000.000000</td>\n",
       "    </tr>\n",
       "    <tr>\n",
       "      <th>BMP390</th>\n",
       "      <td>100.000000</td>\n",
       "      <td>400.000000</td>\n",
       "      <td>400.000000</td>\n",
       "      <td>800.000000</td>\n",
       "    </tr>\n",
       "    <tr>\n",
       "      <th>GPS,Power</th>\n",
       "      <td>1.000000</td>\n",
       "      <td>36.000000</td>\n",
       "      <td>4.000000</td>\n",
       "      <td>40.000000</td>\n",
       "    </tr>\n",
       "    <tr>\n",
       "      <th rowspan=\"4\" valign=\"top\">flight</th>\n",
       "      <th>LSM6DSL Acc</th>\n",
       "      <td>100.000000</td>\n",
       "      <td>1200.000000</td>\n",
       "      <td>400.000000</td>\n",
       "      <td>1600.000000</td>\n",
       "    </tr>\n",
       "    <tr>\n",
       "      <th>LSM6DSL Gyro</th>\n",
       "      <td>100.000000</td>\n",
       "      <td>1200.000000</td>\n",
       "      <td>400.000000</td>\n",
       "      <td>1600.000000</td>\n",
       "    </tr>\n",
       "    <tr>\n",
       "      <th>BMP390</th>\n",
       "      <td>100.000000</td>\n",
       "      <td>400.000000</td>\n",
       "      <td>400.000000</td>\n",
       "      <td>800.000000</td>\n",
       "    </tr>\n",
       "    <tr>\n",
       "      <th>GPS,Power</th>\n",
       "      <td>1.000000</td>\n",
       "      <td>36.000000</td>\n",
       "      <td>4.000000</td>\n",
       "      <td>40.000000</td>\n",
       "    </tr>\n",
       "    <tr>\n",
       "      <th rowspan=\"4\" valign=\"top\">ground</th>\n",
       "      <th>LSM6DSL Acc</th>\n",
       "      <td>1.000000</td>\n",
       "      <td>12.000000</td>\n",
       "      <td>4.000000</td>\n",
       "      <td>16.000000</td>\n",
       "    </tr>\n",
       "    <tr>\n",
       "      <th>LSM6DSL Gyro</th>\n",
       "      <td>0.000000</td>\n",
       "      <td>0.000000</td>\n",
       "      <td>0.000000</td>\n",
       "      <td>0.000000</td>\n",
       "    </tr>\n",
       "    <tr>\n",
       "      <th>BMP390</th>\n",
       "      <td>0.016667</td>\n",
       "      <td>0.066667</td>\n",
       "      <td>0.066667</td>\n",
       "      <td>0.133333</td>\n",
       "    </tr>\n",
       "    <tr>\n",
       "      <th>GPS,Power</th>\n",
       "      <td>0.016667</td>\n",
       "      <td>0.600000</td>\n",
       "      <td>0.066667</td>\n",
       "      <td>0.666667</td>\n",
       "    </tr>\n",
       "  </tbody>\n",
       "</table>\n",
       "</div>"
      ],
      "text/plain": [
       "                       read_rate  data_byte_rate  timestamp_byte_rate  \\\n",
       "stage  group                                                            \n",
       "boost  LSM6DSL Acc   1000.000000    12000.000000          4000.000000   \n",
       "       LSM6DSL Gyro  1000.000000    12000.000000          4000.000000   \n",
       "       BMP390         100.000000      400.000000           400.000000   \n",
       "       GPS,Power        1.000000       36.000000             4.000000   \n",
       "flight LSM6DSL Acc    100.000000     1200.000000           400.000000   \n",
       "       LSM6DSL Gyro   100.000000     1200.000000           400.000000   \n",
       "       BMP390         100.000000      400.000000           400.000000   \n",
       "       GPS,Power        1.000000       36.000000             4.000000   \n",
       "ground LSM6DSL Acc      1.000000       12.000000             4.000000   \n",
       "       LSM6DSL Gyro     0.000000        0.000000             0.000000   \n",
       "       BMP390           0.016667        0.066667             0.066667   \n",
       "       GPS,Power        0.016667        0.600000             0.066667   \n",
       "\n",
       "                     packet_byte_rate  \n",
       "stage  group                           \n",
       "boost  LSM6DSL Acc       16000.000000  \n",
       "       LSM6DSL Gyro      16000.000000  \n",
       "       BMP390              800.000000  \n",
       "       GPS,Power            40.000000  \n",
       "flight LSM6DSL Acc        1600.000000  \n",
       "       LSM6DSL Gyro       1600.000000  \n",
       "       BMP390              800.000000  \n",
       "       GPS,Power            40.000000  \n",
       "ground LSM6DSL Acc          16.000000  \n",
       "       LSM6DSL Gyro          0.000000  \n",
       "       BMP390                0.133333  \n",
       "       GPS,Power             0.666667  "
      ]
     },
     "execution_count": 169,
     "metadata": {},
     "output_type": "execute_result"
    }
   ],
   "source": [
    "combined"
   ]
  },
  {
   "cell_type": "code",
   "execution_count": 170,
   "metadata": {},
   "outputs": [],
   "source": [
    "combined['num_samples'] = combined['read_rate'].mul(\n",
    "    stagelendf['time_s']).astype(int)\n",
    "combined['data_total_bytes'] = combined['num_samples'].mul(\n",
    "    packetsizedf['size_with_ts'], level=1).astype(int)\n",
    "combined['timestamp_total_bytes'] = combined['num_samples'].mul(\n",
    "    timestamp_size_bytes).astype(int)\n",
    "combined['packet_total_bytes'] = combined['data_total_bytes'] + combined['timestamp_total_bytes']"
   ]
  },
  {
   "cell_type": "code",
   "execution_count": 171,
   "metadata": {},
   "outputs": [
    {
     "data": {
      "text/html": [
       "<div>\n",
       "<style scoped>\n",
       "    .dataframe tbody tr th:only-of-type {\n",
       "        vertical-align: middle;\n",
       "    }\n",
       "\n",
       "    .dataframe tbody tr th {\n",
       "        vertical-align: top;\n",
       "    }\n",
       "\n",
       "    .dataframe thead th {\n",
       "        text-align: right;\n",
       "    }\n",
       "</style>\n",
       "<table border=\"1\" class=\"dataframe\">\n",
       "  <thead>\n",
       "    <tr style=\"text-align: right;\">\n",
       "      <th></th>\n",
       "      <th>data_total_bytes</th>\n",
       "      <th>timestamp_total_bytes</th>\n",
       "      <th>packet_total_bytes</th>\n",
       "    </tr>\n",
       "  </thead>\n",
       "  <tbody>\n",
       "    <tr>\n",
       "      <th>total</th>\n",
       "      <td>2883240.0</td>\n",
       "      <td>779652.0</td>\n",
       "      <td>3662892.0</td>\n",
       "    </tr>\n",
       "  </tbody>\n",
       "</table>\n",
       "</div>"
      ],
      "text/plain": [
       "       data_total_bytes  timestamp_total_bytes  packet_total_bytes\n",
       "total         2883240.0               779652.0           3662892.0"
      ]
     },
     "execution_count": 171,
     "metadata": {},
     "output_type": "execute_result"
    }
   ],
   "source": [
    "\n",
    "totals = combined.sum().to_frame(\n",
    "    'total').T[['data_total_bytes', 'timestamp_total_bytes', 'packet_total_bytes']]\n",
    "totals\n"
   ]
  },
  {
   "cell_type": "code",
   "execution_count": 172,
   "metadata": {},
   "outputs": [],
   "source": [
    "def littlefs_overhead(length):\n",
    "    return length * 1.01 + 2048"
   ]
  },
  {
   "cell_type": "code",
   "execution_count": 173,
   "metadata": {},
   "outputs": [
    {
     "data": {
      "text/html": [
       "<div>\n",
       "<style scoped>\n",
       "    .dataframe tbody tr th:only-of-type {\n",
       "        vertical-align: middle;\n",
       "    }\n",
       "\n",
       "    .dataframe tbody tr th {\n",
       "        vertical-align: top;\n",
       "    }\n",
       "\n",
       "    .dataframe thead th {\n",
       "        text-align: right;\n",
       "    }\n",
       "</style>\n",
       "<table border=\"1\" class=\"dataframe\">\n",
       "  <thead>\n",
       "    <tr style=\"text-align: right;\">\n",
       "      <th></th>\n",
       "      <th>data_total_bytes</th>\n",
       "      <th>timestamp_total_bytes</th>\n",
       "      <th>packet_total_bytes</th>\n",
       "    </tr>\n",
       "  </thead>\n",
       "  <tbody>\n",
       "    <tr>\n",
       "      <th>Including Overhead (B)</th>\n",
       "      <td>2914120.000</td>\n",
       "      <td>789496.000</td>\n",
       "      <td>3701568.000</td>\n",
       "    </tr>\n",
       "    <tr>\n",
       "      <th>Including Overhead (MB)</th>\n",
       "      <td>2.779</td>\n",
       "      <td>0.753</td>\n",
       "      <td>3.530</td>\n",
       "    </tr>\n",
       "  </tbody>\n",
       "</table>\n",
       "</div>"
      ],
      "text/plain": [
       "                        data_total_bytes timestamp_total_bytes  \\\n",
       "Including Overhead (B)       2914120.000            789496.000   \n",
       "Including Overhead (MB)            2.779                 0.753   \n",
       "\n",
       "                        packet_total_bytes  \n",
       "Including Overhead (B)         3701568.000  \n",
       "Including Overhead (MB)              3.530  "
      ]
     },
     "execution_count": 173,
     "metadata": {},
     "output_type": "execute_result"
    }
   ],
   "source": [
    "overhead = pd.concat([totals.map(lambda x : int(littlefs_overhead(x))).rename({'total': 'Including Overhead (B)'}), \\\n",
    "totals.map(lambda x : int(littlefs_overhead(x))/(1024*1024)).rename({'total': 'Including Overhead (MB)'})])\n",
    "bytes_used_including_overhead = overhead['packet_total_bytes']['Including Overhead (B)']\n",
    "overhead = overhead.map(lambda f : f\"{f:.3f}\")\n",
    "\n",
    "overhead"
   ]
  },
  {
   "cell_type": "code",
   "execution_count": 174,
   "metadata": {},
   "outputs": [
    {
     "data": {
      "text/html": [
       "<div>\n",
       "<style scoped>\n",
       "    .dataframe tbody tr th:only-of-type {\n",
       "        vertical-align: middle;\n",
       "    }\n",
       "\n",
       "    .dataframe tbody tr th {\n",
       "        vertical-align: top;\n",
       "    }\n",
       "\n",
       "    .dataframe thead th {\n",
       "        text-align: right;\n",
       "    }\n",
       "</style>\n",
       "<table border=\"1\" class=\"dataframe\">\n",
       "  <thead>\n",
       "    <tr style=\"text-align: right;\">\n",
       "      <th></th>\n",
       "      <th></th>\n",
       "      <th>read_rate</th>\n",
       "      <th>data_byte_rate</th>\n",
       "      <th>timestamp_byte_rate</th>\n",
       "      <th>packet_byte_rate</th>\n",
       "      <th>num_samples</th>\n",
       "      <th>data_total_bytes</th>\n",
       "      <th>timestamp_total_bytes</th>\n",
       "      <th>packet_total_bytes</th>\n",
       "    </tr>\n",
       "    <tr>\n",
       "      <th>stage</th>\n",
       "      <th>group</th>\n",
       "      <th></th>\n",
       "      <th></th>\n",
       "      <th></th>\n",
       "      <th></th>\n",
       "      <th></th>\n",
       "      <th></th>\n",
       "      <th></th>\n",
       "      <th></th>\n",
       "    </tr>\n",
       "  </thead>\n",
       "  <tbody>\n",
       "    <tr>\n",
       "      <th rowspan=\"4\" valign=\"top\">boost</th>\n",
       "      <th>LSM6DSL Acc</th>\n",
       "      <td>1000.000000</td>\n",
       "      <td>12000.000000</td>\n",
       "      <td>4000.000000</td>\n",
       "      <td>16000.000000</td>\n",
       "      <td>3000</td>\n",
       "      <td>48000</td>\n",
       "      <td>12000</td>\n",
       "      <td>60000</td>\n",
       "    </tr>\n",
       "    <tr>\n",
       "      <th>LSM6DSL Gyro</th>\n",
       "      <td>1000.000000</td>\n",
       "      <td>12000.000000</td>\n",
       "      <td>4000.000000</td>\n",
       "      <td>16000.000000</td>\n",
       "      <td>3000</td>\n",
       "      <td>48000</td>\n",
       "      <td>12000</td>\n",
       "      <td>60000</td>\n",
       "    </tr>\n",
       "    <tr>\n",
       "      <th>BMP390</th>\n",
       "      <td>100.000000</td>\n",
       "      <td>400.000000</td>\n",
       "      <td>400.000000</td>\n",
       "      <td>800.000000</td>\n",
       "      <td>300</td>\n",
       "      <td>2400</td>\n",
       "      <td>1200</td>\n",
       "      <td>3600</td>\n",
       "    </tr>\n",
       "    <tr>\n",
       "      <th>GPS,Power</th>\n",
       "      <td>1.000000</td>\n",
       "      <td>36.000000</td>\n",
       "      <td>4.000000</td>\n",
       "      <td>40.000000</td>\n",
       "      <td>3</td>\n",
       "      <td>120</td>\n",
       "      <td>12</td>\n",
       "      <td>132</td>\n",
       "    </tr>\n",
       "    <tr>\n",
       "      <th rowspan=\"4\" valign=\"top\">flight</th>\n",
       "      <th>LSM6DSL Acc</th>\n",
       "      <td>100.000000</td>\n",
       "      <td>1200.000000</td>\n",
       "      <td>400.000000</td>\n",
       "      <td>1600.000000</td>\n",
       "      <td>33000</td>\n",
       "      <td>528000</td>\n",
       "      <td>132000</td>\n",
       "      <td>660000</td>\n",
       "    </tr>\n",
       "    <tr>\n",
       "      <th>LSM6DSL Gyro</th>\n",
       "      <td>100.000000</td>\n",
       "      <td>1200.000000</td>\n",
       "      <td>400.000000</td>\n",
       "      <td>1600.000000</td>\n",
       "      <td>33000</td>\n",
       "      <td>528000</td>\n",
       "      <td>132000</td>\n",
       "      <td>660000</td>\n",
       "    </tr>\n",
       "    <tr>\n",
       "      <th>BMP390</th>\n",
       "      <td>100.000000</td>\n",
       "      <td>400.000000</td>\n",
       "      <td>400.000000</td>\n",
       "      <td>800.000000</td>\n",
       "      <td>33000</td>\n",
       "      <td>264000</td>\n",
       "      <td>132000</td>\n",
       "      <td>396000</td>\n",
       "    </tr>\n",
       "    <tr>\n",
       "      <th>GPS,Power</th>\n",
       "      <td>1.000000</td>\n",
       "      <td>36.000000</td>\n",
       "      <td>4.000000</td>\n",
       "      <td>40.000000</td>\n",
       "      <td>330</td>\n",
       "      <td>13200</td>\n",
       "      <td>1320</td>\n",
       "      <td>14520</td>\n",
       "    </tr>\n",
       "    <tr>\n",
       "      <th rowspan=\"4\" valign=\"top\">ground</th>\n",
       "      <th>LSM6DSL Acc</th>\n",
       "      <td>1.000000</td>\n",
       "      <td>12.000000</td>\n",
       "      <td>4.000000</td>\n",
       "      <td>16.000000</td>\n",
       "      <td>86400</td>\n",
       "      <td>1382400</td>\n",
       "      <td>345600</td>\n",
       "      <td>1728000</td>\n",
       "    </tr>\n",
       "    <tr>\n",
       "      <th>LSM6DSL Gyro</th>\n",
       "      <td>0.000000</td>\n",
       "      <td>0.000000</td>\n",
       "      <td>0.000000</td>\n",
       "      <td>0.000000</td>\n",
       "      <td>0</td>\n",
       "      <td>0</td>\n",
       "      <td>0</td>\n",
       "      <td>0</td>\n",
       "    </tr>\n",
       "    <tr>\n",
       "      <th>BMP390</th>\n",
       "      <td>0.016667</td>\n",
       "      <td>0.066667</td>\n",
       "      <td>0.066667</td>\n",
       "      <td>0.133333</td>\n",
       "      <td>1440</td>\n",
       "      <td>11520</td>\n",
       "      <td>5760</td>\n",
       "      <td>17280</td>\n",
       "    </tr>\n",
       "    <tr>\n",
       "      <th>GPS,Power</th>\n",
       "      <td>0.016667</td>\n",
       "      <td>0.600000</td>\n",
       "      <td>0.066667</td>\n",
       "      <td>0.666667</td>\n",
       "      <td>1440</td>\n",
       "      <td>57600</td>\n",
       "      <td>5760</td>\n",
       "      <td>63360</td>\n",
       "    </tr>\n",
       "  </tbody>\n",
       "</table>\n",
       "</div>"
      ],
      "text/plain": [
       "                       read_rate  data_byte_rate  timestamp_byte_rate  \\\n",
       "stage  group                                                            \n",
       "boost  LSM6DSL Acc   1000.000000    12000.000000          4000.000000   \n",
       "       LSM6DSL Gyro  1000.000000    12000.000000          4000.000000   \n",
       "       BMP390         100.000000      400.000000           400.000000   \n",
       "       GPS,Power        1.000000       36.000000             4.000000   \n",
       "flight LSM6DSL Acc    100.000000     1200.000000           400.000000   \n",
       "       LSM6DSL Gyro   100.000000     1200.000000           400.000000   \n",
       "       BMP390         100.000000      400.000000           400.000000   \n",
       "       GPS,Power        1.000000       36.000000             4.000000   \n",
       "ground LSM6DSL Acc      1.000000       12.000000             4.000000   \n",
       "       LSM6DSL Gyro     0.000000        0.000000             0.000000   \n",
       "       BMP390           0.016667        0.066667             0.066667   \n",
       "       GPS,Power        0.016667        0.600000             0.066667   \n",
       "\n",
       "                     packet_byte_rate  num_samples  data_total_bytes  \\\n",
       "stage  group                                                           \n",
       "boost  LSM6DSL Acc       16000.000000         3000             48000   \n",
       "       LSM6DSL Gyro      16000.000000         3000             48000   \n",
       "       BMP390              800.000000          300              2400   \n",
       "       GPS,Power            40.000000            3               120   \n",
       "flight LSM6DSL Acc        1600.000000        33000            528000   \n",
       "       LSM6DSL Gyro       1600.000000        33000            528000   \n",
       "       BMP390              800.000000        33000            264000   \n",
       "       GPS,Power            40.000000          330             13200   \n",
       "ground LSM6DSL Acc          16.000000        86400           1382400   \n",
       "       LSM6DSL Gyro          0.000000            0                 0   \n",
       "       BMP390                0.133333         1440             11520   \n",
       "       GPS,Power             0.666667         1440             57600   \n",
       "\n",
       "                     timestamp_total_bytes  packet_total_bytes  \n",
       "stage  group                                                    \n",
       "boost  LSM6DSL Acc                   12000               60000  \n",
       "       LSM6DSL Gyro                  12000               60000  \n",
       "       BMP390                         1200                3600  \n",
       "       GPS,Power                        12                 132  \n",
       "flight LSM6DSL Acc                  132000              660000  \n",
       "       LSM6DSL Gyro                 132000              660000  \n",
       "       BMP390                       132000              396000  \n",
       "       GPS,Power                      1320               14520  \n",
       "ground LSM6DSL Acc                  345600             1728000  \n",
       "       LSM6DSL Gyro                      0                   0  \n",
       "       BMP390                         5760               17280  \n",
       "       GPS,Power                      5760               63360  "
      ]
     },
     "execution_count": 174,
     "metadata": {},
     "output_type": "execute_result"
    }
   ],
   "source": [
    "combined\n"
   ]
  },
  {
   "cell_type": "code",
   "execution_count": 175,
   "metadata": {},
   "outputs": [
    {
     "data": {
      "text/html": [
       "<div>\n",
       "<style scoped>\n",
       "    .dataframe tbody tr th:only-of-type {\n",
       "        vertical-align: middle;\n",
       "    }\n",
       "\n",
       "    .dataframe tbody tr th {\n",
       "        vertical-align: top;\n",
       "    }\n",
       "\n",
       "    .dataframe thead th {\n",
       "        text-align: right;\n",
       "    }\n",
       "</style>\n",
       "<table border=\"1\" class=\"dataframe\">\n",
       "  <thead>\n",
       "    <tr style=\"text-align: right;\">\n",
       "      <th></th>\n",
       "      <th></th>\n",
       "      <th>Sampling Rate (hz)</th>\n",
       "      <th>Data Rate (b/s)</th>\n",
       "      <th>Timestamp Rate (b/s)</th>\n",
       "      <th>Packet Rate (b/s)</th>\n",
       "      <th>Total Samples</th>\n",
       "      <th>Total Sensor Data (b)</th>\n",
       "      <th>Total Timestamp Data (b)</th>\n",
       "      <th>Total Data (b)</th>\n",
       "    </tr>\n",
       "    <tr>\n",
       "      <th>stage</th>\n",
       "      <th>group</th>\n",
       "      <th></th>\n",
       "      <th></th>\n",
       "      <th></th>\n",
       "      <th></th>\n",
       "      <th></th>\n",
       "      <th></th>\n",
       "      <th></th>\n",
       "      <th></th>\n",
       "    </tr>\n",
       "  </thead>\n",
       "  <tbody>\n",
       "    <tr>\n",
       "      <th rowspan=\"4\" valign=\"top\">boost (3s)</th>\n",
       "      <th>LSM6DSL Acc</th>\n",
       "      <td>1000.000000</td>\n",
       "      <td>12000.000000</td>\n",
       "      <td>4000.000000</td>\n",
       "      <td>16000.000000</td>\n",
       "      <td>3000</td>\n",
       "      <td>48000</td>\n",
       "      <td>12000</td>\n",
       "      <td>60000</td>\n",
       "    </tr>\n",
       "    <tr>\n",
       "      <th>LSM6DSL Gyro</th>\n",
       "      <td>1000.000000</td>\n",
       "      <td>12000.000000</td>\n",
       "      <td>4000.000000</td>\n",
       "      <td>16000.000000</td>\n",
       "      <td>3000</td>\n",
       "      <td>48000</td>\n",
       "      <td>12000</td>\n",
       "      <td>60000</td>\n",
       "    </tr>\n",
       "    <tr>\n",
       "      <th>BMP390</th>\n",
       "      <td>100.000000</td>\n",
       "      <td>400.000000</td>\n",
       "      <td>400.000000</td>\n",
       "      <td>800.000000</td>\n",
       "      <td>300</td>\n",
       "      <td>2400</td>\n",
       "      <td>1200</td>\n",
       "      <td>3600</td>\n",
       "    </tr>\n",
       "    <tr>\n",
       "      <th>GPS,Power</th>\n",
       "      <td>1.000000</td>\n",
       "      <td>36.000000</td>\n",
       "      <td>4.000000</td>\n",
       "      <td>40.000000</td>\n",
       "      <td>3</td>\n",
       "      <td>120</td>\n",
       "      <td>12</td>\n",
       "      <td>132</td>\n",
       "    </tr>\n",
       "    <tr>\n",
       "      <th rowspan=\"4\" valign=\"top\">flight (330s)</th>\n",
       "      <th>LSM6DSL Acc</th>\n",
       "      <td>100.000000</td>\n",
       "      <td>1200.000000</td>\n",
       "      <td>400.000000</td>\n",
       "      <td>1600.000000</td>\n",
       "      <td>33000</td>\n",
       "      <td>528000</td>\n",
       "      <td>132000</td>\n",
       "      <td>660000</td>\n",
       "    </tr>\n",
       "    <tr>\n",
       "      <th>LSM6DSL Gyro</th>\n",
       "      <td>100.000000</td>\n",
       "      <td>1200.000000</td>\n",
       "      <td>400.000000</td>\n",
       "      <td>1600.000000</td>\n",
       "      <td>33000</td>\n",
       "      <td>528000</td>\n",
       "      <td>132000</td>\n",
       "      <td>660000</td>\n",
       "    </tr>\n",
       "    <tr>\n",
       "      <th>BMP390</th>\n",
       "      <td>100.000000</td>\n",
       "      <td>400.000000</td>\n",
       "      <td>400.000000</td>\n",
       "      <td>800.000000</td>\n",
       "      <td>33000</td>\n",
       "      <td>264000</td>\n",
       "      <td>132000</td>\n",
       "      <td>396000</td>\n",
       "    </tr>\n",
       "    <tr>\n",
       "      <th>GPS,Power</th>\n",
       "      <td>1.000000</td>\n",
       "      <td>36.000000</td>\n",
       "      <td>4.000000</td>\n",
       "      <td>40.000000</td>\n",
       "      <td>330</td>\n",
       "      <td>13200</td>\n",
       "      <td>1320</td>\n",
       "      <td>14520</td>\n",
       "    </tr>\n",
       "    <tr>\n",
       "      <th rowspan=\"4\" valign=\"top\">ground (86400s)</th>\n",
       "      <th>LSM6DSL Acc</th>\n",
       "      <td>1.000000</td>\n",
       "      <td>12.000000</td>\n",
       "      <td>4.000000</td>\n",
       "      <td>16.000000</td>\n",
       "      <td>86400</td>\n",
       "      <td>1382400</td>\n",
       "      <td>345600</td>\n",
       "      <td>1728000</td>\n",
       "    </tr>\n",
       "    <tr>\n",
       "      <th>LSM6DSL Gyro</th>\n",
       "      <td>0.000000</td>\n",
       "      <td>0.000000</td>\n",
       "      <td>0.000000</td>\n",
       "      <td>0.000000</td>\n",
       "      <td>0</td>\n",
       "      <td>0</td>\n",
       "      <td>0</td>\n",
       "      <td>0</td>\n",
       "    </tr>\n",
       "    <tr>\n",
       "      <th>BMP390</th>\n",
       "      <td>0.016667</td>\n",
       "      <td>0.066667</td>\n",
       "      <td>0.066667</td>\n",
       "      <td>0.133333</td>\n",
       "      <td>1440</td>\n",
       "      <td>11520</td>\n",
       "      <td>5760</td>\n",
       "      <td>17280</td>\n",
       "    </tr>\n",
       "    <tr>\n",
       "      <th>GPS,Power</th>\n",
       "      <td>0.016667</td>\n",
       "      <td>0.600000</td>\n",
       "      <td>0.066667</td>\n",
       "      <td>0.666667</td>\n",
       "      <td>1440</td>\n",
       "      <td>57600</td>\n",
       "      <td>5760</td>\n",
       "      <td>63360</td>\n",
       "    </tr>\n",
       "  </tbody>\n",
       "</table>\n",
       "</div>"
      ],
      "text/plain": [
       "                              Sampling Rate (hz)  Data Rate (b/s)  \\\n",
       "stage           group                                               \n",
       "boost (3s)      LSM6DSL Acc          1000.000000     12000.000000   \n",
       "                LSM6DSL Gyro         1000.000000     12000.000000   \n",
       "                BMP390                100.000000       400.000000   \n",
       "                GPS,Power               1.000000        36.000000   \n",
       "flight (330s)   LSM6DSL Acc           100.000000      1200.000000   \n",
       "                LSM6DSL Gyro          100.000000      1200.000000   \n",
       "                BMP390                100.000000       400.000000   \n",
       "                GPS,Power               1.000000        36.000000   \n",
       "ground (86400s) LSM6DSL Acc             1.000000        12.000000   \n",
       "                LSM6DSL Gyro            0.000000         0.000000   \n",
       "                BMP390                  0.016667         0.066667   \n",
       "                GPS,Power               0.016667         0.600000   \n",
       "\n",
       "                              Timestamp Rate (b/s)  Packet Rate (b/s)  \\\n",
       "stage           group                                                   \n",
       "boost (3s)      LSM6DSL Acc            4000.000000       16000.000000   \n",
       "                LSM6DSL Gyro           4000.000000       16000.000000   \n",
       "                BMP390                  400.000000         800.000000   \n",
       "                GPS,Power                 4.000000          40.000000   \n",
       "flight (330s)   LSM6DSL Acc             400.000000        1600.000000   \n",
       "                LSM6DSL Gyro            400.000000        1600.000000   \n",
       "                BMP390                  400.000000         800.000000   \n",
       "                GPS,Power                 4.000000          40.000000   \n",
       "ground (86400s) LSM6DSL Acc               4.000000          16.000000   \n",
       "                LSM6DSL Gyro              0.000000           0.000000   \n",
       "                BMP390                    0.066667           0.133333   \n",
       "                GPS,Power                 0.066667           0.666667   \n",
       "\n",
       "                              Total Samples  Total Sensor Data (b)  \\\n",
       "stage           group                                                \n",
       "boost (3s)      LSM6DSL Acc            3000                  48000   \n",
       "                LSM6DSL Gyro           3000                  48000   \n",
       "                BMP390                  300                   2400   \n",
       "                GPS,Power                 3                    120   \n",
       "flight (330s)   LSM6DSL Acc           33000                 528000   \n",
       "                LSM6DSL Gyro          33000                 528000   \n",
       "                BMP390                33000                 264000   \n",
       "                GPS,Power               330                  13200   \n",
       "ground (86400s) LSM6DSL Acc           86400                1382400   \n",
       "                LSM6DSL Gyro              0                      0   \n",
       "                BMP390                 1440                  11520   \n",
       "                GPS,Power              1440                  57600   \n",
       "\n",
       "                              Total Timestamp Data (b)  Total Data (b)  \n",
       "stage           group                                                   \n",
       "boost (3s)      LSM6DSL Acc                      12000           60000  \n",
       "                LSM6DSL Gyro                     12000           60000  \n",
       "                BMP390                            1200            3600  \n",
       "                GPS,Power                           12             132  \n",
       "flight (330s)   LSM6DSL Acc                     132000          660000  \n",
       "                LSM6DSL Gyro                    132000          660000  \n",
       "                BMP390                          132000          396000  \n",
       "                GPS,Power                         1320           14520  \n",
       "ground (86400s) LSM6DSL Acc                     345600         1728000  \n",
       "                LSM6DSL Gyro                         0               0  \n",
       "                BMP390                            5760           17280  \n",
       "                GPS,Power                         5760           63360  "
      ]
     },
     "execution_count": 175,
     "metadata": {},
     "output_type": "execute_result"
    }
   ],
   "source": [
    "forDisplay = combined.join(stagelendf).rename(columns={\n",
    "    'read_rate': 'Sampling Rate (hz)',\n",
    "    'data_byte_rate': \"Data Rate (b/s)\",\n",
    "    'timestamp_byte_rate': \"Timestamp Rate (b/s)\",\n",
    "    'packet_byte_rate': \"Packet Rate (b/s)\",\n",
    "    'num_samples': 'Total Samples',\n",
    "    'data_total_bytes': 'Total Sensor Data (b)',\n",
    "    'timestamp_total_bytes': 'Total Timestamp Data (b)',\n",
    "    'packet_total_bytes': 'Total Data (b)',\n",
    "    'time_s': 'Stage Time'\n",
    "})\n",
    "\n",
    "forDisplay.set_index(forDisplay.index.map(lambda r: (\n",
    "    f'{r[0]} ({stagelendf.loc[r[0]][\"time_s\"]}s)', r[1]))).drop(columns=['Stage Time'])\n"
   ]
  },
  {
   "cell_type": "code",
   "execution_count": 185,
   "metadata": {},
   "outputs": [
    {
     "data": {
      "text/html": [
       "<div>\n",
       "<style scoped>\n",
       "    .dataframe tbody tr th:only-of-type {\n",
       "        vertical-align: middle;\n",
       "    }\n",
       "\n",
       "    .dataframe tbody tr th {\n",
       "        vertical-align: top;\n",
       "    }\n",
       "\n",
       "    .dataframe thead th {\n",
       "        text-align: right;\n",
       "    }\n",
       "</style>\n",
       "<table border=\"1\" class=\"dataframe\">\n",
       "  <thead>\n",
       "    <tr style=\"text-align: right;\">\n",
       "      <th></th>\n",
       "      <th>Total Data (b)</th>\n",
       "    </tr>\n",
       "    <tr>\n",
       "      <th>stage</th>\n",
       "      <th></th>\n",
       "    </tr>\n",
       "  </thead>\n",
       "  <tbody>\n",
       "    <tr>\n",
       "      <th>boost</th>\n",
       "      <td>123732</td>\n",
       "    </tr>\n",
       "    <tr>\n",
       "      <th>flight</th>\n",
       "      <td>1730520</td>\n",
       "    </tr>\n",
       "    <tr>\n",
       "      <th>ground</th>\n",
       "      <td>1808640</td>\n",
       "    </tr>\n",
       "  </tbody>\n",
       "</table>\n",
       "</div>"
      ],
      "text/plain": [
       "        Total Data (b)\n",
       "stage                 \n",
       "boost           123732\n",
       "flight         1730520\n",
       "ground         1808640"
      ]
     },
     "execution_count": 185,
     "metadata": {},
     "output_type": "execute_result"
    }
   ],
   "source": [
    "forDisplay[['Total Data (b)']].groupby('stage').sum()"
   ]
  },
  {
   "cell_type": "code",
   "execution_count": 176,
   "metadata": {},
   "outputs": [],
   "source": [
    "totals2 = combined[['data_total_bytes', 'timestamp_total_bytes', 'packet_total_bytes']] \\\n",
    "    .rename(columns={'data_total_bytes': 'data', 'timestamp_total_bytes': 'timestamp', 'packet_total_bytes': 'packet'}) \\\n",
    "    .stack() \\\n",
    "    .rename('total') \\\n",
    "    .rename_axis(['stage', 'group', 'part']) \\\n",
    "    .to_frame()\n",
    "\n",
    "rates = combined[['data_byte_rate', 'timestamp_byte_rate', 'packet_byte_rate']] \\\n",
    "    .rename(columns={'data_byte_rate': 'data', 'timestamp_byte_rate': 'timestamp', 'packet_byte_rate': 'packet'}) \\\n",
    "    .stack() \\\n",
    "    .rename('rate') \\\n",
    "    .rename_axis(['stage', 'group', 'part']) \\\n",
    "    .to_frame()\n"
   ]
  },
  {
   "cell_type": "code",
   "execution_count": 177,
   "metadata": {},
   "outputs": [],
   "source": [
    "noind = totals2.join(rates).reset_index()\n",
    "parts = noind[noind['part'] != 'packet'].set_index(['stage', 'group', 'part'])"
   ]
  },
  {
   "cell_type": "code",
   "execution_count": 178,
   "metadata": {},
   "outputs": [
    {
     "data": {
      "text/html": [
       "<div>\n",
       "<style scoped>\n",
       "    .dataframe tbody tr th:only-of-type {\n",
       "        vertical-align: middle;\n",
       "    }\n",
       "\n",
       "    .dataframe tbody tr th {\n",
       "        vertical-align: top;\n",
       "    }\n",
       "\n",
       "    .dataframe thead tr th {\n",
       "        text-align: left;\n",
       "    }\n",
       "\n",
       "    .dataframe thead tr:last-of-type th {\n",
       "        text-align: right;\n",
       "    }\n",
       "</style>\n",
       "<table border=\"1\" class=\"dataframe\">\n",
       "  <thead>\n",
       "    <tr>\n",
       "      <th></th>\n",
       "      <th></th>\n",
       "      <th colspan=\"2\" halign=\"left\">total</th>\n",
       "      <th colspan=\"2\" halign=\"left\">rate</th>\n",
       "    </tr>\n",
       "    <tr>\n",
       "      <th></th>\n",
       "      <th>part</th>\n",
       "      <th>data</th>\n",
       "      <th>timestamp</th>\n",
       "      <th>data</th>\n",
       "      <th>timestamp</th>\n",
       "    </tr>\n",
       "    <tr>\n",
       "      <th>stage</th>\n",
       "      <th>group</th>\n",
       "      <th></th>\n",
       "      <th></th>\n",
       "      <th></th>\n",
       "      <th></th>\n",
       "    </tr>\n",
       "  </thead>\n",
       "  <tbody>\n",
       "    <tr>\n",
       "      <th rowspan=\"4\" valign=\"top\">boost</th>\n",
       "      <th>BMP390</th>\n",
       "      <td>2400</td>\n",
       "      <td>1200</td>\n",
       "      <td>400.000000</td>\n",
       "      <td>400.000000</td>\n",
       "    </tr>\n",
       "    <tr>\n",
       "      <th>GPS,Power</th>\n",
       "      <td>120</td>\n",
       "      <td>12</td>\n",
       "      <td>36.000000</td>\n",
       "      <td>4.000000</td>\n",
       "    </tr>\n",
       "    <tr>\n",
       "      <th>LSM6DSL Acc</th>\n",
       "      <td>48000</td>\n",
       "      <td>12000</td>\n",
       "      <td>12000.000000</td>\n",
       "      <td>4000.000000</td>\n",
       "    </tr>\n",
       "    <tr>\n",
       "      <th>LSM6DSL Gyro</th>\n",
       "      <td>48000</td>\n",
       "      <td>12000</td>\n",
       "      <td>12000.000000</td>\n",
       "      <td>4000.000000</td>\n",
       "    </tr>\n",
       "    <tr>\n",
       "      <th rowspan=\"4\" valign=\"top\">flight</th>\n",
       "      <th>BMP390</th>\n",
       "      <td>264000</td>\n",
       "      <td>132000</td>\n",
       "      <td>400.000000</td>\n",
       "      <td>400.000000</td>\n",
       "    </tr>\n",
       "    <tr>\n",
       "      <th>GPS,Power</th>\n",
       "      <td>13200</td>\n",
       "      <td>1320</td>\n",
       "      <td>36.000000</td>\n",
       "      <td>4.000000</td>\n",
       "    </tr>\n",
       "    <tr>\n",
       "      <th>LSM6DSL Acc</th>\n",
       "      <td>528000</td>\n",
       "      <td>132000</td>\n",
       "      <td>1200.000000</td>\n",
       "      <td>400.000000</td>\n",
       "    </tr>\n",
       "    <tr>\n",
       "      <th>LSM6DSL Gyro</th>\n",
       "      <td>528000</td>\n",
       "      <td>132000</td>\n",
       "      <td>1200.000000</td>\n",
       "      <td>400.000000</td>\n",
       "    </tr>\n",
       "    <tr>\n",
       "      <th rowspan=\"4\" valign=\"top\">ground</th>\n",
       "      <th>BMP390</th>\n",
       "      <td>11520</td>\n",
       "      <td>5760</td>\n",
       "      <td>0.066667</td>\n",
       "      <td>0.066667</td>\n",
       "    </tr>\n",
       "    <tr>\n",
       "      <th>GPS,Power</th>\n",
       "      <td>57600</td>\n",
       "      <td>5760</td>\n",
       "      <td>0.600000</td>\n",
       "      <td>0.066667</td>\n",
       "    </tr>\n",
       "    <tr>\n",
       "      <th>LSM6DSL Acc</th>\n",
       "      <td>1382400</td>\n",
       "      <td>345600</td>\n",
       "      <td>12.000000</td>\n",
       "      <td>4.000000</td>\n",
       "    </tr>\n",
       "    <tr>\n",
       "      <th>LSM6DSL Gyro</th>\n",
       "      <td>0</td>\n",
       "      <td>0</td>\n",
       "      <td>0.000000</td>\n",
       "      <td>0.000000</td>\n",
       "    </tr>\n",
       "  </tbody>\n",
       "</table>\n",
       "</div>"
      ],
      "text/plain": [
       "                       total                    rate             \n",
       "part                    data timestamp          data    timestamp\n",
       "stage  group                                                     \n",
       "boost  BMP390           2400      1200    400.000000   400.000000\n",
       "       GPS,Power         120        12     36.000000     4.000000\n",
       "       LSM6DSL Acc     48000     12000  12000.000000  4000.000000\n",
       "       LSM6DSL Gyro    48000     12000  12000.000000  4000.000000\n",
       "flight BMP390         264000    132000    400.000000   400.000000\n",
       "       GPS,Power       13200      1320     36.000000     4.000000\n",
       "       LSM6DSL Acc    528000    132000   1200.000000   400.000000\n",
       "       LSM6DSL Gyro   528000    132000   1200.000000   400.000000\n",
       "ground BMP390          11520      5760      0.066667     0.066667\n",
       "       GPS,Power       57600      5760      0.600000     0.066667\n",
       "       LSM6DSL Acc   1382400    345600     12.000000     4.000000\n",
       "       LSM6DSL Gyro        0         0      0.000000     0.000000"
      ]
     },
     "execution_count": 178,
     "metadata": {},
     "output_type": "execute_result"
    }
   ],
   "source": [
    "parts.unstack()\n"
   ]
  },
  {
   "cell_type": "code",
   "execution_count": 179,
   "metadata": {},
   "outputs": [],
   "source": [
    "with_unused = parts.copy()\n",
    "with_unused['usage'] = 'used'\n",
    "with_unused = with_unused.reset_index().set_index(['usage', 'stage', 'group', 'part'])\n",
    "with_unused = pd.concat([with_unused, pd.DataFrame([('unused', 'unused', 'unused', 'unused', flash_chip_size_bytes - bytes_used_including_overhead, 0)], columns=[\"usage\", \"stage\", \"group\", \"part\", \"total\", \"rate\"]).set_index(['usage', 'stage', 'group', 'part'])])"
   ]
  },
  {
   "cell_type": "code",
   "execution_count": 180,
   "metadata": {},
   "outputs": [
    {
     "data": {
      "application/vnd.plotly.v1+json": {
       "config": {
        "plotlyServerURL": "https://plot.ly"
       },
       "data": [
        {
         "branchvalues": "total",
         "domain": {
          "x": [
           0,
           1
          ],
          "y": [
           0,
           1
          ]
         },
         "hovertemplate": "labels=%{label}<br>total=%{value}<br>parent=%{parent}<br>id=%{id}<extra></extra>",
         "ids": [
          "used/boost/BMP390/data",
          "used/flight/BMP390/data",
          "used/ground/BMP390/data",
          "used/boost/GPS,Power/data",
          "used/flight/GPS,Power/data",
          "used/ground/GPS,Power/data",
          "used/boost/LSM6DSL Acc/data",
          "used/flight/LSM6DSL Acc/data",
          "used/ground/LSM6DSL Acc/data",
          "used/boost/LSM6DSL Gyro/data",
          "used/flight/LSM6DSL Gyro/data",
          "used/ground/LSM6DSL Gyro/data",
          "used/boost/BMP390/timestamp",
          "used/flight/BMP390/timestamp",
          "used/ground/BMP390/timestamp",
          "used/boost/GPS,Power/timestamp",
          "used/flight/GPS,Power/timestamp",
          "used/ground/GPS,Power/timestamp",
          "used/boost/LSM6DSL Acc/timestamp",
          "used/flight/LSM6DSL Acc/timestamp",
          "used/ground/LSM6DSL Acc/timestamp",
          "used/boost/LSM6DSL Gyro/timestamp",
          "used/flight/LSM6DSL Gyro/timestamp",
          "used/ground/LSM6DSL Gyro/timestamp",
          "unused/unused/unused/unused",
          "used/boost/BMP390",
          "used/flight/BMP390",
          "used/ground/BMP390",
          "used/boost/GPS,Power",
          "used/flight/GPS,Power",
          "used/ground/GPS,Power",
          "used/boost/LSM6DSL Acc",
          "used/flight/LSM6DSL Acc",
          "used/ground/LSM6DSL Acc",
          "used/boost/LSM6DSL Gyro",
          "used/flight/LSM6DSL Gyro",
          "used/ground/LSM6DSL Gyro",
          "unused/unused/unused",
          "used/boost",
          "used/flight",
          "used/ground",
          "unused/unused",
          "unused",
          "used"
         ],
         "labels": [
          "data",
          "data",
          "data",
          "data",
          "data",
          "data",
          "data",
          "data",
          "data",
          "data",
          "data",
          "data",
          "timestamp",
          "timestamp",
          "timestamp",
          "timestamp",
          "timestamp",
          "timestamp",
          "timestamp",
          "timestamp",
          "timestamp",
          "timestamp",
          "timestamp",
          "timestamp",
          "unused",
          "BMP390",
          "BMP390",
          "BMP390",
          "GPS,Power",
          "GPS,Power",
          "GPS,Power",
          "LSM6DSL Acc",
          "LSM6DSL Acc",
          "LSM6DSL Acc",
          "LSM6DSL Gyro",
          "LSM6DSL Gyro",
          "LSM6DSL Gyro",
          "unused",
          "boost",
          "flight",
          "ground",
          "unused",
          "unused",
          "used"
         ],
         "name": "",
         "parents": [
          "used/boost/BMP390",
          "used/flight/BMP390",
          "used/ground/BMP390",
          "used/boost/GPS,Power",
          "used/flight/GPS,Power",
          "used/ground/GPS,Power",
          "used/boost/LSM6DSL Acc",
          "used/flight/LSM6DSL Acc",
          "used/ground/LSM6DSL Acc",
          "used/boost/LSM6DSL Gyro",
          "used/flight/LSM6DSL Gyro",
          "used/ground/LSM6DSL Gyro",
          "used/boost/BMP390",
          "used/flight/BMP390",
          "used/ground/BMP390",
          "used/boost/GPS,Power",
          "used/flight/GPS,Power",
          "used/ground/GPS,Power",
          "used/boost/LSM6DSL Acc",
          "used/flight/LSM6DSL Acc",
          "used/ground/LSM6DSL Acc",
          "used/boost/LSM6DSL Gyro",
          "used/flight/LSM6DSL Gyro",
          "used/ground/LSM6DSL Gyro",
          "unused/unused/unused",
          "used/boost",
          "used/flight",
          "used/ground",
          "used/boost",
          "used/flight",
          "used/ground",
          "used/boost",
          "used/flight",
          "used/ground",
          "used/boost",
          "used/flight",
          "used/ground",
          "unused/unused",
          "used",
          "used",
          "used",
          "unused",
          "",
          ""
         ],
         "type": "sunburst",
         "values": [
          2400,
          264000,
          11520,
          120,
          13200,
          57600,
          48000,
          528000,
          1382400,
          48000,
          528000,
          0,
          1200,
          132000,
          5760,
          12,
          1320,
          5760,
          12000,
          132000,
          345600,
          12000,
          132000,
          0,
          13075648,
          3600,
          396000,
          17280,
          132,
          14520,
          63360,
          60000,
          660000,
          1728000,
          60000,
          660000,
          0,
          13075648,
          123732,
          1730520,
          1808640,
          13075648,
          13075648,
          3662892
         ]
        }
       ],
       "layout": {
        "legend": {
         "tracegroupgap": 0
        },
        "template": {
         "data": {
          "bar": [
           {
            "error_x": {
             "color": "#2a3f5f"
            },
            "error_y": {
             "color": "#2a3f5f"
            },
            "marker": {
             "line": {
              "color": "#E5ECF6",
              "width": 0.5
             },
             "pattern": {
              "fillmode": "overlay",
              "size": 10,
              "solidity": 0.2
             }
            },
            "type": "bar"
           }
          ],
          "barpolar": [
           {
            "marker": {
             "line": {
              "color": "#E5ECF6",
              "width": 0.5
             },
             "pattern": {
              "fillmode": "overlay",
              "size": 10,
              "solidity": 0.2
             }
            },
            "type": "barpolar"
           }
          ],
          "carpet": [
           {
            "aaxis": {
             "endlinecolor": "#2a3f5f",
             "gridcolor": "white",
             "linecolor": "white",
             "minorgridcolor": "white",
             "startlinecolor": "#2a3f5f"
            },
            "baxis": {
             "endlinecolor": "#2a3f5f",
             "gridcolor": "white",
             "linecolor": "white",
             "minorgridcolor": "white",
             "startlinecolor": "#2a3f5f"
            },
            "type": "carpet"
           }
          ],
          "choropleth": [
           {
            "colorbar": {
             "outlinewidth": 0,
             "ticks": ""
            },
            "type": "choropleth"
           }
          ],
          "contour": [
           {
            "colorbar": {
             "outlinewidth": 0,
             "ticks": ""
            },
            "colorscale": [
             [
              0,
              "#0d0887"
             ],
             [
              0.1111111111111111,
              "#46039f"
             ],
             [
              0.2222222222222222,
              "#7201a8"
             ],
             [
              0.3333333333333333,
              "#9c179e"
             ],
             [
              0.4444444444444444,
              "#bd3786"
             ],
             [
              0.5555555555555556,
              "#d8576b"
             ],
             [
              0.6666666666666666,
              "#ed7953"
             ],
             [
              0.7777777777777778,
              "#fb9f3a"
             ],
             [
              0.8888888888888888,
              "#fdca26"
             ],
             [
              1,
              "#f0f921"
             ]
            ],
            "type": "contour"
           }
          ],
          "contourcarpet": [
           {
            "colorbar": {
             "outlinewidth": 0,
             "ticks": ""
            },
            "type": "contourcarpet"
           }
          ],
          "heatmap": [
           {
            "colorbar": {
             "outlinewidth": 0,
             "ticks": ""
            },
            "colorscale": [
             [
              0,
              "#0d0887"
             ],
             [
              0.1111111111111111,
              "#46039f"
             ],
             [
              0.2222222222222222,
              "#7201a8"
             ],
             [
              0.3333333333333333,
              "#9c179e"
             ],
             [
              0.4444444444444444,
              "#bd3786"
             ],
             [
              0.5555555555555556,
              "#d8576b"
             ],
             [
              0.6666666666666666,
              "#ed7953"
             ],
             [
              0.7777777777777778,
              "#fb9f3a"
             ],
             [
              0.8888888888888888,
              "#fdca26"
             ],
             [
              1,
              "#f0f921"
             ]
            ],
            "type": "heatmap"
           }
          ],
          "heatmapgl": [
           {
            "colorbar": {
             "outlinewidth": 0,
             "ticks": ""
            },
            "colorscale": [
             [
              0,
              "#0d0887"
             ],
             [
              0.1111111111111111,
              "#46039f"
             ],
             [
              0.2222222222222222,
              "#7201a8"
             ],
             [
              0.3333333333333333,
              "#9c179e"
             ],
             [
              0.4444444444444444,
              "#bd3786"
             ],
             [
              0.5555555555555556,
              "#d8576b"
             ],
             [
              0.6666666666666666,
              "#ed7953"
             ],
             [
              0.7777777777777778,
              "#fb9f3a"
             ],
             [
              0.8888888888888888,
              "#fdca26"
             ],
             [
              1,
              "#f0f921"
             ]
            ],
            "type": "heatmapgl"
           }
          ],
          "histogram": [
           {
            "marker": {
             "pattern": {
              "fillmode": "overlay",
              "size": 10,
              "solidity": 0.2
             }
            },
            "type": "histogram"
           }
          ],
          "histogram2d": [
           {
            "colorbar": {
             "outlinewidth": 0,
             "ticks": ""
            },
            "colorscale": [
             [
              0,
              "#0d0887"
             ],
             [
              0.1111111111111111,
              "#46039f"
             ],
             [
              0.2222222222222222,
              "#7201a8"
             ],
             [
              0.3333333333333333,
              "#9c179e"
             ],
             [
              0.4444444444444444,
              "#bd3786"
             ],
             [
              0.5555555555555556,
              "#d8576b"
             ],
             [
              0.6666666666666666,
              "#ed7953"
             ],
             [
              0.7777777777777778,
              "#fb9f3a"
             ],
             [
              0.8888888888888888,
              "#fdca26"
             ],
             [
              1,
              "#f0f921"
             ]
            ],
            "type": "histogram2d"
           }
          ],
          "histogram2dcontour": [
           {
            "colorbar": {
             "outlinewidth": 0,
             "ticks": ""
            },
            "colorscale": [
             [
              0,
              "#0d0887"
             ],
             [
              0.1111111111111111,
              "#46039f"
             ],
             [
              0.2222222222222222,
              "#7201a8"
             ],
             [
              0.3333333333333333,
              "#9c179e"
             ],
             [
              0.4444444444444444,
              "#bd3786"
             ],
             [
              0.5555555555555556,
              "#d8576b"
             ],
             [
              0.6666666666666666,
              "#ed7953"
             ],
             [
              0.7777777777777778,
              "#fb9f3a"
             ],
             [
              0.8888888888888888,
              "#fdca26"
             ],
             [
              1,
              "#f0f921"
             ]
            ],
            "type": "histogram2dcontour"
           }
          ],
          "mesh3d": [
           {
            "colorbar": {
             "outlinewidth": 0,
             "ticks": ""
            },
            "type": "mesh3d"
           }
          ],
          "parcoords": [
           {
            "line": {
             "colorbar": {
              "outlinewidth": 0,
              "ticks": ""
             }
            },
            "type": "parcoords"
           }
          ],
          "pie": [
           {
            "automargin": true,
            "type": "pie"
           }
          ],
          "scatter": [
           {
            "fillpattern": {
             "fillmode": "overlay",
             "size": 10,
             "solidity": 0.2
            },
            "type": "scatter"
           }
          ],
          "scatter3d": [
           {
            "line": {
             "colorbar": {
              "outlinewidth": 0,
              "ticks": ""
             }
            },
            "marker": {
             "colorbar": {
              "outlinewidth": 0,
              "ticks": ""
             }
            },
            "type": "scatter3d"
           }
          ],
          "scattercarpet": [
           {
            "marker": {
             "colorbar": {
              "outlinewidth": 0,
              "ticks": ""
             }
            },
            "type": "scattercarpet"
           }
          ],
          "scattergeo": [
           {
            "marker": {
             "colorbar": {
              "outlinewidth": 0,
              "ticks": ""
             }
            },
            "type": "scattergeo"
           }
          ],
          "scattergl": [
           {
            "marker": {
             "colorbar": {
              "outlinewidth": 0,
              "ticks": ""
             }
            },
            "type": "scattergl"
           }
          ],
          "scattermapbox": [
           {
            "marker": {
             "colorbar": {
              "outlinewidth": 0,
              "ticks": ""
             }
            },
            "type": "scattermapbox"
           }
          ],
          "scatterpolar": [
           {
            "marker": {
             "colorbar": {
              "outlinewidth": 0,
              "ticks": ""
             }
            },
            "type": "scatterpolar"
           }
          ],
          "scatterpolargl": [
           {
            "marker": {
             "colorbar": {
              "outlinewidth": 0,
              "ticks": ""
             }
            },
            "type": "scatterpolargl"
           }
          ],
          "scatterternary": [
           {
            "marker": {
             "colorbar": {
              "outlinewidth": 0,
              "ticks": ""
             }
            },
            "type": "scatterternary"
           }
          ],
          "surface": [
           {
            "colorbar": {
             "outlinewidth": 0,
             "ticks": ""
            },
            "colorscale": [
             [
              0,
              "#0d0887"
             ],
             [
              0.1111111111111111,
              "#46039f"
             ],
             [
              0.2222222222222222,
              "#7201a8"
             ],
             [
              0.3333333333333333,
              "#9c179e"
             ],
             [
              0.4444444444444444,
              "#bd3786"
             ],
             [
              0.5555555555555556,
              "#d8576b"
             ],
             [
              0.6666666666666666,
              "#ed7953"
             ],
             [
              0.7777777777777778,
              "#fb9f3a"
             ],
             [
              0.8888888888888888,
              "#fdca26"
             ],
             [
              1,
              "#f0f921"
             ]
            ],
            "type": "surface"
           }
          ],
          "table": [
           {
            "cells": {
             "fill": {
              "color": "#EBF0F8"
             },
             "line": {
              "color": "white"
             }
            },
            "header": {
             "fill": {
              "color": "#C8D4E3"
             },
             "line": {
              "color": "white"
             }
            },
            "type": "table"
           }
          ]
         },
         "layout": {
          "annotationdefaults": {
           "arrowcolor": "#2a3f5f",
           "arrowhead": 0,
           "arrowwidth": 1
          },
          "autotypenumbers": "strict",
          "coloraxis": {
           "colorbar": {
            "outlinewidth": 0,
            "ticks": ""
           }
          },
          "colorscale": {
           "diverging": [
            [
             0,
             "#8e0152"
            ],
            [
             0.1,
             "#c51b7d"
            ],
            [
             0.2,
             "#de77ae"
            ],
            [
             0.3,
             "#f1b6da"
            ],
            [
             0.4,
             "#fde0ef"
            ],
            [
             0.5,
             "#f7f7f7"
            ],
            [
             0.6,
             "#e6f5d0"
            ],
            [
             0.7,
             "#b8e186"
            ],
            [
             0.8,
             "#7fbc41"
            ],
            [
             0.9,
             "#4d9221"
            ],
            [
             1,
             "#276419"
            ]
           ],
           "sequential": [
            [
             0,
             "#0d0887"
            ],
            [
             0.1111111111111111,
             "#46039f"
            ],
            [
             0.2222222222222222,
             "#7201a8"
            ],
            [
             0.3333333333333333,
             "#9c179e"
            ],
            [
             0.4444444444444444,
             "#bd3786"
            ],
            [
             0.5555555555555556,
             "#d8576b"
            ],
            [
             0.6666666666666666,
             "#ed7953"
            ],
            [
             0.7777777777777778,
             "#fb9f3a"
            ],
            [
             0.8888888888888888,
             "#fdca26"
            ],
            [
             1,
             "#f0f921"
            ]
           ],
           "sequentialminus": [
            [
             0,
             "#0d0887"
            ],
            [
             0.1111111111111111,
             "#46039f"
            ],
            [
             0.2222222222222222,
             "#7201a8"
            ],
            [
             0.3333333333333333,
             "#9c179e"
            ],
            [
             0.4444444444444444,
             "#bd3786"
            ],
            [
             0.5555555555555556,
             "#d8576b"
            ],
            [
             0.6666666666666666,
             "#ed7953"
            ],
            [
             0.7777777777777778,
             "#fb9f3a"
            ],
            [
             0.8888888888888888,
             "#fdca26"
            ],
            [
             1,
             "#f0f921"
            ]
           ]
          },
          "colorway": [
           "#636efa",
           "#EF553B",
           "#00cc96",
           "#ab63fa",
           "#FFA15A",
           "#19d3f3",
           "#FF6692",
           "#B6E880",
           "#FF97FF",
           "#FECB52"
          ],
          "font": {
           "color": "#2a3f5f"
          },
          "geo": {
           "bgcolor": "white",
           "lakecolor": "white",
           "landcolor": "#E5ECF6",
           "showlakes": true,
           "showland": true,
           "subunitcolor": "white"
          },
          "hoverlabel": {
           "align": "left"
          },
          "hovermode": "closest",
          "mapbox": {
           "style": "light"
          },
          "paper_bgcolor": "white",
          "plot_bgcolor": "#E5ECF6",
          "polar": {
           "angularaxis": {
            "gridcolor": "white",
            "linecolor": "white",
            "ticks": ""
           },
           "bgcolor": "#E5ECF6",
           "radialaxis": {
            "gridcolor": "white",
            "linecolor": "white",
            "ticks": ""
           }
          },
          "scene": {
           "xaxis": {
            "backgroundcolor": "#E5ECF6",
            "gridcolor": "white",
            "gridwidth": 2,
            "linecolor": "white",
            "showbackground": true,
            "ticks": "",
            "zerolinecolor": "white"
           },
           "yaxis": {
            "backgroundcolor": "#E5ECF6",
            "gridcolor": "white",
            "gridwidth": 2,
            "linecolor": "white",
            "showbackground": true,
            "ticks": "",
            "zerolinecolor": "white"
           },
           "zaxis": {
            "backgroundcolor": "#E5ECF6",
            "gridcolor": "white",
            "gridwidth": 2,
            "linecolor": "white",
            "showbackground": true,
            "ticks": "",
            "zerolinecolor": "white"
           }
          },
          "shapedefaults": {
           "line": {
            "color": "#2a3f5f"
           }
          },
          "ternary": {
           "aaxis": {
            "gridcolor": "white",
            "linecolor": "white",
            "ticks": ""
           },
           "baxis": {
            "gridcolor": "white",
            "linecolor": "white",
            "ticks": ""
           },
           "bgcolor": "#E5ECF6",
           "caxis": {
            "gridcolor": "white",
            "linecolor": "white",
            "ticks": ""
           }
          },
          "title": {
           "x": 0.05
          },
          "xaxis": {
           "automargin": true,
           "gridcolor": "white",
           "linecolor": "white",
           "ticks": "",
           "title": {
            "standoff": 15
           },
           "zerolinecolor": "white",
           "zerolinewidth": 2
          },
          "yaxis": {
           "automargin": true,
           "gridcolor": "white",
           "linecolor": "white",
           "ticks": "",
           "title": {
            "standoff": 15
           },
           "zerolinecolor": "white",
           "zerolinewidth": 2
          }
         }
        },
        "title": {
         "text": "Data Usage of 16MB"
        }
       }
      }
     },
     "metadata": {},
     "output_type": "display_data"
    }
   ],
   "source": [
    "fig = px.sunburst(with_unused.reset_index(), path=[\n",
    "                  'usage','stage', 'group', 'part'], values='total', title=f\"Data Usage of {int(flash_chip_size_bytes // 1024 // 1024)}MB\")\n",
    "fig.show()\n"
   ]
  },
  {
   "cell_type": "code",
   "execution_count": 187,
   "metadata": {},
   "outputs": [
    {
     "data": {
      "text/plain": [
       "np.float64(3.53009033203125)"
      ]
     },
     "execution_count": 187,
     "metadata": {},
     "output_type": "execute_result"
    }
   ],
   "source": [
    "bytes_used_including_overhead/(1024*1024)"
   ]
  },
  {
   "cell_type": "code",
   "execution_count": 181,
   "metadata": {},
   "outputs": [
    {
     "data": {
      "text/html": [
       "<div>\n",
       "<style scoped>\n",
       "    .dataframe tbody tr th:only-of-type {\n",
       "        vertical-align: middle;\n",
       "    }\n",
       "\n",
       "    .dataframe tbody tr th {\n",
       "        vertical-align: top;\n",
       "    }\n",
       "\n",
       "    .dataframe thead th {\n",
       "        text-align: right;\n",
       "    }\n",
       "</style>\n",
       "<table border=\"1\" class=\"dataframe\">\n",
       "  <thead>\n",
       "    <tr style=\"text-align: right;\">\n",
       "      <th></th>\n",
       "      <th></th>\n",
       "      <th></th>\n",
       "      <th></th>\n",
       "      <th>total</th>\n",
       "      <th>rate</th>\n",
       "    </tr>\n",
       "    <tr>\n",
       "      <th>usage</th>\n",
       "      <th>stage</th>\n",
       "      <th>group</th>\n",
       "      <th>part</th>\n",
       "      <th></th>\n",
       "      <th></th>\n",
       "    </tr>\n",
       "  </thead>\n",
       "  <tbody>\n",
       "    <tr>\n",
       "      <th>used</th>\n",
       "      <th>boost</th>\n",
       "      <th>LSM6DSL Acc</th>\n",
       "      <th>data</th>\n",
       "      <td>48000.0</td>\n",
       "      <td>12000.0</td>\n",
       "    </tr>\n",
       "  </tbody>\n",
       "</table>\n",
       "</div>"
      ],
      "text/plain": [
       "                                total     rate\n",
       "usage stage group       part                  \n",
       "used  boost LSM6DSL Acc data  48000.0  12000.0"
      ]
     },
     "execution_count": 181,
     "metadata": {},
     "output_type": "execute_result"
    }
   ],
   "source": [
    "with_unused.head(1)"
   ]
  },
  {
   "cell_type": "code",
   "execution_count": 182,
   "metadata": {},
   "outputs": [
    {
     "data": {
      "text/plain": [
       "<Axes: ylabel='Total Bytes'>"
      ]
     },
     "execution_count": 182,
     "metadata": {},
     "output_type": "execute_result"
    },
    {
     "data": {
      "image/png": "[encoded data removed]",
      "text/plain": [
       "<Figure size 640x480 with 1 Axes>"
      ]
     },
     "metadata": {},
     "output_type": "display_data"
    }
   ],
   "source": [
    "with_unused[with_unused['rate'] != 0].reset_index().drop(columns=['usage']).groupby('part').sum().rename(columns={'total':'Total Bytes'}).plot(kind='pie', y='Total Bytes', legend=False)"
   ]
  },
  {
   "cell_type": "code",
   "execution_count": 183,
   "metadata": {},
   "outputs": [
    {
     "data": {
      "text/plain": [
       "<Axes: ylabel='Total Bytes'>"
      ]
     },
     "execution_count": 183,
     "metadata": {},
     "output_type": "execute_result"
    },
    {
     "data": {
      "image/png": "[encoded data removed]",
      "text/plain": [
       "<Figure size 640x480 with 1 Axes>"
      ]
     },
     "metadata": {},
     "output_type": "display_data"
    }
   ],
   "source": [
    "with_unused[with_unused['rate'] != 0].reset_index().drop(columns=['usage']).groupby('stage').sum().rename(columns={'total':'Total Bytes'}).plot(kind='pie', y='Total Bytes', legend=False)"
   ]
  }
 ],
 "metadata": {
  "kernelspec": {
   "display_name": "python-3.12",
   "language": "python",
   "name": "python3"
  },
  "language_info": {
   "codemirror_mode": {
    "name": "ipython",
    "version": 3
   },
   "file_extension": ".py",
   "mimetype": "text/x-python",
   "name": "python",
   "nbconvert_exporter": "python",
   "pygments_lexer": "ipython3",
   "version": "3.12.7"
  }
 },
 "nbformat": 4,
 "nbformat_minor": 2
}
