{
 "cells": [
  {
   "cell_type": "code",
   "execution_count": 37,
   "metadata": {},
   "outputs": [],
   "source": [
    "# import altair with an abbreviated alias\n",
    "import altair as alt\n",
    "# load a sample dataset as a pandas DataFrame\n",
    "from vega_datasets import data\n",
    "\n",
    "import pandas as pd\n",
    "import numpy as np\n"
   ]
  },
  {
   "cell_type": "code",
   "execution_count": 38,
   "metadata": {},
   "outputs": [],
   "source": [
    "measurement_sizes = {\n",
    "    'BMP390 Temperature': 4,\n",
    "    'BMP390 Pressure': 4,\n",
    "    'LSM6DSO Acc': 4*3,\n",
    "    'LSM6DSO Gyro': 4*3,\n",
    "    'MS5611 Press': 4,\n",
    "    'MS5611 Temp': 4,\n",
    "}\n",
    "groups = {\n",
    "    'MS5611': ['MS5611 Press', 'MS5611 Temp'],\n",
    "    'LSM6DSO': ['LSM6DSO Acc', 'LSM6DSO Gyro'],\n",
    "    'BMP390': ['BMP390 Temperature', 'BMP390 Pressure'],\n",
    "}\n",
    "\n",
    "# ms\n",
    "stages = [\n",
    "    ['boost', 3],\n",
    "    ['ascent', 30],\n",
    "    ['flight', 302],\n",
    "]\n",
    "\n",
    "stage_rates = {\n",
    "    'boost': {'MS5611': 1024, 'LSM6DSO': 416, 'BMP390': 50},\n",
    "    'ascent': {'MS5611': 1024, 'LSM6DSO': 208, 'BMP390': 180},\n",
    "    'flight': {'MS5611': 512, 'LSM6DSO': 52, 'BMP390': 50},\n",
    "}\n",
    "\n",
    "timestamp_size_bytes = 4\n",
    "\n",
    "flash_chip_size_bytes = 128 * 1024 * 1024\n",
    "\n",
    "sizedf = pd.DataFrame.from_dict(\n",
    "    measurement_sizes, orient='index', columns=['size_bytes'])\n",
    "\n",
    "# stageratedf = pd.DataFrame(.T.stack(), columns=['rate_hz']).unstack()\n",
    "stageratedf = pd.DataFrame.from_dict(stage_rates).T\n",
    "\n",
    "stagelendf = pd.DataFrame.from_records(\n",
    "    stages, columns=['stage', 'time_s'], index='stage')\n",
    "\n",
    "packetsizedf = pd.DataFrame.from_records([(groupname, sum([measurement_sizes[sensor] for sensor in groups[groupname]]))\n",
    "                                         for groupname in groups.keys()], columns=['group', 'data'], index='group')\n",
    "packetsizedf['timestamp'] = timestamp_size_bytes\n"
   ]
  },
  {
   "cell_type": "code",
   "execution_count": 39,
   "metadata": {},
   "outputs": [],
   "source": [
    "combined = stageratedf.stack().to_frame(name='read_rate')\n",
    "combined.index.set_names(['stage', 'group'], inplace=True)\n",
    "\n",
    "totals = combined.join(packetsizedf) \\\n",
    "    .apply(lambda r: [r['read_rate'] * r['data'], r['read_rate'] * r['timestamp']], axis=1, result_type='expand') \\\n",
    "    .rename(columns={0: 'data', 1: 'timestamp'}).stack().rename('rate').rename_axis(['stage', 'group', 'part']).to_frame()\n",
    "\n",
    "rates = combined.join(packetsizedf) \\\n",
    "    .apply(lambda r: [r['read_rate'] * r['data'], r['read_rate'] * r['timestamp']], axis=1, result_type='expand') \\\n",
    "    .rename(columns={0: 'data', 1: 'timestamp'}).stack().rename('rate').rename_axis(['stage', 'group', 'part']).to_frame()\n"
   ]
  },
  {
   "cell_type": "code",
   "execution_count": null,
   "metadata": {},
   "outputs": [],
   "source": []
  },
  {
   "cell_type": "code",
   "execution_count": 40,
   "metadata": {},
   "outputs": [],
   "source": [
    "packetsizedf['size_with_ts'] = packetsizedf['data']  + packetsizedf['timestamp']"
   ]
  },
  {
   "cell_type": "code",
   "execution_count": 41,
   "metadata": {},
   "outputs": [
    {
     "data": {
      "text/html": [
       "<div>\n",
       "<style scoped>\n",
       "    .dataframe tbody tr th:only-of-type {\n",
       "        vertical-align: middle;\n",
       "    }\n",
       "\n",
       "    .dataframe tbody tr th {\n",
       "        vertical-align: top;\n",
       "    }\n",
       "\n",
       "    .dataframe thead th {\n",
       "        text-align: right;\n",
       "    }\n",
       "</style>\n",
       "<table border=\"1\" class=\"dataframe\">\n",
       "  <thead>\n",
       "    <tr style=\"text-align: right;\">\n",
       "      <th></th>\n",
       "      <th></th>\n",
       "      <th>read_rate</th>\n",
       "    </tr>\n",
       "    <tr>\n",
       "      <th>stage</th>\n",
       "      <th>group</th>\n",
       "      <th></th>\n",
       "    </tr>\n",
       "  </thead>\n",
       "  <tbody>\n",
       "    <tr>\n",
       "      <th rowspan=\"3\" valign=\"top\">boost</th>\n",
       "      <th>MS5611</th>\n",
       "      <td>1024</td>\n",
       "    </tr>\n",
       "    <tr>\n",
       "      <th>LSM6DSO</th>\n",
       "      <td>416</td>\n",
       "    </tr>\n",
       "    <tr>\n",
       "      <th>BMP390</th>\n",
       "      <td>50</td>\n",
       "    </tr>\n",
       "    <tr>\n",
       "      <th rowspan=\"3\" valign=\"top\">ascent</th>\n",
       "      <th>MS5611</th>\n",
       "      <td>1024</td>\n",
       "    </tr>\n",
       "    <tr>\n",
       "      <th>LSM6DSO</th>\n",
       "      <td>208</td>\n",
       "    </tr>\n",
       "    <tr>\n",
       "      <th>BMP390</th>\n",
       "      <td>180</td>\n",
       "    </tr>\n",
       "    <tr>\n",
       "      <th rowspan=\"3\" valign=\"top\">flight</th>\n",
       "      <th>MS5611</th>\n",
       "      <td>512</td>\n",
       "    </tr>\n",
       "    <tr>\n",
       "      <th>LSM6DSO</th>\n",
       "      <td>52</td>\n",
       "    </tr>\n",
       "    <tr>\n",
       "      <th>BMP390</th>\n",
       "      <td>50</td>\n",
       "    </tr>\n",
       "  </tbody>\n",
       "</table>\n",
       "</div>"
      ],
      "text/plain": [
       "                read_rate\n",
       "stage  group             \n",
       "boost  MS5611        1024\n",
       "       LSM6DSO        416\n",
       "       BMP390          50\n",
       "ascent MS5611        1024\n",
       "       LSM6DSO        208\n",
       "       BMP390         180\n",
       "flight MS5611         512\n",
       "       LSM6DSO         52\n",
       "       BMP390          50"
      ]
     },
     "execution_count": 41,
     "metadata": {},
     "output_type": "execute_result"
    }
   ],
   "source": [
    "combined\n"
   ]
  },
  {
   "cell_type": "code",
   "execution_count": 42,
   "metadata": {},
   "outputs": [],
   "source": [
    "combined['data_byte_rate'] = combined['read_rate'].mul(\n",
    "    packetsizedf['data'], level=1)\n",
    "combined['timestamp_byte_rate'] = combined['read_rate'].mul(\n",
    "    timestamp_size_bytes)\n",
    "combined['packet_byte_rate'] = combined['read_rate'].mul(\n",
    "    packetsizedf['size_with_ts'], level=1)\n"
   ]
  },
  {
   "cell_type": "code",
   "execution_count": 43,
   "metadata": {},
   "outputs": [],
   "source": [
    "combined['num_samples'] = combined['read_rate'].mul(\n",
    "    stagelendf['time_s']).astype(int)\n",
    "combined['data_total_bytes'] = combined['num_samples'].mul(\n",
    "    packetsizedf['size_with_ts'], level=1).astype(int)\n",
    "combined['timestamp_total_bytes'] = combined['num_samples'].mul(\n",
    "    timestamp_size_bytes).astype(int)\n",
    "combined['packet_total_bytes'] = combined['num_samples'].mul(\n",
    "    packetsizedf['size_with_ts'], level=1).astype(int)\n"
   ]
  },
  {
   "cell_type": "code",
   "execution_count": 44,
   "metadata": {},
   "outputs": [
    {
     "data": {
      "text/html": [
       "<div>\n",
       "<style scoped>\n",
       "    .dataframe tbody tr th:only-of-type {\n",
       "        vertical-align: middle;\n",
       "    }\n",
       "\n",
       "    .dataframe tbody tr th {\n",
       "        vertical-align: top;\n",
       "    }\n",
       "\n",
       "    .dataframe thead th {\n",
       "        text-align: right;\n",
       "    }\n",
       "</style>\n",
       "<table border=\"1\" class=\"dataframe\">\n",
       "  <thead>\n",
       "    <tr style=\"text-align: right;\">\n",
       "      <th></th>\n",
       "      <th>data_total_bytes</th>\n",
       "      <th>timestamp_total_bytes</th>\n",
       "      <th>packet_total_bytes</th>\n",
       "    </tr>\n",
       "  </thead>\n",
       "  <tbody>\n",
       "    <tr>\n",
       "      <th>total</th>\n",
       "      <td>3158168</td>\n",
       "      <td>929032</td>\n",
       "      <td>3158168</td>\n",
       "    </tr>\n",
       "  </tbody>\n",
       "</table>\n",
       "</div>"
      ],
      "text/plain": [
       "       data_total_bytes  timestamp_total_bytes  packet_total_bytes\n",
       "total           3158168                 929032             3158168"
      ]
     },
     "execution_count": 44,
     "metadata": {},
     "output_type": "execute_result"
    }
   ],
   "source": [
    "\n",
    "totals = combined.sum().to_frame(\n",
    "    'total').T[['data_total_bytes', 'timestamp_total_bytes', 'packet_total_bytes']]\n",
    "totals\n"
   ]
  },
  {
   "cell_type": "code",
   "execution_count": 45,
   "metadata": {},
   "outputs": [],
   "source": [
    "def littlefs_overhead(length):\n",
    "    return length * 1.01 + 2048\n"
   ]
  },
  {
   "cell_type": "code",
   "execution_count": 46,
   "metadata": {},
   "outputs": [
    {
     "data": {
      "text/html": [
       "<div>\n",
       "<style scoped>\n",
       "    .dataframe tbody tr th:only-of-type {\n",
       "        vertical-align: middle;\n",
       "    }\n",
       "\n",
       "    .dataframe tbody tr th {\n",
       "        vertical-align: top;\n",
       "    }\n",
       "\n",
       "    .dataframe thead th {\n",
       "        text-align: right;\n",
       "    }\n",
       "</style>\n",
       "<table border=\"1\" class=\"dataframe\">\n",
       "  <thead>\n",
       "    <tr style=\"text-align: right;\">\n",
       "      <th></th>\n",
       "      <th>data_total_bytes</th>\n",
       "      <th>timestamp_total_bytes</th>\n",
       "      <th>packet_total_bytes</th>\n",
       "    </tr>\n",
       "  </thead>\n",
       "  <tbody>\n",
       "    <tr>\n",
       "      <th>including_overhead</th>\n",
       "      <td>3191797.68</td>\n",
       "      <td>940370.32</td>\n",
       "      <td>3191797.68</td>\n",
       "    </tr>\n",
       "  </tbody>\n",
       "</table>\n",
       "</div>"
      ],
      "text/plain": [
       "                    data_total_bytes  timestamp_total_bytes  \\\n",
       "including_overhead        3191797.68              940370.32   \n",
       "\n",
       "                    packet_total_bytes  \n",
       "including_overhead          3191797.68  "
      ]
     },
     "execution_count": 46,
     "metadata": {},
     "output_type": "execute_result"
    }
   ],
   "source": [
    "totals.map(littlefs_overhead).rename({'total': 'including_overhead'})\n"
   ]
  },
  {
   "cell_type": "code",
   "execution_count": 47,
   "metadata": {},
   "outputs": [
    {
     "data": {
      "text/html": [
       "<div>\n",
       "<style scoped>\n",
       "    .dataframe tbody tr th:only-of-type {\n",
       "        vertical-align: middle;\n",
       "    }\n",
       "\n",
       "    .dataframe tbody tr th {\n",
       "        vertical-align: top;\n",
       "    }\n",
       "\n",
       "    .dataframe thead th {\n",
       "        text-align: right;\n",
       "    }\n",
       "</style>\n",
       "<table border=\"1\" class=\"dataframe\">\n",
       "  <thead>\n",
       "    <tr style=\"text-align: right;\">\n",
       "      <th></th>\n",
       "      <th></th>\n",
       "      <th>read_rate</th>\n",
       "      <th>data_byte_rate</th>\n",
       "      <th>timestamp_byte_rate</th>\n",
       "      <th>packet_byte_rate</th>\n",
       "      <th>num_samples</th>\n",
       "      <th>data_total_bytes</th>\n",
       "      <th>timestamp_total_bytes</th>\n",
       "      <th>packet_total_bytes</th>\n",
       "    </tr>\n",
       "    <tr>\n",
       "      <th>stage</th>\n",
       "      <th>group</th>\n",
       "      <th></th>\n",
       "      <th></th>\n",
       "      <th></th>\n",
       "      <th></th>\n",
       "      <th></th>\n",
       "      <th></th>\n",
       "      <th></th>\n",
       "      <th></th>\n",
       "    </tr>\n",
       "  </thead>\n",
       "  <tbody>\n",
       "    <tr>\n",
       "      <th rowspan=\"3\" valign=\"top\">boost</th>\n",
       "      <th>MS5611</th>\n",
       "      <td>1024</td>\n",
       "      <td>8192</td>\n",
       "      <td>4096</td>\n",
       "      <td>12288</td>\n",
       "      <td>3072</td>\n",
       "      <td>36864</td>\n",
       "      <td>12288</td>\n",
       "      <td>36864</td>\n",
       "    </tr>\n",
       "    <tr>\n",
       "      <th>LSM6DSO</th>\n",
       "      <td>416</td>\n",
       "      <td>9984</td>\n",
       "      <td>1664</td>\n",
       "      <td>11648</td>\n",
       "      <td>1248</td>\n",
       "      <td>34944</td>\n",
       "      <td>4992</td>\n",
       "      <td>34944</td>\n",
       "    </tr>\n",
       "    <tr>\n",
       "      <th>BMP390</th>\n",
       "      <td>50</td>\n",
       "      <td>400</td>\n",
       "      <td>200</td>\n",
       "      <td>600</td>\n",
       "      <td>150</td>\n",
       "      <td>1800</td>\n",
       "      <td>600</td>\n",
       "      <td>1800</td>\n",
       "    </tr>\n",
       "    <tr>\n",
       "      <th rowspan=\"3\" valign=\"top\">ascent</th>\n",
       "      <th>MS5611</th>\n",
       "      <td>1024</td>\n",
       "      <td>8192</td>\n",
       "      <td>4096</td>\n",
       "      <td>12288</td>\n",
       "      <td>30720</td>\n",
       "      <td>368640</td>\n",
       "      <td>122880</td>\n",
       "      <td>368640</td>\n",
       "    </tr>\n",
       "    <tr>\n",
       "      <th>LSM6DSO</th>\n",
       "      <td>208</td>\n",
       "      <td>4992</td>\n",
       "      <td>832</td>\n",
       "      <td>5824</td>\n",
       "      <td>6240</td>\n",
       "      <td>174720</td>\n",
       "      <td>24960</td>\n",
       "      <td>174720</td>\n",
       "    </tr>\n",
       "    <tr>\n",
       "      <th>BMP390</th>\n",
       "      <td>180</td>\n",
       "      <td>1440</td>\n",
       "      <td>720</td>\n",
       "      <td>2160</td>\n",
       "      <td>5400</td>\n",
       "      <td>64800</td>\n",
       "      <td>21600</td>\n",
       "      <td>64800</td>\n",
       "    </tr>\n",
       "    <tr>\n",
       "      <th rowspan=\"3\" valign=\"top\">flight</th>\n",
       "      <th>MS5611</th>\n",
       "      <td>512</td>\n",
       "      <td>4096</td>\n",
       "      <td>2048</td>\n",
       "      <td>6144</td>\n",
       "      <td>154624</td>\n",
       "      <td>1855488</td>\n",
       "      <td>618496</td>\n",
       "      <td>1855488</td>\n",
       "    </tr>\n",
       "    <tr>\n",
       "      <th>LSM6DSO</th>\n",
       "      <td>52</td>\n",
       "      <td>1248</td>\n",
       "      <td>208</td>\n",
       "      <td>1456</td>\n",
       "      <td>15704</td>\n",
       "      <td>439712</td>\n",
       "      <td>62816</td>\n",
       "      <td>439712</td>\n",
       "    </tr>\n",
       "    <tr>\n",
       "      <th>BMP390</th>\n",
       "      <td>50</td>\n",
       "      <td>400</td>\n",
       "      <td>200</td>\n",
       "      <td>600</td>\n",
       "      <td>15100</td>\n",
       "      <td>181200</td>\n",
       "      <td>60400</td>\n",
       "      <td>181200</td>\n",
       "    </tr>\n",
       "  </tbody>\n",
       "</table>\n",
       "</div>"
      ],
      "text/plain": [
       "                read_rate  data_byte_rate  timestamp_byte_rate  \\\n",
       "stage  group                                                     \n",
       "boost  MS5611        1024            8192                 4096   \n",
       "       LSM6DSO        416            9984                 1664   \n",
       "       BMP390          50             400                  200   \n",
       "ascent MS5611        1024            8192                 4096   \n",
       "       LSM6DSO        208            4992                  832   \n",
       "       BMP390         180            1440                  720   \n",
       "flight MS5611         512            4096                 2048   \n",
       "       LSM6DSO         52            1248                  208   \n",
       "       BMP390          50             400                  200   \n",
       "\n",
       "                packet_byte_rate  num_samples  data_total_bytes  \\\n",
       "stage  group                                                      \n",
       "boost  MS5611              12288         3072             36864   \n",
       "       LSM6DSO             11648         1248             34944   \n",
       "       BMP390                600          150              1800   \n",
       "ascent MS5611              12288        30720            368640   \n",
       "       LSM6DSO              5824         6240            174720   \n",
       "       BMP390               2160         5400             64800   \n",
       "flight MS5611               6144       154624           1855488   \n",
       "       LSM6DSO              1456        15704            439712   \n",
       "       BMP390                600        15100            181200   \n",
       "\n",
       "                timestamp_total_bytes  packet_total_bytes  \n",
       "stage  group                                               \n",
       "boost  MS5611                   12288               36864  \n",
       "       LSM6DSO                   4992               34944  \n",
       "       BMP390                     600                1800  \n",
       "ascent MS5611                  122880              368640  \n",
       "       LSM6DSO                  24960              174720  \n",
       "       BMP390                   21600               64800  \n",
       "flight MS5611                  618496             1855488  \n",
       "       LSM6DSO                  62816              439712  \n",
       "       BMP390                   60400              181200  "
      ]
     },
     "execution_count": 47,
     "metadata": {},
     "output_type": "execute_result"
    }
   ],
   "source": [
    "combined\n"
   ]
  },
  {
   "cell_type": "code",
   "execution_count": 48,
   "metadata": {},
   "outputs": [
    {
     "data": {
      "text/html": [
       "<div>\n",
       "<style scoped>\n",
       "    .dataframe tbody tr th:only-of-type {\n",
       "        vertical-align: middle;\n",
       "    }\n",
       "\n",
       "    .dataframe tbody tr th {\n",
       "        vertical-align: top;\n",
       "    }\n",
       "\n",
       "    .dataframe thead th {\n",
       "        text-align: right;\n",
       "    }\n",
       "</style>\n",
       "<table border=\"1\" class=\"dataframe\">\n",
       "  <thead>\n",
       "    <tr style=\"text-align: right;\">\n",
       "      <th></th>\n",
       "      <th></th>\n",
       "      <th>Sampling Rate (hz)</th>\n",
       "      <th>Data Rate (b/s)</th>\n",
       "      <th>Timestamp Rate (b/s)</th>\n",
       "      <th>Packet Rate (b/s)</th>\n",
       "      <th>Total Samples</th>\n",
       "      <th>Total Sensor Data (b)</th>\n",
       "      <th>Total Timestamp Data (b)</th>\n",
       "      <th>Total Data (b)</th>\n",
       "    </tr>\n",
       "    <tr>\n",
       "      <th>stage</th>\n",
       "      <th>group</th>\n",
       "      <th></th>\n",
       "      <th></th>\n",
       "      <th></th>\n",
       "      <th></th>\n",
       "      <th></th>\n",
       "      <th></th>\n",
       "      <th></th>\n",
       "      <th></th>\n",
       "    </tr>\n",
       "  </thead>\n",
       "  <tbody>\n",
       "    <tr>\n",
       "      <th rowspan=\"3\" valign=\"top\">boost (3s)</th>\n",
       "      <th>MS5611</th>\n",
       "      <td>1024</td>\n",
       "      <td>8192</td>\n",
       "      <td>4096</td>\n",
       "      <td>12288</td>\n",
       "      <td>3072</td>\n",
       "      <td>36864</td>\n",
       "      <td>12288</td>\n",
       "      <td>36864</td>\n",
       "    </tr>\n",
       "    <tr>\n",
       "      <th>LSM6DSO</th>\n",
       "      <td>416</td>\n",
       "      <td>9984</td>\n",
       "      <td>1664</td>\n",
       "      <td>11648</td>\n",
       "      <td>1248</td>\n",
       "      <td>34944</td>\n",
       "      <td>4992</td>\n",
       "      <td>34944</td>\n",
       "    </tr>\n",
       "    <tr>\n",
       "      <th>BMP390</th>\n",
       "      <td>50</td>\n",
       "      <td>400</td>\n",
       "      <td>200</td>\n",
       "      <td>600</td>\n",
       "      <td>150</td>\n",
       "      <td>1800</td>\n",
       "      <td>600</td>\n",
       "      <td>1800</td>\n",
       "    </tr>\n",
       "    <tr>\n",
       "      <th rowspan=\"3\" valign=\"top\">ascent (30s)</th>\n",
       "      <th>MS5611</th>\n",
       "      <td>1024</td>\n",
       "      <td>8192</td>\n",
       "      <td>4096</td>\n",
       "      <td>12288</td>\n",
       "      <td>30720</td>\n",
       "      <td>368640</td>\n",
       "      <td>122880</td>\n",
       "      <td>368640</td>\n",
       "    </tr>\n",
       "    <tr>\n",
       "      <th>LSM6DSO</th>\n",
       "      <td>208</td>\n",
       "      <td>4992</td>\n",
       "      <td>832</td>\n",
       "      <td>5824</td>\n",
       "      <td>6240</td>\n",
       "      <td>174720</td>\n",
       "      <td>24960</td>\n",
       "      <td>174720</td>\n",
       "    </tr>\n",
       "    <tr>\n",
       "      <th>BMP390</th>\n",
       "      <td>180</td>\n",
       "      <td>1440</td>\n",
       "      <td>720</td>\n",
       "      <td>2160</td>\n",
       "      <td>5400</td>\n",
       "      <td>64800</td>\n",
       "      <td>21600</td>\n",
       "      <td>64800</td>\n",
       "    </tr>\n",
       "    <tr>\n",
       "      <th rowspan=\"3\" valign=\"top\">flight (302s)</th>\n",
       "      <th>MS5611</th>\n",
       "      <td>512</td>\n",
       "      <td>4096</td>\n",
       "      <td>2048</td>\n",
       "      <td>6144</td>\n",
       "      <td>154624</td>\n",
       "      <td>1855488</td>\n",
       "      <td>618496</td>\n",
       "      <td>1855488</td>\n",
       "    </tr>\n",
       "    <tr>\n",
       "      <th>LSM6DSO</th>\n",
       "      <td>52</td>\n",
       "      <td>1248</td>\n",
       "      <td>208</td>\n",
       "      <td>1456</td>\n",
       "      <td>15704</td>\n",
       "      <td>439712</td>\n",
       "      <td>62816</td>\n",
       "      <td>439712</td>\n",
       "    </tr>\n",
       "    <tr>\n",
       "      <th>BMP390</th>\n",
       "      <td>50</td>\n",
       "      <td>400</td>\n",
       "      <td>200</td>\n",
       "      <td>600</td>\n",
       "      <td>15100</td>\n",
       "      <td>181200</td>\n",
       "      <td>60400</td>\n",
       "      <td>181200</td>\n",
       "    </tr>\n",
       "  </tbody>\n",
       "</table>\n",
       "</div>"
      ],
      "text/plain": [
       "                       Sampling Rate (hz)  Data Rate (b/s)  \\\n",
       "stage         group                                          \n",
       "boost (3s)    MS5611                 1024             8192   \n",
       "              LSM6DSO                 416             9984   \n",
       "              BMP390                   50              400   \n",
       "ascent (30s)  MS5611                 1024             8192   \n",
       "              LSM6DSO                 208             4992   \n",
       "              BMP390                  180             1440   \n",
       "flight (302s) MS5611                  512             4096   \n",
       "              LSM6DSO                  52             1248   \n",
       "              BMP390                   50              400   \n",
       "\n",
       "                       Timestamp Rate (b/s)  Packet Rate (b/s)  Total Samples  \\\n",
       "stage         group                                                             \n",
       "boost (3s)    MS5611                   4096              12288           3072   \n",
       "              LSM6DSO                  1664              11648           1248   \n",
       "              BMP390                    200                600            150   \n",
       "ascent (30s)  MS5611                   4096              12288          30720   \n",
       "              LSM6DSO                   832               5824           6240   \n",
       "              BMP390                    720               2160           5400   \n",
       "flight (302s) MS5611                   2048               6144         154624   \n",
       "              LSM6DSO                   208               1456          15704   \n",
       "              BMP390                    200                600          15100   \n",
       "\n",
       "                       Total Sensor Data (b)  Total Timestamp Data (b)  \\\n",
       "stage         group                                                      \n",
       "boost (3s)    MS5611                   36864                     12288   \n",
       "              LSM6DSO                  34944                      4992   \n",
       "              BMP390                    1800                       600   \n",
       "ascent (30s)  MS5611                  368640                    122880   \n",
       "              LSM6DSO                 174720                     24960   \n",
       "              BMP390                   64800                     21600   \n",
       "flight (302s) MS5611                 1855488                    618496   \n",
       "              LSM6DSO                 439712                     62816   \n",
       "              BMP390                  181200                     60400   \n",
       "\n",
       "                       Total Data (b)  \n",
       "stage         group                    \n",
       "boost (3s)    MS5611            36864  \n",
       "              LSM6DSO           34944  \n",
       "              BMP390             1800  \n",
       "ascent (30s)  MS5611           368640  \n",
       "              LSM6DSO          174720  \n",
       "              BMP390            64800  \n",
       "flight (302s) MS5611          1855488  \n",
       "              LSM6DSO          439712  \n",
       "              BMP390           181200  "
      ]
     },
     "execution_count": 48,
     "metadata": {},
     "output_type": "execute_result"
    }
   ],
   "source": [
    "forDisplay = combined.join(stagelendf).rename(columns={\n",
    "    'read_rate': 'Sampling Rate (hz)',\n",
    "    'data_byte_rate': \"Data Rate (b/s)\",\n",
    "    'timestamp_byte_rate': \"Timestamp Rate (b/s)\",\n",
    "    'packet_byte_rate': \"Packet Rate (b/s)\",\n",
    "    'num_samples': 'Total Samples',\n",
    "    'data_total_bytes': 'Total Sensor Data (b)',\n",
    "    'timestamp_total_bytes': 'Total Timestamp Data (b)',\n",
    "    'packet_total_bytes': 'Total Data (b)',\n",
    "    'time_s': 'Stage Time'\n",
    "})\n",
    "\n",
    "forDisplay.set_index(forDisplay.index.map(lambda r: (\n",
    "    f'{r[0]} ({stagelendf.loc[r[0]][\"time_s\"]}s)', r[1]))).drop(columns=['Stage Time'])\n"
   ]
  },
  {
   "cell_type": "code",
   "execution_count": 49,
   "metadata": {},
   "outputs": [],
   "source": [
    "totals = combined[['data_total_bytes', 'timestamp_total_bytes', 'packet_total_bytes']] \\\n",
    "    .rename(columns={'data_total_bytes': 'data', 'timestamp_total_bytes': 'timestamp', 'packet_total_bytes': 'packet'}) \\\n",
    "    .stack() \\\n",
    "    .rename('total') \\\n",
    "    .rename_axis(['stage', 'group', 'part']) \\\n",
    "    .to_frame()\n",
    "\n",
    "rates = combined[['data_byte_rate', 'timestamp_byte_rate', 'packet_byte_rate']] \\\n",
    "    .rename(columns={'data_byte_rate': 'data', 'timestamp_byte_rate': 'timestamp', 'packet_byte_rate': 'packet'}) \\\n",
    "    .stack() \\\n",
    "    .rename('rate') \\\n",
    "    .rename_axis(['stage', 'group', 'part']) \\\n",
    "    .to_frame()\n"
   ]
  },
  {
   "cell_type": "code",
   "execution_count": 50,
   "metadata": {},
   "outputs": [],
   "source": [
    "noind = totals.join(rates).reset_index()\n",
    "parts = noind[noind['part'] != 'packet'].set_index(['stage', 'group', 'part'])\n"
   ]
  },
  {
   "cell_type": "code",
   "execution_count": 51,
   "metadata": {},
   "outputs": [
    {
     "data": {
      "text/html": [
       "<div>\n",
       "<style scoped>\n",
       "    .dataframe tbody tr th:only-of-type {\n",
       "        vertical-align: middle;\n",
       "    }\n",
       "\n",
       "    .dataframe tbody tr th {\n",
       "        vertical-align: top;\n",
       "    }\n",
       "\n",
       "    .dataframe thead tr th {\n",
       "        text-align: left;\n",
       "    }\n",
       "\n",
       "    .dataframe thead tr:last-of-type th {\n",
       "        text-align: right;\n",
       "    }\n",
       "</style>\n",
       "<table border=\"1\" class=\"dataframe\">\n",
       "  <thead>\n",
       "    <tr>\n",
       "      <th></th>\n",
       "      <th></th>\n",
       "      <th colspan=\"2\" halign=\"left\">total</th>\n",
       "      <th colspan=\"2\" halign=\"left\">rate</th>\n",
       "    </tr>\n",
       "    <tr>\n",
       "      <th></th>\n",
       "      <th>part</th>\n",
       "      <th>data</th>\n",
       "      <th>timestamp</th>\n",
       "      <th>data</th>\n",
       "      <th>timestamp</th>\n",
       "    </tr>\n",
       "    <tr>\n",
       "      <th>stage</th>\n",
       "      <th>group</th>\n",
       "      <th></th>\n",
       "      <th></th>\n",
       "      <th></th>\n",
       "      <th></th>\n",
       "    </tr>\n",
       "  </thead>\n",
       "  <tbody>\n",
       "    <tr>\n",
       "      <th rowspan=\"3\" valign=\"top\">ascent</th>\n",
       "      <th>BMP390</th>\n",
       "      <td>64800</td>\n",
       "      <td>21600</td>\n",
       "      <td>1440</td>\n",
       "      <td>720</td>\n",
       "    </tr>\n",
       "    <tr>\n",
       "      <th>LSM6DSO</th>\n",
       "      <td>174720</td>\n",
       "      <td>24960</td>\n",
       "      <td>4992</td>\n",
       "      <td>832</td>\n",
       "    </tr>\n",
       "    <tr>\n",
       "      <th>MS5611</th>\n",
       "      <td>368640</td>\n",
       "      <td>122880</td>\n",
       "      <td>8192</td>\n",
       "      <td>4096</td>\n",
       "    </tr>\n",
       "    <tr>\n",
       "      <th rowspan=\"3\" valign=\"top\">boost</th>\n",
       "      <th>BMP390</th>\n",
       "      <td>1800</td>\n",
       "      <td>600</td>\n",
       "      <td>400</td>\n",
       "      <td>200</td>\n",
       "    </tr>\n",
       "    <tr>\n",
       "      <th>LSM6DSO</th>\n",
       "      <td>34944</td>\n",
       "      <td>4992</td>\n",
       "      <td>9984</td>\n",
       "      <td>1664</td>\n",
       "    </tr>\n",
       "    <tr>\n",
       "      <th>MS5611</th>\n",
       "      <td>36864</td>\n",
       "      <td>12288</td>\n",
       "      <td>8192</td>\n",
       "      <td>4096</td>\n",
       "    </tr>\n",
       "    <tr>\n",
       "      <th rowspan=\"3\" valign=\"top\">flight</th>\n",
       "      <th>BMP390</th>\n",
       "      <td>181200</td>\n",
       "      <td>60400</td>\n",
       "      <td>400</td>\n",
       "      <td>200</td>\n",
       "    </tr>\n",
       "    <tr>\n",
       "      <th>LSM6DSO</th>\n",
       "      <td>439712</td>\n",
       "      <td>62816</td>\n",
       "      <td>1248</td>\n",
       "      <td>208</td>\n",
       "    </tr>\n",
       "    <tr>\n",
       "      <th>MS5611</th>\n",
       "      <td>1855488</td>\n",
       "      <td>618496</td>\n",
       "      <td>4096</td>\n",
       "      <td>2048</td>\n",
       "    </tr>\n",
       "  </tbody>\n",
       "</table>\n",
       "</div>"
      ],
      "text/plain": [
       "                  total            rate          \n",
       "part               data timestamp  data timestamp\n",
       "stage  group                                     \n",
       "ascent BMP390     64800     21600  1440       720\n",
       "       LSM6DSO   174720     24960  4992       832\n",
       "       MS5611    368640    122880  8192      4096\n",
       "boost  BMP390      1800       600   400       200\n",
       "       LSM6DSO    34944      4992  9984      1664\n",
       "       MS5611     36864     12288  8192      4096\n",
       "flight BMP390    181200     60400   400       200\n",
       "       LSM6DSO   439712     62816  1248       208\n",
       "       MS5611   1855488    618496  4096      2048"
      ]
     },
     "execution_count": 51,
     "metadata": {},
     "output_type": "execute_result"
    }
   ],
   "source": [
    "parts.unstack()\n"
   ]
  },
  {
   "cell_type": "code",
   "execution_count": 52,
   "metadata": {},
   "outputs": [],
   "source": [
    "import plotly.express as px\n"
   ]
  },
  {
   "cell_type": "code",
   "execution_count": 53,
   "metadata": {},
   "outputs": [
    {
     "data": {
      "application/vnd.plotly.v1+json": {
       "config": {
        "plotlyServerURL": "https://plot.ly"
       },
       "data": [
        {
         "branchvalues": "total",
         "domain": {
          "x": [
           0,
           1
          ],
          "y": [
           0,
           1
          ]
         },
         "hovertemplate": "labels=%{label}<br>total=%{value}<br>parent=%{parent}<br>id=%{id}<extra></extra>",
         "ids": [
          "ascent/BMP390/data",
          "boost/BMP390/data",
          "flight/BMP390/data",
          "ascent/LSM6DSO/data",
          "boost/LSM6DSO/data",
          "flight/LSM6DSO/data",
          "ascent/MS5611/data",
          "boost/MS5611/data",
          "flight/MS5611/data",
          "ascent/BMP390/timestamp",
          "boost/BMP390/timestamp",
          "flight/BMP390/timestamp",
          "ascent/LSM6DSO/timestamp",
          "boost/LSM6DSO/timestamp",
          "flight/LSM6DSO/timestamp",
          "ascent/MS5611/timestamp",
          "boost/MS5611/timestamp",
          "flight/MS5611/timestamp",
          "ascent/BMP390",
          "boost/BMP390",
          "flight/BMP390",
          "ascent/LSM6DSO",
          "boost/LSM6DSO",
          "flight/LSM6DSO",
          "ascent/MS5611",
          "boost/MS5611",
          "flight/MS5611",
          "ascent",
          "boost",
          "flight"
         ],
         "labels": [
          "data",
          "data",
          "data",
          "data",
          "data",
          "data",
          "data",
          "data",
          "data",
          "timestamp",
          "timestamp",
          "timestamp",
          "timestamp",
          "timestamp",
          "timestamp",
          "timestamp",
          "timestamp",
          "timestamp",
          "BMP390",
          "BMP390",
          "BMP390",
          "LSM6DSO",
          "LSM6DSO",
          "LSM6DSO",
          "MS5611",
          "MS5611",
          "MS5611",
          "ascent",
          "boost",
          "flight"
         ],
         "name": "",
         "parents": [
          "ascent/BMP390",
          "boost/BMP390",
          "flight/BMP390",
          "ascent/LSM6DSO",
          "boost/LSM6DSO",
          "flight/LSM6DSO",
          "ascent/MS5611",
          "boost/MS5611",
          "flight/MS5611",
          "ascent/BMP390",
          "boost/BMP390",
          "flight/BMP390",
          "ascent/LSM6DSO",
          "boost/LSM6DSO",
          "flight/LSM6DSO",
          "ascent/MS5611",
          "boost/MS5611",
          "flight/MS5611",
          "ascent",
          "boost",
          "flight",
          "ascent",
          "boost",
          "flight",
          "ascent",
          "boost",
          "flight",
          "",
          "",
          ""
         ],
         "type": "sunburst",
         "values": [
          64800,
          1800,
          181200,
          174720,
          34944,
          439712,
          368640,
          36864,
          1855488,
          21600,
          600,
          60400,
          24960,
          4992,
          62816,
          122880,
          12288,
          618496,
          86400,
          2400,
          241600,
          199680,
          39936,
          502528,
          491520,
          49152,
          2473984,
          777600,
          91488,
          3218112
         ]
        }
       ],
       "layout": {
        "legend": {
         "tracegroupgap": 0
        },
        "template": {
         "data": {
          "bar": [
           {
            "error_x": {
             "color": "#2a3f5f"
            },
            "error_y": {
             "color": "#2a3f5f"
            },
            "marker": {
             "line": {
              "color": "#E5ECF6",
              "width": 0.5
             },
             "pattern": {
              "fillmode": "overlay",
              "size": 10,
              "solidity": 0.2
             }
            },
            "type": "bar"
           }
          ],
          "barpolar": [
           {
            "marker": {
             "line": {
              "color": "#E5ECF6",
              "width": 0.5
             },
             "pattern": {
              "fillmode": "overlay",
              "size": 10,
              "solidity": 0.2
             }
            },
            "type": "barpolar"
           }
          ],
          "carpet": [
           {
            "aaxis": {
             "endlinecolor": "#2a3f5f",
             "gridcolor": "white",
             "linecolor": "white",
             "minorgridcolor": "white",
             "startlinecolor": "#2a3f5f"
            },
            "baxis": {
             "endlinecolor": "#2a3f5f",
             "gridcolor": "white",
             "linecolor": "white",
             "minorgridcolor": "white",
             "startlinecolor": "#2a3f5f"
            },
            "type": "carpet"
           }
          ],
          "choropleth": [
           {
            "colorbar": {
             "outlinewidth": 0,
             "ticks": ""
            },
            "type": "choropleth"
           }
          ],
          "contour": [
           {
            "colorbar": {
             "outlinewidth": 0,
             "ticks": ""
            },
            "colorscale": [
             [
              0,
              "#0d0887"
             ],
             [
              0.1111111111111111,
              "#46039f"
             ],
             [
              0.2222222222222222,
              "#7201a8"
             ],
             [
              0.3333333333333333,
              "#9c179e"
             ],
             [
              0.4444444444444444,
              "#bd3786"
             ],
             [
              0.5555555555555556,
              "#d8576b"
             ],
             [
              0.6666666666666666,
              "#ed7953"
             ],
             [
              0.7777777777777778,
              "#fb9f3a"
             ],
             [
              0.8888888888888888,
              "#fdca26"
             ],
             [
              1,
              "#f0f921"
             ]
            ],
            "type": "contour"
           }
          ],
          "contourcarpet": [
           {
            "colorbar": {
             "outlinewidth": 0,
             "ticks": ""
            },
            "type": "contourcarpet"
           }
          ],
          "heatmap": [
           {
            "colorbar": {
             "outlinewidth": 0,
             "ticks": ""
            },
            "colorscale": [
             [
              0,
              "#0d0887"
             ],
             [
              0.1111111111111111,
              "#46039f"
             ],
             [
              0.2222222222222222,
              "#7201a8"
             ],
             [
              0.3333333333333333,
              "#9c179e"
             ],
             [
              0.4444444444444444,
              "#bd3786"
             ],
             [
              0.5555555555555556,
              "#d8576b"
             ],
             [
              0.6666666666666666,
              "#ed7953"
             ],
             [
              0.7777777777777778,
              "#fb9f3a"
             ],
             [
              0.8888888888888888,
              "#fdca26"
             ],
             [
              1,
              "#f0f921"
             ]
            ],
            "type": "heatmap"
           }
          ],
          "heatmapgl": [
           {
            "colorbar": {
             "outlinewidth": 0,
             "ticks": ""
            },
            "colorscale": [
             [
              0,
              "#0d0887"
             ],
             [
              0.1111111111111111,
              "#46039f"
             ],
             [
              0.2222222222222222,
              "#7201a8"
             ],
             [
              0.3333333333333333,
              "#9c179e"
             ],
             [
              0.4444444444444444,
              "#bd3786"
             ],
             [
              0.5555555555555556,
              "#d8576b"
             ],
             [
              0.6666666666666666,
              "#ed7953"
             ],
             [
              0.7777777777777778,
              "#fb9f3a"
             ],
             [
              0.8888888888888888,
              "#fdca26"
             ],
             [
              1,
              "#f0f921"
             ]
            ],
            "type": "heatmapgl"
           }
          ],
          "histogram": [
           {
            "marker": {
             "pattern": {
              "fillmode": "overlay",
              "size": 10,
              "solidity": 0.2
             }
            },
            "type": "histogram"
           }
          ],
          "histogram2d": [
           {
            "colorbar": {
             "outlinewidth": 0,
             "ticks": ""
            },
            "colorscale": [
             [
              0,
              "#0d0887"
             ],
             [
              0.1111111111111111,
              "#46039f"
             ],
             [
              0.2222222222222222,
              "#7201a8"
             ],
             [
              0.3333333333333333,
              "#9c179e"
             ],
             [
              0.4444444444444444,
              "#bd3786"
             ],
             [
              0.5555555555555556,
              "#d8576b"
             ],
             [
              0.6666666666666666,
              "#ed7953"
             ],
             [
              0.7777777777777778,
              "#fb9f3a"
             ],
             [
              0.8888888888888888,
              "#fdca26"
             ],
             [
              1,
              "#f0f921"
             ]
            ],
            "type": "histogram2d"
           }
          ],
          "histogram2dcontour": [
           {
            "colorbar": {
             "outlinewidth": 0,
             "ticks": ""
            },
            "colorscale": [
             [
              0,
              "#0d0887"
             ],
             [
              0.1111111111111111,
              "#46039f"
             ],
             [
              0.2222222222222222,
              "#7201a8"
             ],
             [
              0.3333333333333333,
              "#9c179e"
             ],
             [
              0.4444444444444444,
              "#bd3786"
             ],
             [
              0.5555555555555556,
              "#d8576b"
             ],
             [
              0.6666666666666666,
              "#ed7953"
             ],
             [
              0.7777777777777778,
              "#fb9f3a"
             ],
             [
              0.8888888888888888,
              "#fdca26"
             ],
             [
              1,
              "#f0f921"
             ]
            ],
            "type": "histogram2dcontour"
           }
          ],
          "mesh3d": [
           {
            "colorbar": {
             "outlinewidth": 0,
             "ticks": ""
            },
            "type": "mesh3d"
           }
          ],
          "parcoords": [
           {
            "line": {
             "colorbar": {
              "outlinewidth": 0,
              "ticks": ""
             }
            },
            "type": "parcoords"
           }
          ],
          "pie": [
           {
            "automargin": true,
            "type": "pie"
           }
          ],
          "scatter": [
           {
            "fillpattern": {
             "fillmode": "overlay",
             "size": 10,
             "solidity": 0.2
            },
            "type": "scatter"
           }
          ],
          "scatter3d": [
           {
            "line": {
             "colorbar": {
              "outlinewidth": 0,
              "ticks": ""
             }
            },
            "marker": {
             "colorbar": {
              "outlinewidth": 0,
              "ticks": ""
             }
            },
            "type": "scatter3d"
           }
          ],
          "scattercarpet": [
           {
            "marker": {
             "colorbar": {
              "outlinewidth": 0,
              "ticks": ""
             }
            },
            "type": "scattercarpet"
           }
          ],
          "scattergeo": [
           {
            "marker": {
             "colorbar": {
              "outlinewidth": 0,
              "ticks": ""
             }
            },
            "type": "scattergeo"
           }
          ],
          "scattergl": [
           {
            "marker": {
             "colorbar": {
              "outlinewidth": 0,
              "ticks": ""
             }
            },
            "type": "scattergl"
           }
          ],
          "scattermapbox": [
           {
            "marker": {
             "colorbar": {
              "outlinewidth": 0,
              "ticks": ""
             }
            },
            "type": "scattermapbox"
           }
          ],
          "scatterpolar": [
           {
            "marker": {
             "colorbar": {
              "outlinewidth": 0,
              "ticks": ""
             }
            },
            "type": "scatterpolar"
           }
          ],
          "scatterpolargl": [
           {
            "marker": {
             "colorbar": {
              "outlinewidth": 0,
              "ticks": ""
             }
            },
            "type": "scatterpolargl"
           }
          ],
          "scatterternary": [
           {
            "marker": {
             "colorbar": {
              "outlinewidth": 0,
              "ticks": ""
             }
            },
            "type": "scatterternary"
           }
          ],
          "surface": [
           {
            "colorbar": {
             "outlinewidth": 0,
             "ticks": ""
            },
            "colorscale": [
             [
              0,
              "#0d0887"
             ],
             [
              0.1111111111111111,
              "#46039f"
             ],
             [
              0.2222222222222222,
              "#7201a8"
             ],
             [
              0.3333333333333333,
              "#9c179e"
             ],
             [
              0.4444444444444444,
              "#bd3786"
             ],
             [
              0.5555555555555556,
              "#d8576b"
             ],
             [
              0.6666666666666666,
              "#ed7953"
             ],
             [
              0.7777777777777778,
              "#fb9f3a"
             ],
             [
              0.8888888888888888,
              "#fdca26"
             ],
             [
              1,
              "#f0f921"
             ]
            ],
            "type": "surface"
           }
          ],
          "table": [
           {
            "cells": {
             "fill": {
              "color": "#EBF0F8"
             },
             "line": {
              "color": "white"
             }
            },
            "header": {
             "fill": {
              "color": "#C8D4E3"
             },
             "line": {
              "color": "white"
             }
            },
            "type": "table"
           }
          ]
         },
         "layout": {
          "annotationdefaults": {
           "arrowcolor": "#2a3f5f",
           "arrowhead": 0,
           "arrowwidth": 1
          },
          "autotypenumbers": "strict",
          "coloraxis": {
           "colorbar": {
            "outlinewidth": 0,
            "ticks": ""
           }
          },
          "colorscale": {
           "diverging": [
            [
             0,
             "#8e0152"
            ],
            [
             0.1,
             "#c51b7d"
            ],
            [
             0.2,
             "#de77ae"
            ],
            [
             0.3,
             "#f1b6da"
            ],
            [
             0.4,
             "#fde0ef"
            ],
            [
             0.5,
             "#f7f7f7"
            ],
            [
             0.6,
             "#e6f5d0"
            ],
            [
             0.7,
             "#b8e186"
            ],
            [
             0.8,
             "#7fbc41"
            ],
            [
             0.9,
             "#4d9221"
            ],
            [
             1,
             "#276419"
            ]
           ],
           "sequential": [
            [
             0,
             "#0d0887"
            ],
            [
             0.1111111111111111,
             "#46039f"
            ],
            [
             0.2222222222222222,
             "#7201a8"
            ],
            [
             0.3333333333333333,
             "#9c179e"
            ],
            [
             0.4444444444444444,
             "#bd3786"
            ],
            [
             0.5555555555555556,
             "#d8576b"
            ],
            [
             0.6666666666666666,
             "#ed7953"
            ],
            [
             0.7777777777777778,
             "#fb9f3a"
            ],
            [
             0.8888888888888888,
             "#fdca26"
            ],
            [
             1,
             "#f0f921"
            ]
           ],
           "sequentialminus": [
            [
             0,
             "#0d0887"
            ],
            [
             0.1111111111111111,
             "#46039f"
            ],
            [
             0.2222222222222222,
             "#7201a8"
            ],
            [
             0.3333333333333333,
             "#9c179e"
            ],
            [
             0.4444444444444444,
             "#bd3786"
            ],
            [
             0.5555555555555556,
             "#d8576b"
            ],
            [
             0.6666666666666666,
             "#ed7953"
            ],
            [
             0.7777777777777778,
             "#fb9f3a"
            ],
            [
             0.8888888888888888,
             "#fdca26"
            ],
            [
             1,
             "#f0f921"
            ]
           ]
          },
          "colorway": [
           "#636efa",
           "#EF553B",
           "#00cc96",
           "#ab63fa",
           "#FFA15A",
           "#19d3f3",
           "#FF6692",
           "#B6E880",
           "#FF97FF",
           "#FECB52"
          ],
          "font": {
           "color": "#2a3f5f"
          },
          "geo": {
           "bgcolor": "white",
           "lakecolor": "white",
           "landcolor": "#E5ECF6",
           "showlakes": true,
           "showland": true,
           "subunitcolor": "white"
          },
          "hoverlabel": {
           "align": "left"
          },
          "hovermode": "closest",
          "mapbox": {
           "style": "light"
          },
          "paper_bgcolor": "white",
          "plot_bgcolor": "#E5ECF6",
          "polar": {
           "angularaxis": {
            "gridcolor": "white",
            "linecolor": "white",
            "ticks": ""
           },
           "bgcolor": "#E5ECF6",
           "radialaxis": {
            "gridcolor": "white",
            "linecolor": "white",
            "ticks": ""
           }
          },
          "scene": {
           "xaxis": {
            "backgroundcolor": "#E5ECF6",
            "gridcolor": "white",
            "gridwidth": 2,
            "linecolor": "white",
            "showbackground": true,
            "ticks": "",
            "zerolinecolor": "white"
           },
           "yaxis": {
            "backgroundcolor": "#E5ECF6",
            "gridcolor": "white",
            "gridwidth": 2,
            "linecolor": "white",
            "showbackground": true,
            "ticks": "",
            "zerolinecolor": "white"
           },
           "zaxis": {
            "backgroundcolor": "#E5ECF6",
            "gridcolor": "white",
            "gridwidth": 2,
            "linecolor": "white",
            "showbackground": true,
            "ticks": "",
            "zerolinecolor": "white"
           }
          },
          "shapedefaults": {
           "line": {
            "color": "#2a3f5f"
           }
          },
          "ternary": {
           "aaxis": {
            "gridcolor": "white",
            "linecolor": "white",
            "ticks": ""
           },
           "baxis": {
            "gridcolor": "white",
            "linecolor": "white",
            "ticks": ""
           },
           "bgcolor": "#E5ECF6",
           "caxis": {
            "gridcolor": "white",
            "linecolor": "white",
            "ticks": ""
           }
          },
          "title": {
           "x": 0.05
          },
          "xaxis": {
           "automargin": true,
           "gridcolor": "white",
           "linecolor": "white",
           "ticks": "",
           "title": {
            "standoff": 15
           },
           "zerolinecolor": "white",
           "zerolinewidth": 2
          },
          "yaxis": {
           "automargin": true,
           "gridcolor": "white",
           "linecolor": "white",
           "ticks": "",
           "title": {
            "standoff": 15
           },
           "zerolinecolor": "white",
           "zerolinewidth": 2
          }
         }
        },
        "title": {
         "text": "Data Usage"
        }
       }
      }
     },
     "metadata": {},
     "output_type": "display_data"
    }
   ],
   "source": [
    "fig = px.sunburst(parts.reset_index(), path=[\n",
    "                  'stage', 'group', 'part'], values='total', title=\"Data Usage\")\n",
    "fig.show()\n"
   ]
  }
 ],
 "metadata": {
  "kernelspec": {
   "display_name": "python-3.12",
   "language": "python",
   "name": "python3"
  },
  "language_info": {
   "codemirror_mode": {
    "name": "ipython",
    "version": 3
   },
   "file_extension": ".py",
   "mimetype": "text/x-python",
   "name": "python",
   "nbconvert_exporter": "python",
   "pygments_lexer": "ipython3",
   "version": "3.12.7"
  }
 },
 "nbformat": 4,
 "nbformat_minor": 2
}
