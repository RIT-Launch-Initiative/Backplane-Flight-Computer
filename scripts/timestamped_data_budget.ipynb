{
 "cells": [
  {
   "cell_type": "code",
   "execution_count": 362,
   "metadata": {},
   "outputs": [],
   "source": [
    "import altair as alt\n",
    "import plotly.express as px\n",
    "\n",
    "import pandas as pd\n",
    "import numpy as np\n"
   ]
  },
  {
   "cell_type": "code",
   "execution_count": 363,
   "metadata": {},
   "outputs": [],
   "source": [
    "# Payload\n",
    "# Deployment Mod\n",
    "measurement_sizes = {\n",
    "    'BMP390 Temperature': 4,\n",
    "    'BMP390 Pressure': 4,\n",
    "    'LSM6DSL Acc': 4*3,\n",
    "    'LSM6DSL Gyro': 4*3,\n",
    "    'GPS All': 32, #\n",
    "    'Battery INA260': 4*2,\n",
    "    '3V3 INA260': 4*2,\n",
    "    'Radio Temp': 1,\n",
    "}\n",
    "\n",
    "groups = {\n",
    "    'LSM6DSL': ['LSM6DSL Acc', 'LSM6DSL Gyro'],\n",
    "    'BMP390': ['BMP390 Temperature', 'BMP390 Pressure'],\n",
    "    'GPS,Power': ['GPS All', 'Battery INA260', '3V3 INA260', 'Radio Temp']\n",
    "}\n",
    "\n",
    "# seconds\n",
    "stages = [\n",
    "    ['boost', 3],\n",
    "    ['coast', 30],\n",
    "    ['flight', 302],\n",
    "    ['ground', 24*60*60] #one day\n",
    "]\n",
    "\n",
    "stage_rates = {\n",
    "    'boost': {'LSM6DSL': 1000, 'BMP390': 100, 'GPS,Power': 1},\n",
    "    'coast': {'LSM6DSL': 100, 'BMP390': 100, 'GPS,Power': 1},\n",
    "    'flight': {'LSM6DSL': 100, 'BMP390': 100, 'GPS,Power': 1},\n",
    "    'ground': {'LSM6DSL': 5, 'BMP390': 1/30, 'GPS,Power': 1/30}\n",
    "}\n",
    "\n",
    "\n",
    "timestamp_size_bytes = 4\n",
    "\n",
    "flash_chip_size_bytes = 128 * 1024 * 1024 / 8\n"
   ]
  },
  {
   "cell_type": "code",
   "execution_count": 364,
   "metadata": {},
   "outputs": [],
   "source": [
    "# Deployment Mod\n",
    "# measurement_sizes = {\n",
    "#     'BMP390 Temperature': 4,\n",
    "#     'BMP390 Pressure': 4,\n",
    "#     'LSM6DSO Acc': 4*3,\n",
    "#     'LSM6DSO Gyro': 4*3,\n",
    "#     'MS5611 Press': 4,\n",
    "#     'MS5611 Temp': 4,\n",
    "# }\n",
    "# groups = {\n",
    "#     'MS5611': ['MS5611 Press', 'MS5611 Temp'],\n",
    "#     'LSM6DSO': ['LSM6DSO Acc', 'LSM6DSO Gyro'],\n",
    "#     'BMP390': ['BMP390 Temperature', 'BMP390 Pressure'],\n",
    "# }\n",
    "\n",
    "# # ms\n",
    "# stages = [\n",
    "#     ['boost', 3],\n",
    "#     ['ascent', 30],\n",
    "#     ['flight', 302],\n",
    "# ]\n",
    "\n",
    "# stage_rates = {\n",
    "#     'boost': {'MS5611': 1024, 'LSM6DSO': 416, 'BMP390': 50},\n",
    "#     'ascent': {'MS5611': 1024, 'LSM6DSO': 208, 'BMP390': 180},\n",
    "#     'flight': {'MS5611': 512, 'LSM6DSO': 52, 'BMP390': 50},\n",
    "# }\n",
    "\n",
    "\n",
    "# timestamp_size_bytes = 4\n",
    "\n",
    "# flash_chip_size_bytes = 128 * 1024 * 1024"
   ]
  },
  {
   "cell_type": "code",
   "execution_count": 365,
   "metadata": {},
   "outputs": [],
   "source": [
    "sizedf = pd.DataFrame.from_dict(\n",
    "    measurement_sizes, orient='index', columns=['size_bytes'])\n",
    "\n",
    "stageratedf = pd.DataFrame.from_dict(stage_rates).T\n",
    "\n",
    "stagelendf = pd.DataFrame.from_records(\n",
    "    stages, columns=['stage', 'time_s'], index='stage')\n",
    "\n",
    "packetsizedf = pd.DataFrame.from_records([(groupname, sum([measurement_sizes[sensor] for sensor in groups[groupname]]))\n",
    "                                         for groupname in groups.keys()], columns=['group', 'data'], index='group')\n",
    "packetsizedf['timestamp'] = timestamp_size_bytes\n"
   ]
  },
  {
   "cell_type": "code",
   "execution_count": 366,
   "metadata": {},
   "outputs": [],
   "source": [
    "combined = stageratedf.stack().to_frame(name='read_rate')\n",
    "combined.index.set_names(['stage', 'group'], inplace=True)\n",
    "\n",
    "totals = combined.join(packetsizedf) \\\n",
    "    .apply(lambda r: [r['read_rate'] * r['data'], r['read_rate'] * r['timestamp']], axis=1, result_type='expand') \\\n",
    "    .rename(columns={0: 'data', 1: 'timestamp'}).stack().rename('rate').rename_axis(['stage', 'group', 'part']).to_frame()\n",
    "\n",
    "rates = combined.join(packetsizedf) \\\n",
    "    .apply(lambda r: [r['read_rate'] * r['data'], r['read_rate'] * r['timestamp']], axis=1, result_type='expand') \\\n",
    "    .rename(columns={0: 'data', 1: 'timestamp'}).stack().rename('rate').rename_axis(['stage', 'group', 'part']).to_frame()\n"
   ]
  },
  {
   "cell_type": "code",
   "execution_count": 367,
   "metadata": {},
   "outputs": [],
   "source": [
    "packetsizedf['size_with_ts'] = packetsizedf['data']  + packetsizedf['timestamp']"
   ]
  },
  {
   "cell_type": "code",
   "execution_count": 368,
   "metadata": {},
   "outputs": [
    {
     "data": {
      "text/html": [
       "<div>\n",
       "<style scoped>\n",
       "    .dataframe tbody tr th:only-of-type {\n",
       "        vertical-align: middle;\n",
       "    }\n",
       "\n",
       "    .dataframe tbody tr th {\n",
       "        vertical-align: top;\n",
       "    }\n",
       "\n",
       "    .dataframe thead th {\n",
       "        text-align: right;\n",
       "    }\n",
       "</style>\n",
       "<table border=\"1\" class=\"dataframe\">\n",
       "  <thead>\n",
       "    <tr style=\"text-align: right;\">\n",
       "      <th></th>\n",
       "      <th></th>\n",
       "      <th>read_rate</th>\n",
       "    </tr>\n",
       "    <tr>\n",
       "      <th>stage</th>\n",
       "      <th>group</th>\n",
       "      <th></th>\n",
       "    </tr>\n",
       "  </thead>\n",
       "  <tbody>\n",
       "    <tr>\n",
       "      <th rowspan=\"3\" valign=\"top\">boost</th>\n",
       "      <th>LSM6DSL</th>\n",
       "      <td>1000.000000</td>\n",
       "    </tr>\n",
       "    <tr>\n",
       "      <th>BMP390</th>\n",
       "      <td>100.000000</td>\n",
       "    </tr>\n",
       "    <tr>\n",
       "      <th>GPS,Power</th>\n",
       "      <td>1.000000</td>\n",
       "    </tr>\n",
       "    <tr>\n",
       "      <th rowspan=\"3\" valign=\"top\">coast</th>\n",
       "      <th>LSM6DSL</th>\n",
       "      <td>100.000000</td>\n",
       "    </tr>\n",
       "    <tr>\n",
       "      <th>BMP390</th>\n",
       "      <td>100.000000</td>\n",
       "    </tr>\n",
       "    <tr>\n",
       "      <th>GPS,Power</th>\n",
       "      <td>1.000000</td>\n",
       "    </tr>\n",
       "    <tr>\n",
       "      <th rowspan=\"3\" valign=\"top\">flight</th>\n",
       "      <th>LSM6DSL</th>\n",
       "      <td>100.000000</td>\n",
       "    </tr>\n",
       "    <tr>\n",
       "      <th>BMP390</th>\n",
       "      <td>100.000000</td>\n",
       "    </tr>\n",
       "    <tr>\n",
       "      <th>GPS,Power</th>\n",
       "      <td>1.000000</td>\n",
       "    </tr>\n",
       "    <tr>\n",
       "      <th rowspan=\"3\" valign=\"top\">ground</th>\n",
       "      <th>LSM6DSL</th>\n",
       "      <td>5.000000</td>\n",
       "    </tr>\n",
       "    <tr>\n",
       "      <th>BMP390</th>\n",
       "      <td>0.033333</td>\n",
       "    </tr>\n",
       "    <tr>\n",
       "      <th>GPS,Power</th>\n",
       "      <td>0.033333</td>\n",
       "    </tr>\n",
       "  </tbody>\n",
       "</table>\n",
       "</div>"
      ],
      "text/plain": [
       "                    read_rate\n",
       "stage  group                 \n",
       "boost  LSM6DSL    1000.000000\n",
       "       BMP390      100.000000\n",
       "       GPS,Power     1.000000\n",
       "coast  LSM6DSL     100.000000\n",
       "       BMP390      100.000000\n",
       "       GPS,Power     1.000000\n",
       "flight LSM6DSL     100.000000\n",
       "       BMP390      100.000000\n",
       "       GPS,Power     1.000000\n",
       "ground LSM6DSL       5.000000\n",
       "       BMP390        0.033333\n",
       "       GPS,Power     0.033333"
      ]
     },
     "execution_count": 368,
     "metadata": {},
     "output_type": "execute_result"
    }
   ],
   "source": [
    "combined\n"
   ]
  },
  {
   "cell_type": "code",
   "execution_count": 369,
   "metadata": {},
   "outputs": [],
   "source": [
    "combined['data_byte_rate'] = combined['read_rate'].mul(\n",
    "    packetsizedf['data'], level=1)\n",
    "combined['timestamp_byte_rate'] = combined['read_rate'].mul(\n",
    "    timestamp_size_bytes)\n",
    "combined['packet_byte_rate'] = combined['read_rate'].mul(\n",
    "    packetsizedf['size_with_ts'], level=1)\n"
   ]
  },
  {
   "cell_type": "code",
   "execution_count": 370,
   "metadata": {},
   "outputs": [
    {
     "data": {
      "text/html": [
       "<div>\n",
       "<style scoped>\n",
       "    .dataframe tbody tr th:only-of-type {\n",
       "        vertical-align: middle;\n",
       "    }\n",
       "\n",
       "    .dataframe tbody tr th {\n",
       "        vertical-align: top;\n",
       "    }\n",
       "\n",
       "    .dataframe thead th {\n",
       "        text-align: right;\n",
       "    }\n",
       "</style>\n",
       "<table border=\"1\" class=\"dataframe\">\n",
       "  <thead>\n",
       "    <tr style=\"text-align: right;\">\n",
       "      <th></th>\n",
       "      <th></th>\n",
       "      <th>read_rate</th>\n",
       "      <th>data_byte_rate</th>\n",
       "      <th>timestamp_byte_rate</th>\n",
       "      <th>packet_byte_rate</th>\n",
       "    </tr>\n",
       "    <tr>\n",
       "      <th>stage</th>\n",
       "      <th>group</th>\n",
       "      <th></th>\n",
       "      <th></th>\n",
       "      <th></th>\n",
       "      <th></th>\n",
       "    </tr>\n",
       "  </thead>\n",
       "  <tbody>\n",
       "    <tr>\n",
       "      <th rowspan=\"3\" valign=\"top\">boost</th>\n",
       "      <th>LSM6DSL</th>\n",
       "      <td>1000.000000</td>\n",
       "      <td>24000.000000</td>\n",
       "      <td>4000.000000</td>\n",
       "      <td>28000.000000</td>\n",
       "    </tr>\n",
       "    <tr>\n",
       "      <th>BMP390</th>\n",
       "      <td>100.000000</td>\n",
       "      <td>800.000000</td>\n",
       "      <td>400.000000</td>\n",
       "      <td>1200.000000</td>\n",
       "    </tr>\n",
       "    <tr>\n",
       "      <th>GPS,Power</th>\n",
       "      <td>1.000000</td>\n",
       "      <td>49.000000</td>\n",
       "      <td>4.000000</td>\n",
       "      <td>53.000000</td>\n",
       "    </tr>\n",
       "    <tr>\n",
       "      <th rowspan=\"3\" valign=\"top\">coast</th>\n",
       "      <th>LSM6DSL</th>\n",
       "      <td>100.000000</td>\n",
       "      <td>2400.000000</td>\n",
       "      <td>400.000000</td>\n",
       "      <td>2800.000000</td>\n",
       "    </tr>\n",
       "    <tr>\n",
       "      <th>BMP390</th>\n",
       "      <td>100.000000</td>\n",
       "      <td>800.000000</td>\n",
       "      <td>400.000000</td>\n",
       "      <td>1200.000000</td>\n",
       "    </tr>\n",
       "    <tr>\n",
       "      <th>GPS,Power</th>\n",
       "      <td>1.000000</td>\n",
       "      <td>49.000000</td>\n",
       "      <td>4.000000</td>\n",
       "      <td>53.000000</td>\n",
       "    </tr>\n",
       "    <tr>\n",
       "      <th rowspan=\"3\" valign=\"top\">flight</th>\n",
       "      <th>LSM6DSL</th>\n",
       "      <td>100.000000</td>\n",
       "      <td>2400.000000</td>\n",
       "      <td>400.000000</td>\n",
       "      <td>2800.000000</td>\n",
       "    </tr>\n",
       "    <tr>\n",
       "      <th>BMP390</th>\n",
       "      <td>100.000000</td>\n",
       "      <td>800.000000</td>\n",
       "      <td>400.000000</td>\n",
       "      <td>1200.000000</td>\n",
       "    </tr>\n",
       "    <tr>\n",
       "      <th>GPS,Power</th>\n",
       "      <td>1.000000</td>\n",
       "      <td>49.000000</td>\n",
       "      <td>4.000000</td>\n",
       "      <td>53.000000</td>\n",
       "    </tr>\n",
       "    <tr>\n",
       "      <th rowspan=\"3\" valign=\"top\">ground</th>\n",
       "      <th>LSM6DSL</th>\n",
       "      <td>5.000000</td>\n",
       "      <td>120.000000</td>\n",
       "      <td>20.000000</td>\n",
       "      <td>140.000000</td>\n",
       "    </tr>\n",
       "    <tr>\n",
       "      <th>BMP390</th>\n",
       "      <td>0.033333</td>\n",
       "      <td>0.266667</td>\n",
       "      <td>0.133333</td>\n",
       "      <td>0.400000</td>\n",
       "    </tr>\n",
       "    <tr>\n",
       "      <th>GPS,Power</th>\n",
       "      <td>0.033333</td>\n",
       "      <td>1.633333</td>\n",
       "      <td>0.133333</td>\n",
       "      <td>1.766667</td>\n",
       "    </tr>\n",
       "  </tbody>\n",
       "</table>\n",
       "</div>"
      ],
      "text/plain": [
       "                    read_rate  data_byte_rate  timestamp_byte_rate  \\\n",
       "stage  group                                                         \n",
       "boost  LSM6DSL    1000.000000    24000.000000          4000.000000   \n",
       "       BMP390      100.000000      800.000000           400.000000   \n",
       "       GPS,Power     1.000000       49.000000             4.000000   \n",
       "coast  LSM6DSL     100.000000     2400.000000           400.000000   \n",
       "       BMP390      100.000000      800.000000           400.000000   \n",
       "       GPS,Power     1.000000       49.000000             4.000000   \n",
       "flight LSM6DSL     100.000000     2400.000000           400.000000   \n",
       "       BMP390      100.000000      800.000000           400.000000   \n",
       "       GPS,Power     1.000000       49.000000             4.000000   \n",
       "ground LSM6DSL       5.000000      120.000000            20.000000   \n",
       "       BMP390        0.033333        0.266667             0.133333   \n",
       "       GPS,Power     0.033333        1.633333             0.133333   \n",
       "\n",
       "                  packet_byte_rate  \n",
       "stage  group                        \n",
       "boost  LSM6DSL        28000.000000  \n",
       "       BMP390          1200.000000  \n",
       "       GPS,Power         53.000000  \n",
       "coast  LSM6DSL         2800.000000  \n",
       "       BMP390          1200.000000  \n",
       "       GPS,Power         53.000000  \n",
       "flight LSM6DSL         2800.000000  \n",
       "       BMP390          1200.000000  \n",
       "       GPS,Power         53.000000  \n",
       "ground LSM6DSL          140.000000  \n",
       "       BMP390             0.400000  \n",
       "       GPS,Power          1.766667  "
      ]
     },
     "execution_count": 370,
     "metadata": {},
     "output_type": "execute_result"
    }
   ],
   "source": [
    "combined"
   ]
  },
  {
   "cell_type": "code",
   "execution_count": 371,
   "metadata": {},
   "outputs": [],
   "source": [
    "combined['num_samples'] = combined['read_rate'].mul(\n",
    "    stagelendf['time_s']).astype(int)\n",
    "combined['data_total_bytes'] = combined['num_samples'].mul(\n",
    "    packetsizedf['size_with_ts'], level=1).astype(int)\n",
    "combined['timestamp_total_bytes'] = combined['num_samples'].mul(\n",
    "    timestamp_size_bytes).astype(int)\n",
    "combined['packet_total_bytes'] = combined['data_total_bytes'] + combined['timestamp_total_bytes']"
   ]
  },
  {
   "cell_type": "code",
   "execution_count": 372,
   "metadata": {},
   "outputs": [
    {
     "data": {
      "text/html": [
       "<div>\n",
       "<style scoped>\n",
       "    .dataframe tbody tr th:only-of-type {\n",
       "        vertical-align: middle;\n",
       "    }\n",
       "\n",
       "    .dataframe tbody tr th {\n",
       "        vertical-align: top;\n",
       "    }\n",
       "\n",
       "    .dataframe thead th {\n",
       "        text-align: right;\n",
       "    }\n",
       "</style>\n",
       "<table border=\"1\" class=\"dataframe\">\n",
       "  <thead>\n",
       "    <tr style=\"text-align: right;\">\n",
       "      <th></th>\n",
       "      <th>data_total_bytes</th>\n",
       "      <th>timestamp_total_bytes</th>\n",
       "      <th>packet_total_bytes</th>\n",
       "    </tr>\n",
       "  </thead>\n",
       "  <tbody>\n",
       "    <tr>\n",
       "      <th>total</th>\n",
       "      <td>13716555.0</td>\n",
       "      <td>2031180.0</td>\n",
       "      <td>15747735.0</td>\n",
       "    </tr>\n",
       "  </tbody>\n",
       "</table>\n",
       "</div>"
      ],
      "text/plain": [
       "       data_total_bytes  timestamp_total_bytes  packet_total_bytes\n",
       "total        13716555.0              2031180.0          15747735.0"
      ]
     },
     "execution_count": 372,
     "metadata": {},
     "output_type": "execute_result"
    }
   ],
   "source": [
    "\n",
    "totals = combined.sum().to_frame(\n",
    "    'total').T[['data_total_bytes', 'timestamp_total_bytes', 'packet_total_bytes']]\n",
    "totals\n"
   ]
  },
  {
   "cell_type": "code",
   "execution_count": 373,
   "metadata": {},
   "outputs": [],
   "source": [
    "def littlefs_overhead(length):\n",
    "    return length * 1.01 + 2048\n"
   ]
  },
  {
   "cell_type": "code",
   "execution_count": 374,
   "metadata": {},
   "outputs": [
    {
     "data": {
      "text/html": [
       "<div>\n",
       "<style scoped>\n",
       "    .dataframe tbody tr th:only-of-type {\n",
       "        vertical-align: middle;\n",
       "    }\n",
       "\n",
       "    .dataframe tbody tr th {\n",
       "        vertical-align: top;\n",
       "    }\n",
       "\n",
       "    .dataframe thead th {\n",
       "        text-align: right;\n",
       "    }\n",
       "</style>\n",
       "<table border=\"1\" class=\"dataframe\">\n",
       "  <thead>\n",
       "    <tr style=\"text-align: right;\">\n",
       "      <th></th>\n",
       "      <th>data_total_bytes</th>\n",
       "      <th>timestamp_total_bytes</th>\n",
       "      <th>packet_total_bytes</th>\n",
       "    </tr>\n",
       "  </thead>\n",
       "  <tbody>\n",
       "    <tr>\n",
       "      <th>Including Overhead (B)</th>\n",
       "      <td>13855768.000</td>\n",
       "      <td>2053539.000</td>\n",
       "      <td>15907260.000</td>\n",
       "    </tr>\n",
       "    <tr>\n",
       "      <th>Including Overhead (MB)</th>\n",
       "      <td>13.214</td>\n",
       "      <td>1.958</td>\n",
       "      <td>15.170</td>\n",
       "    </tr>\n",
       "  </tbody>\n",
       "</table>\n",
       "</div>"
      ],
      "text/plain": [
       "                        data_total_bytes timestamp_total_bytes  \\\n",
       "Including Overhead (B)      13855768.000           2053539.000   \n",
       "Including Overhead (MB)           13.214                 1.958   \n",
       "\n",
       "                        packet_total_bytes  \n",
       "Including Overhead (B)        15907260.000  \n",
       "Including Overhead (MB)             15.170  "
      ]
     },
     "execution_count": 374,
     "metadata": {},
     "output_type": "execute_result"
    }
   ],
   "source": [
    "overhead = pd.concat([totals.map(lambda x : int(littlefs_overhead(x))).rename({'total': 'Including Overhead (B)'}), \\\n",
    "totals.map(lambda x : int(littlefs_overhead(x))/(1024*1024)).rename({'total': 'Including Overhead (MB)'})])\n",
    "bytes_used_including_overhead = overhead['packet_total_bytes']['Including Overhead (B)']\n",
    "overhead = overhead.map(lambda f : f\"{f:.3f}\")\n",
    "\n",
    "\n",
    "overhead\n",
    "\n"
   ]
  },
  {
   "cell_type": "code",
   "execution_count": 375,
   "metadata": {},
   "outputs": [
    {
     "data": {
      "text/html": [
       "<div>\n",
       "<style scoped>\n",
       "    .dataframe tbody tr th:only-of-type {\n",
       "        vertical-align: middle;\n",
       "    }\n",
       "\n",
       "    .dataframe tbody tr th {\n",
       "        vertical-align: top;\n",
       "    }\n",
       "\n",
       "    .dataframe thead th {\n",
       "        text-align: right;\n",
       "    }\n",
       "</style>\n",
       "<table border=\"1\" class=\"dataframe\">\n",
       "  <thead>\n",
       "    <tr style=\"text-align: right;\">\n",
       "      <th></th>\n",
       "      <th></th>\n",
       "      <th>read_rate</th>\n",
       "      <th>data_byte_rate</th>\n",
       "      <th>timestamp_byte_rate</th>\n",
       "      <th>packet_byte_rate</th>\n",
       "      <th>num_samples</th>\n",
       "      <th>data_total_bytes</th>\n",
       "      <th>timestamp_total_bytes</th>\n",
       "      <th>packet_total_bytes</th>\n",
       "    </tr>\n",
       "    <tr>\n",
       "      <th>stage</th>\n",
       "      <th>group</th>\n",
       "      <th></th>\n",
       "      <th></th>\n",
       "      <th></th>\n",
       "      <th></th>\n",
       "      <th></th>\n",
       "      <th></th>\n",
       "      <th></th>\n",
       "      <th></th>\n",
       "    </tr>\n",
       "  </thead>\n",
       "  <tbody>\n",
       "    <tr>\n",
       "      <th rowspan=\"3\" valign=\"top\">boost</th>\n",
       "      <th>LSM6DSL</th>\n",
       "      <td>1000.000000</td>\n",
       "      <td>24000.000000</td>\n",
       "      <td>4000.000000</td>\n",
       "      <td>28000.000000</td>\n",
       "      <td>3000</td>\n",
       "      <td>84000</td>\n",
       "      <td>12000</td>\n",
       "      <td>96000</td>\n",
       "    </tr>\n",
       "    <tr>\n",
       "      <th>BMP390</th>\n",
       "      <td>100.000000</td>\n",
       "      <td>800.000000</td>\n",
       "      <td>400.000000</td>\n",
       "      <td>1200.000000</td>\n",
       "      <td>300</td>\n",
       "      <td>3600</td>\n",
       "      <td>1200</td>\n",
       "      <td>4800</td>\n",
       "    </tr>\n",
       "    <tr>\n",
       "      <th>GPS,Power</th>\n",
       "      <td>1.000000</td>\n",
       "      <td>49.000000</td>\n",
       "      <td>4.000000</td>\n",
       "      <td>53.000000</td>\n",
       "      <td>3</td>\n",
       "      <td>159</td>\n",
       "      <td>12</td>\n",
       "      <td>171</td>\n",
       "    </tr>\n",
       "    <tr>\n",
       "      <th rowspan=\"3\" valign=\"top\">coast</th>\n",
       "      <th>LSM6DSL</th>\n",
       "      <td>100.000000</td>\n",
       "      <td>2400.000000</td>\n",
       "      <td>400.000000</td>\n",
       "      <td>2800.000000</td>\n",
       "      <td>3000</td>\n",
       "      <td>84000</td>\n",
       "      <td>12000</td>\n",
       "      <td>96000</td>\n",
       "    </tr>\n",
       "    <tr>\n",
       "      <th>BMP390</th>\n",
       "      <td>100.000000</td>\n",
       "      <td>800.000000</td>\n",
       "      <td>400.000000</td>\n",
       "      <td>1200.000000</td>\n",
       "      <td>3000</td>\n",
       "      <td>36000</td>\n",
       "      <td>12000</td>\n",
       "      <td>48000</td>\n",
       "    </tr>\n",
       "    <tr>\n",
       "      <th>GPS,Power</th>\n",
       "      <td>1.000000</td>\n",
       "      <td>49.000000</td>\n",
       "      <td>4.000000</td>\n",
       "      <td>53.000000</td>\n",
       "      <td>30</td>\n",
       "      <td>1590</td>\n",
       "      <td>120</td>\n",
       "      <td>1710</td>\n",
       "    </tr>\n",
       "    <tr>\n",
       "      <th rowspan=\"3\" valign=\"top\">flight</th>\n",
       "      <th>LSM6DSL</th>\n",
       "      <td>100.000000</td>\n",
       "      <td>2400.000000</td>\n",
       "      <td>400.000000</td>\n",
       "      <td>2800.000000</td>\n",
       "      <td>30200</td>\n",
       "      <td>845600</td>\n",
       "      <td>120800</td>\n",
       "      <td>966400</td>\n",
       "    </tr>\n",
       "    <tr>\n",
       "      <th>BMP390</th>\n",
       "      <td>100.000000</td>\n",
       "      <td>800.000000</td>\n",
       "      <td>400.000000</td>\n",
       "      <td>1200.000000</td>\n",
       "      <td>30200</td>\n",
       "      <td>362400</td>\n",
       "      <td>120800</td>\n",
       "      <td>483200</td>\n",
       "    </tr>\n",
       "    <tr>\n",
       "      <th>GPS,Power</th>\n",
       "      <td>1.000000</td>\n",
       "      <td>49.000000</td>\n",
       "      <td>4.000000</td>\n",
       "      <td>53.000000</td>\n",
       "      <td>302</td>\n",
       "      <td>16006</td>\n",
       "      <td>1208</td>\n",
       "      <td>17214</td>\n",
       "    </tr>\n",
       "    <tr>\n",
       "      <th rowspan=\"3\" valign=\"top\">ground</th>\n",
       "      <th>LSM6DSL</th>\n",
       "      <td>5.000000</td>\n",
       "      <td>120.000000</td>\n",
       "      <td>20.000000</td>\n",
       "      <td>140.000000</td>\n",
       "      <td>432000</td>\n",
       "      <td>12096000</td>\n",
       "      <td>1728000</td>\n",
       "      <td>13824000</td>\n",
       "    </tr>\n",
       "    <tr>\n",
       "      <th>BMP390</th>\n",
       "      <td>0.033333</td>\n",
       "      <td>0.266667</td>\n",
       "      <td>0.133333</td>\n",
       "      <td>0.400000</td>\n",
       "      <td>2880</td>\n",
       "      <td>34560</td>\n",
       "      <td>11520</td>\n",
       "      <td>46080</td>\n",
       "    </tr>\n",
       "    <tr>\n",
       "      <th>GPS,Power</th>\n",
       "      <td>0.033333</td>\n",
       "      <td>1.633333</td>\n",
       "      <td>0.133333</td>\n",
       "      <td>1.766667</td>\n",
       "      <td>2880</td>\n",
       "      <td>152640</td>\n",
       "      <td>11520</td>\n",
       "      <td>164160</td>\n",
       "    </tr>\n",
       "  </tbody>\n",
       "</table>\n",
       "</div>"
      ],
      "text/plain": [
       "                    read_rate  data_byte_rate  timestamp_byte_rate  \\\n",
       "stage  group                                                         \n",
       "boost  LSM6DSL    1000.000000    24000.000000          4000.000000   \n",
       "       BMP390      100.000000      800.000000           400.000000   \n",
       "       GPS,Power     1.000000       49.000000             4.000000   \n",
       "coast  LSM6DSL     100.000000     2400.000000           400.000000   \n",
       "       BMP390      100.000000      800.000000           400.000000   \n",
       "       GPS,Power     1.000000       49.000000             4.000000   \n",
       "flight LSM6DSL     100.000000     2400.000000           400.000000   \n",
       "       BMP390      100.000000      800.000000           400.000000   \n",
       "       GPS,Power     1.000000       49.000000             4.000000   \n",
       "ground LSM6DSL       5.000000      120.000000            20.000000   \n",
       "       BMP390        0.033333        0.266667             0.133333   \n",
       "       GPS,Power     0.033333        1.633333             0.133333   \n",
       "\n",
       "                  packet_byte_rate  num_samples  data_total_bytes  \\\n",
       "stage  group                                                        \n",
       "boost  LSM6DSL        28000.000000         3000             84000   \n",
       "       BMP390          1200.000000          300              3600   \n",
       "       GPS,Power         53.000000            3               159   \n",
       "coast  LSM6DSL         2800.000000         3000             84000   \n",
       "       BMP390          1200.000000         3000             36000   \n",
       "       GPS,Power         53.000000           30              1590   \n",
       "flight LSM6DSL         2800.000000        30200            845600   \n",
       "       BMP390          1200.000000        30200            362400   \n",
       "       GPS,Power         53.000000          302             16006   \n",
       "ground LSM6DSL          140.000000       432000          12096000   \n",
       "       BMP390             0.400000         2880             34560   \n",
       "       GPS,Power          1.766667         2880            152640   \n",
       "\n",
       "                  timestamp_total_bytes  packet_total_bytes  \n",
       "stage  group                                                 \n",
       "boost  LSM6DSL                    12000               96000  \n",
       "       BMP390                      1200                4800  \n",
       "       GPS,Power                     12                 171  \n",
       "coast  LSM6DSL                    12000               96000  \n",
       "       BMP390                     12000               48000  \n",
       "       GPS,Power                    120                1710  \n",
       "flight LSM6DSL                   120800              966400  \n",
       "       BMP390                    120800              483200  \n",
       "       GPS,Power                   1208               17214  \n",
       "ground LSM6DSL                  1728000            13824000  \n",
       "       BMP390                     11520               46080  \n",
       "       GPS,Power                  11520              164160  "
      ]
     },
     "execution_count": 375,
     "metadata": {},
     "output_type": "execute_result"
    }
   ],
   "source": [
    "combined\n"
   ]
  },
  {
   "cell_type": "code",
   "execution_count": 376,
   "metadata": {},
   "outputs": [
    {
     "data": {
      "text/html": [
       "<div>\n",
       "<style scoped>\n",
       "    .dataframe tbody tr th:only-of-type {\n",
       "        vertical-align: middle;\n",
       "    }\n",
       "\n",
       "    .dataframe tbody tr th {\n",
       "        vertical-align: top;\n",
       "    }\n",
       "\n",
       "    .dataframe thead th {\n",
       "        text-align: right;\n",
       "    }\n",
       "</style>\n",
       "<table border=\"1\" class=\"dataframe\">\n",
       "  <thead>\n",
       "    <tr style=\"text-align: right;\">\n",
       "      <th></th>\n",
       "      <th></th>\n",
       "      <th>Sampling Rate (hz)</th>\n",
       "      <th>Data Rate (b/s)</th>\n",
       "      <th>Timestamp Rate (b/s)</th>\n",
       "      <th>Packet Rate (b/s)</th>\n",
       "      <th>Total Samples</th>\n",
       "      <th>Total Sensor Data (b)</th>\n",
       "      <th>Total Timestamp Data (b)</th>\n",
       "      <th>Total Data (b)</th>\n",
       "    </tr>\n",
       "    <tr>\n",
       "      <th>stage</th>\n",
       "      <th>group</th>\n",
       "      <th></th>\n",
       "      <th></th>\n",
       "      <th></th>\n",
       "      <th></th>\n",
       "      <th></th>\n",
       "      <th></th>\n",
       "      <th></th>\n",
       "      <th></th>\n",
       "    </tr>\n",
       "  </thead>\n",
       "  <tbody>\n",
       "    <tr>\n",
       "      <th rowspan=\"3\" valign=\"top\">boost (3s)</th>\n",
       "      <th>LSM6DSL</th>\n",
       "      <td>1000.000000</td>\n",
       "      <td>24000.000000</td>\n",
       "      <td>4000.000000</td>\n",
       "      <td>28000.000000</td>\n",
       "      <td>3000</td>\n",
       "      <td>84000</td>\n",
       "      <td>12000</td>\n",
       "      <td>96000</td>\n",
       "    </tr>\n",
       "    <tr>\n",
       "      <th>BMP390</th>\n",
       "      <td>100.000000</td>\n",
       "      <td>800.000000</td>\n",
       "      <td>400.000000</td>\n",
       "      <td>1200.000000</td>\n",
       "      <td>300</td>\n",
       "      <td>3600</td>\n",
       "      <td>1200</td>\n",
       "      <td>4800</td>\n",
       "    </tr>\n",
       "    <tr>\n",
       "      <th>GPS,Power</th>\n",
       "      <td>1.000000</td>\n",
       "      <td>49.000000</td>\n",
       "      <td>4.000000</td>\n",
       "      <td>53.000000</td>\n",
       "      <td>3</td>\n",
       "      <td>159</td>\n",
       "      <td>12</td>\n",
       "      <td>171</td>\n",
       "    </tr>\n",
       "    <tr>\n",
       "      <th rowspan=\"3\" valign=\"top\">coast (30s)</th>\n",
       "      <th>LSM6DSL</th>\n",
       "      <td>100.000000</td>\n",
       "      <td>2400.000000</td>\n",
       "      <td>400.000000</td>\n",
       "      <td>2800.000000</td>\n",
       "      <td>3000</td>\n",
       "      <td>84000</td>\n",
       "      <td>12000</td>\n",
       "      <td>96000</td>\n",
       "    </tr>\n",
       "    <tr>\n",
       "      <th>BMP390</th>\n",
       "      <td>100.000000</td>\n",
       "      <td>800.000000</td>\n",
       "      <td>400.000000</td>\n",
       "      <td>1200.000000</td>\n",
       "      <td>3000</td>\n",
       "      <td>36000</td>\n",
       "      <td>12000</td>\n",
       "      <td>48000</td>\n",
       "    </tr>\n",
       "    <tr>\n",
       "      <th>GPS,Power</th>\n",
       "      <td>1.000000</td>\n",
       "      <td>49.000000</td>\n",
       "      <td>4.000000</td>\n",
       "      <td>53.000000</td>\n",
       "      <td>30</td>\n",
       "      <td>1590</td>\n",
       "      <td>120</td>\n",
       "      <td>1710</td>\n",
       "    </tr>\n",
       "    <tr>\n",
       "      <th rowspan=\"3\" valign=\"top\">flight (302s)</th>\n",
       "      <th>LSM6DSL</th>\n",
       "      <td>100.000000</td>\n",
       "      <td>2400.000000</td>\n",
       "      <td>400.000000</td>\n",
       "      <td>2800.000000</td>\n",
       "      <td>30200</td>\n",
       "      <td>845600</td>\n",
       "      <td>120800</td>\n",
       "      <td>966400</td>\n",
       "    </tr>\n",
       "    <tr>\n",
       "      <th>BMP390</th>\n",
       "      <td>100.000000</td>\n",
       "      <td>800.000000</td>\n",
       "      <td>400.000000</td>\n",
       "      <td>1200.000000</td>\n",
       "      <td>30200</td>\n",
       "      <td>362400</td>\n",
       "      <td>120800</td>\n",
       "      <td>483200</td>\n",
       "    </tr>\n",
       "    <tr>\n",
       "      <th>GPS,Power</th>\n",
       "      <td>1.000000</td>\n",
       "      <td>49.000000</td>\n",
       "      <td>4.000000</td>\n",
       "      <td>53.000000</td>\n",
       "      <td>302</td>\n",
       "      <td>16006</td>\n",
       "      <td>1208</td>\n",
       "      <td>17214</td>\n",
       "    </tr>\n",
       "    <tr>\n",
       "      <th rowspan=\"3\" valign=\"top\">ground (86400s)</th>\n",
       "      <th>LSM6DSL</th>\n",
       "      <td>5.000000</td>\n",
       "      <td>120.000000</td>\n",
       "      <td>20.000000</td>\n",
       "      <td>140.000000</td>\n",
       "      <td>432000</td>\n",
       "      <td>12096000</td>\n",
       "      <td>1728000</td>\n",
       "      <td>13824000</td>\n",
       "    </tr>\n",
       "    <tr>\n",
       "      <th>BMP390</th>\n",
       "      <td>0.033333</td>\n",
       "      <td>0.266667</td>\n",
       "      <td>0.133333</td>\n",
       "      <td>0.400000</td>\n",
       "      <td>2880</td>\n",
       "      <td>34560</td>\n",
       "      <td>11520</td>\n",
       "      <td>46080</td>\n",
       "    </tr>\n",
       "    <tr>\n",
       "      <th>GPS,Power</th>\n",
       "      <td>0.033333</td>\n",
       "      <td>1.633333</td>\n",
       "      <td>0.133333</td>\n",
       "      <td>1.766667</td>\n",
       "      <td>2880</td>\n",
       "      <td>152640</td>\n",
       "      <td>11520</td>\n",
       "      <td>164160</td>\n",
       "    </tr>\n",
       "  </tbody>\n",
       "</table>\n",
       "</div>"
      ],
      "text/plain": [
       "                           Sampling Rate (hz)  Data Rate (b/s)  \\\n",
       "stage           group                                            \n",
       "boost (3s)      LSM6DSL           1000.000000     24000.000000   \n",
       "                BMP390             100.000000       800.000000   \n",
       "                GPS,Power            1.000000        49.000000   \n",
       "coast (30s)     LSM6DSL            100.000000      2400.000000   \n",
       "                BMP390             100.000000       800.000000   \n",
       "                GPS,Power            1.000000        49.000000   \n",
       "flight (302s)   LSM6DSL            100.000000      2400.000000   \n",
       "                BMP390             100.000000       800.000000   \n",
       "                GPS,Power            1.000000        49.000000   \n",
       "ground (86400s) LSM6DSL              5.000000       120.000000   \n",
       "                BMP390               0.033333         0.266667   \n",
       "                GPS,Power            0.033333         1.633333   \n",
       "\n",
       "                           Timestamp Rate (b/s)  Packet Rate (b/s)  \\\n",
       "stage           group                                                \n",
       "boost (3s)      LSM6DSL             4000.000000       28000.000000   \n",
       "                BMP390               400.000000        1200.000000   \n",
       "                GPS,Power              4.000000          53.000000   \n",
       "coast (30s)     LSM6DSL              400.000000        2800.000000   \n",
       "                BMP390               400.000000        1200.000000   \n",
       "                GPS,Power              4.000000          53.000000   \n",
       "flight (302s)   LSM6DSL              400.000000        2800.000000   \n",
       "                BMP390               400.000000        1200.000000   \n",
       "                GPS,Power              4.000000          53.000000   \n",
       "ground (86400s) LSM6DSL               20.000000         140.000000   \n",
       "                BMP390                 0.133333           0.400000   \n",
       "                GPS,Power              0.133333           1.766667   \n",
       "\n",
       "                           Total Samples  Total Sensor Data (b)  \\\n",
       "stage           group                                             \n",
       "boost (3s)      LSM6DSL             3000                  84000   \n",
       "                BMP390               300                   3600   \n",
       "                GPS,Power              3                    159   \n",
       "coast (30s)     LSM6DSL             3000                  84000   \n",
       "                BMP390              3000                  36000   \n",
       "                GPS,Power             30                   1590   \n",
       "flight (302s)   LSM6DSL            30200                 845600   \n",
       "                BMP390             30200                 362400   \n",
       "                GPS,Power            302                  16006   \n",
       "ground (86400s) LSM6DSL           432000               12096000   \n",
       "                BMP390              2880                  34560   \n",
       "                GPS,Power           2880                 152640   \n",
       "\n",
       "                           Total Timestamp Data (b)  Total Data (b)  \n",
       "stage           group                                                \n",
       "boost (3s)      LSM6DSL                       12000           96000  \n",
       "                BMP390                         1200            4800  \n",
       "                GPS,Power                        12             171  \n",
       "coast (30s)     LSM6DSL                       12000           96000  \n",
       "                BMP390                        12000           48000  \n",
       "                GPS,Power                       120            1710  \n",
       "flight (302s)   LSM6DSL                      120800          966400  \n",
       "                BMP390                       120800          483200  \n",
       "                GPS,Power                      1208           17214  \n",
       "ground (86400s) LSM6DSL                     1728000        13824000  \n",
       "                BMP390                        11520           46080  \n",
       "                GPS,Power                     11520          164160  "
      ]
     },
     "execution_count": 376,
     "metadata": {},
     "output_type": "execute_result"
    }
   ],
   "source": [
    "forDisplay = combined.join(stagelendf).rename(columns={\n",
    "    'read_rate': 'Sampling Rate (hz)',\n",
    "    'data_byte_rate': \"Data Rate (b/s)\",\n",
    "    'timestamp_byte_rate': \"Timestamp Rate (b/s)\",\n",
    "    'packet_byte_rate': \"Packet Rate (b/s)\",\n",
    "    'num_samples': 'Total Samples',\n",
    "    'data_total_bytes': 'Total Sensor Data (b)',\n",
    "    'timestamp_total_bytes': 'Total Timestamp Data (b)',\n",
    "    'packet_total_bytes': 'Total Data (b)',\n",
    "    'time_s': 'Stage Time'\n",
    "})\n",
    "\n",
    "forDisplay.set_index(forDisplay.index.map(lambda r: (\n",
    "    f'{r[0]} ({stagelendf.loc[r[0]][\"time_s\"]}s)', r[1]))).drop(columns=['Stage Time'])\n"
   ]
  },
  {
   "cell_type": "code",
   "execution_count": 377,
   "metadata": {},
   "outputs": [],
   "source": [
    "totals2 = combined[['data_total_bytes', 'timestamp_total_bytes', 'packet_total_bytes']] \\\n",
    "    .rename(columns={'data_total_bytes': 'data', 'timestamp_total_bytes': 'timestamp', 'packet_total_bytes': 'packet'}) \\\n",
    "    .stack() \\\n",
    "    .rename('total') \\\n",
    "    .rename_axis(['stage', 'group', 'part']) \\\n",
    "    .to_frame()\n",
    "\n",
    "rates = combined[['data_byte_rate', 'timestamp_byte_rate', 'packet_byte_rate']] \\\n",
    "    .rename(columns={'data_byte_rate': 'data', 'timestamp_byte_rate': 'timestamp', 'packet_byte_rate': 'packet'}) \\\n",
    "    .stack() \\\n",
    "    .rename('rate') \\\n",
    "    .rename_axis(['stage', 'group', 'part']) \\\n",
    "    .to_frame()\n"
   ]
  },
  {
   "cell_type": "code",
   "execution_count": 378,
   "metadata": {},
   "outputs": [],
   "source": [
    "noind = totals2.join(rates).reset_index()\n",
    "parts = noind[noind['part'] != 'packet'].set_index(['stage', 'group', 'part'])\n"
   ]
  },
  {
   "cell_type": "code",
   "execution_count": 379,
   "metadata": {},
   "outputs": [
    {
     "data": {
      "text/html": [
       "<div>\n",
       "<style scoped>\n",
       "    .dataframe tbody tr th:only-of-type {\n",
       "        vertical-align: middle;\n",
       "    }\n",
       "\n",
       "    .dataframe tbody tr th {\n",
       "        vertical-align: top;\n",
       "    }\n",
       "\n",
       "    .dataframe thead tr th {\n",
       "        text-align: left;\n",
       "    }\n",
       "\n",
       "    .dataframe thead tr:last-of-type th {\n",
       "        text-align: right;\n",
       "    }\n",
       "</style>\n",
       "<table border=\"1\" class=\"dataframe\">\n",
       "  <thead>\n",
       "    <tr>\n",
       "      <th></th>\n",
       "      <th></th>\n",
       "      <th colspan=\"2\" halign=\"left\">total</th>\n",
       "      <th colspan=\"2\" halign=\"left\">rate</th>\n",
       "    </tr>\n",
       "    <tr>\n",
       "      <th></th>\n",
       "      <th>part</th>\n",
       "      <th>data</th>\n",
       "      <th>timestamp</th>\n",
       "      <th>data</th>\n",
       "      <th>timestamp</th>\n",
       "    </tr>\n",
       "    <tr>\n",
       "      <th>stage</th>\n",
       "      <th>group</th>\n",
       "      <th></th>\n",
       "      <th></th>\n",
       "      <th></th>\n",
       "      <th></th>\n",
       "    </tr>\n",
       "  </thead>\n",
       "  <tbody>\n",
       "    <tr>\n",
       "      <th rowspan=\"3\" valign=\"top\">boost</th>\n",
       "      <th>BMP390</th>\n",
       "      <td>3600</td>\n",
       "      <td>1200</td>\n",
       "      <td>800.000000</td>\n",
       "      <td>400.000000</td>\n",
       "    </tr>\n",
       "    <tr>\n",
       "      <th>GPS,Power</th>\n",
       "      <td>159</td>\n",
       "      <td>12</td>\n",
       "      <td>49.000000</td>\n",
       "      <td>4.000000</td>\n",
       "    </tr>\n",
       "    <tr>\n",
       "      <th>LSM6DSL</th>\n",
       "      <td>84000</td>\n",
       "      <td>12000</td>\n",
       "      <td>24000.000000</td>\n",
       "      <td>4000.000000</td>\n",
       "    </tr>\n",
       "    <tr>\n",
       "      <th rowspan=\"3\" valign=\"top\">coast</th>\n",
       "      <th>BMP390</th>\n",
       "      <td>36000</td>\n",
       "      <td>12000</td>\n",
       "      <td>800.000000</td>\n",
       "      <td>400.000000</td>\n",
       "    </tr>\n",
       "    <tr>\n",
       "      <th>GPS,Power</th>\n",
       "      <td>1590</td>\n",
       "      <td>120</td>\n",
       "      <td>49.000000</td>\n",
       "      <td>4.000000</td>\n",
       "    </tr>\n",
       "    <tr>\n",
       "      <th>LSM6DSL</th>\n",
       "      <td>84000</td>\n",
       "      <td>12000</td>\n",
       "      <td>2400.000000</td>\n",
       "      <td>400.000000</td>\n",
       "    </tr>\n",
       "    <tr>\n",
       "      <th rowspan=\"3\" valign=\"top\">flight</th>\n",
       "      <th>BMP390</th>\n",
       "      <td>362400</td>\n",
       "      <td>120800</td>\n",
       "      <td>800.000000</td>\n",
       "      <td>400.000000</td>\n",
       "    </tr>\n",
       "    <tr>\n",
       "      <th>GPS,Power</th>\n",
       "      <td>16006</td>\n",
       "      <td>1208</td>\n",
       "      <td>49.000000</td>\n",
       "      <td>4.000000</td>\n",
       "    </tr>\n",
       "    <tr>\n",
       "      <th>LSM6DSL</th>\n",
       "      <td>845600</td>\n",
       "      <td>120800</td>\n",
       "      <td>2400.000000</td>\n",
       "      <td>400.000000</td>\n",
       "    </tr>\n",
       "    <tr>\n",
       "      <th rowspan=\"3\" valign=\"top\">ground</th>\n",
       "      <th>BMP390</th>\n",
       "      <td>34560</td>\n",
       "      <td>11520</td>\n",
       "      <td>0.266667</td>\n",
       "      <td>0.133333</td>\n",
       "    </tr>\n",
       "    <tr>\n",
       "      <th>GPS,Power</th>\n",
       "      <td>152640</td>\n",
       "      <td>11520</td>\n",
       "      <td>1.633333</td>\n",
       "      <td>0.133333</td>\n",
       "    </tr>\n",
       "    <tr>\n",
       "      <th>LSM6DSL</th>\n",
       "      <td>12096000</td>\n",
       "      <td>1728000</td>\n",
       "      <td>120.000000</td>\n",
       "      <td>20.000000</td>\n",
       "    </tr>\n",
       "  </tbody>\n",
       "</table>\n",
       "</div>"
      ],
      "text/plain": [
       "                     total                    rate             \n",
       "part                  data timestamp          data    timestamp\n",
       "stage  group                                                   \n",
       "boost  BMP390         3600      1200    800.000000   400.000000\n",
       "       GPS,Power       159        12     49.000000     4.000000\n",
       "       LSM6DSL       84000     12000  24000.000000  4000.000000\n",
       "coast  BMP390        36000     12000    800.000000   400.000000\n",
       "       GPS,Power      1590       120     49.000000     4.000000\n",
       "       LSM6DSL       84000     12000   2400.000000   400.000000\n",
       "flight BMP390       362400    120800    800.000000   400.000000\n",
       "       GPS,Power     16006      1208     49.000000     4.000000\n",
       "       LSM6DSL      845600    120800   2400.000000   400.000000\n",
       "ground BMP390        34560     11520      0.266667     0.133333\n",
       "       GPS,Power    152640     11520      1.633333     0.133333\n",
       "       LSM6DSL    12096000   1728000    120.000000    20.000000"
      ]
     },
     "execution_count": 379,
     "metadata": {},
     "output_type": "execute_result"
    }
   ],
   "source": [
    "parts.unstack()\n"
   ]
  },
  {
   "cell_type": "code",
   "execution_count": 380,
   "metadata": {},
   "outputs": [],
   "source": [
    "with_unused = parts.copy()\n",
    "with_unused['usage'] = 'used'\n",
    "with_unused = with_unused.reset_index().set_index(['usage', 'stage', 'group', 'part'])\n",
    "with_unused = pd.concat([with_unused, pd.DataFrame([('unused', 'unused', 'unused', 'unused', flash_chip_size_bytes - bytes_used_including_overhead, 0)], columns=[\"usage\", \"stage\", \"group\", \"part\", \"total\", \"rate\"]).set_index(['usage', 'stage', 'group', 'part'])])"
   ]
  },
  {
   "cell_type": "code",
   "execution_count": 381,
   "metadata": {},
   "outputs": [
    {
     "data": {
      "application/vnd.plotly.v1+json": {
       "config": {
        "plotlyServerURL": "https://plot.ly"
       },
       "data": [
        {
         "branchvalues": "total",
         "domain": {
          "x": [
           0,
           1
          ],
          "y": [
           0,
           1
          ]
         },
         "hovertemplate": "labels=%{label}<br>total=%{value}<br>parent=%{parent}<br>id=%{id}<extra></extra>",
         "ids": [
          "used/boost/BMP390/data",
          "used/coast/BMP390/data",
          "used/flight/BMP390/data",
          "used/ground/BMP390/data",
          "used/boost/GPS,Power/data",
          "used/coast/GPS,Power/data",
          "used/flight/GPS,Power/data",
          "used/ground/GPS,Power/data",
          "used/boost/LSM6DSL/data",
          "used/coast/LSM6DSL/data",
          "used/flight/LSM6DSL/data",
          "used/ground/LSM6DSL/data",
          "used/boost/BMP390/timestamp",
          "used/coast/BMP390/timestamp",
          "used/flight/BMP390/timestamp",
          "used/ground/BMP390/timestamp",
          "used/boost/GPS,Power/timestamp",
          "used/coast/GPS,Power/timestamp",
          "used/flight/GPS,Power/timestamp",
          "used/ground/GPS,Power/timestamp",
          "used/boost/LSM6DSL/timestamp",
          "used/coast/LSM6DSL/timestamp",
          "used/flight/LSM6DSL/timestamp",
          "used/ground/LSM6DSL/timestamp",
          "unused/unused/unused/unused",
          "used/boost/BMP390",
          "used/coast/BMP390",
          "used/flight/BMP390",
          "used/ground/BMP390",
          "used/boost/GPS,Power",
          "used/coast/GPS,Power",
          "used/flight/GPS,Power",
          "used/ground/GPS,Power",
          "used/boost/LSM6DSL",
          "used/coast/LSM6DSL",
          "used/flight/LSM6DSL",
          "used/ground/LSM6DSL",
          "unused/unused/unused",
          "used/boost",
          "used/coast",
          "used/flight",
          "used/ground",
          "unused/unused",
          "unused",
          "used"
         ],
         "labels": [
          "data",
          "data",
          "data",
          "data",
          "data",
          "data",
          "data",
          "data",
          "data",
          "data",
          "data",
          "data",
          "timestamp",
          "timestamp",
          "timestamp",
          "timestamp",
          "timestamp",
          "timestamp",
          "timestamp",
          "timestamp",
          "timestamp",
          "timestamp",
          "timestamp",
          "timestamp",
          "unused",
          "BMP390",
          "BMP390",
          "BMP390",
          "BMP390",
          "GPS,Power",
          "GPS,Power",
          "GPS,Power",
          "GPS,Power",
          "LSM6DSL",
          "LSM6DSL",
          "LSM6DSL",
          "LSM6DSL",
          "unused",
          "boost",
          "coast",
          "flight",
          "ground",
          "unused",
          "unused",
          "used"
         ],
         "name": "",
         "parents": [
          "used/boost/BMP390",
          "used/coast/BMP390",
          "used/flight/BMP390",
          "used/ground/BMP390",
          "used/boost/GPS,Power",
          "used/coast/GPS,Power",
          "used/flight/GPS,Power",
          "used/ground/GPS,Power",
          "used/boost/LSM6DSL",
          "used/coast/LSM6DSL",
          "used/flight/LSM6DSL",
          "used/ground/LSM6DSL",
          "used/boost/BMP390",
          "used/coast/BMP390",
          "used/flight/BMP390",
          "used/ground/BMP390",
          "used/boost/GPS,Power",
          "used/coast/GPS,Power",
          "used/flight/GPS,Power",
          "used/ground/GPS,Power",
          "used/boost/LSM6DSL",
          "used/coast/LSM6DSL",
          "used/flight/LSM6DSL",
          "used/ground/LSM6DSL",
          "unused/unused/unused",
          "used/boost",
          "used/coast",
          "used/flight",
          "used/ground",
          "used/boost",
          "used/coast",
          "used/flight",
          "used/ground",
          "used/boost",
          "used/coast",
          "used/flight",
          "used/ground",
          "unused/unused",
          "used",
          "used",
          "used",
          "used",
          "unused",
          "",
          ""
         ],
         "type": "sunburst",
         "values": [
          3600,
          36000,
          362400,
          34560,
          159,
          1590,
          16006,
          152640,
          84000,
          84000,
          845600,
          12096000,
          1200,
          12000,
          120800,
          11520,
          12,
          120,
          1208,
          11520,
          12000,
          12000,
          120800,
          1728000,
          869956,
          4800,
          48000,
          483200,
          46080,
          171,
          1710,
          17214,
          164160,
          96000,
          96000,
          966400,
          13824000,
          869956,
          100971,
          145710,
          1466814,
          14034240,
          869956,
          869956,
          15747735
         ]
        }
       ],
       "layout": {
        "legend": {
         "tracegroupgap": 0
        },
        "template": {
         "data": {
          "bar": [
           {
            "error_x": {
             "color": "#2a3f5f"
            },
            "error_y": {
             "color": "#2a3f5f"
            },
            "marker": {
             "line": {
              "color": "#E5ECF6",
              "width": 0.5
             },
             "pattern": {
              "fillmode": "overlay",
              "size": 10,
              "solidity": 0.2
             }
            },
            "type": "bar"
           }
          ],
          "barpolar": [
           {
            "marker": {
             "line": {
              "color": "#E5ECF6",
              "width": 0.5
             },
             "pattern": {
              "fillmode": "overlay",
              "size": 10,
              "solidity": 0.2
             }
            },
            "type": "barpolar"
           }
          ],
          "carpet": [
           {
            "aaxis": {
             "endlinecolor": "#2a3f5f",
             "gridcolor": "white",
             "linecolor": "white",
             "minorgridcolor": "white",
             "startlinecolor": "#2a3f5f"
            },
            "baxis": {
             "endlinecolor": "#2a3f5f",
             "gridcolor": "white",
             "linecolor": "white",
             "minorgridcolor": "white",
             "startlinecolor": "#2a3f5f"
            },
            "type": "carpet"
           }
          ],
          "choropleth": [
           {
            "colorbar": {
             "outlinewidth": 0,
             "ticks": ""
            },
            "type": "choropleth"
           }
          ],
          "contour": [
           {
            "colorbar": {
             "outlinewidth": 0,
             "ticks": ""
            },
            "colorscale": [
             [
              0,
              "#0d0887"
             ],
             [
              0.1111111111111111,
              "#46039f"
             ],
             [
              0.2222222222222222,
              "#7201a8"
             ],
             [
              0.3333333333333333,
              "#9c179e"
             ],
             [
              0.4444444444444444,
              "#bd3786"
             ],
             [
              0.5555555555555556,
              "#d8576b"
             ],
             [
              0.6666666666666666,
              "#ed7953"
             ],
             [
              0.7777777777777778,
              "#fb9f3a"
             ],
             [
              0.8888888888888888,
              "#fdca26"
             ],
             [
              1,
              "#f0f921"
             ]
            ],
            "type": "contour"
           }
          ],
          "contourcarpet": [
           {
            "colorbar": {
             "outlinewidth": 0,
             "ticks": ""
            },
            "type": "contourcarpet"
           }
          ],
          "heatmap": [
           {
            "colorbar": {
             "outlinewidth": 0,
             "ticks": ""
            },
            "colorscale": [
             [
              0,
              "#0d0887"
             ],
             [
              0.1111111111111111,
              "#46039f"
             ],
             [
              0.2222222222222222,
              "#7201a8"
             ],
             [
              0.3333333333333333,
              "#9c179e"
             ],
             [
              0.4444444444444444,
              "#bd3786"
             ],
             [
              0.5555555555555556,
              "#d8576b"
             ],
             [
              0.6666666666666666,
              "#ed7953"
             ],
             [
              0.7777777777777778,
              "#fb9f3a"
             ],
             [
              0.8888888888888888,
              "#fdca26"
             ],
             [
              1,
              "#f0f921"
             ]
            ],
            "type": "heatmap"
           }
          ],
          "heatmapgl": [
           {
            "colorbar": {
             "outlinewidth": 0,
             "ticks": ""
            },
            "colorscale": [
             [
              0,
              "#0d0887"
             ],
             [
              0.1111111111111111,
              "#46039f"
             ],
             [
              0.2222222222222222,
              "#7201a8"
             ],
             [
              0.3333333333333333,
              "#9c179e"
             ],
             [
              0.4444444444444444,
              "#bd3786"
             ],
             [
              0.5555555555555556,
              "#d8576b"
             ],
             [
              0.6666666666666666,
              "#ed7953"
             ],
             [
              0.7777777777777778,
              "#fb9f3a"
             ],
             [
              0.8888888888888888,
              "#fdca26"
             ],
             [
              1,
              "#f0f921"
             ]
            ],
            "type": "heatmapgl"
           }
          ],
          "histogram": [
           {
            "marker": {
             "pattern": {
              "fillmode": "overlay",
              "size": 10,
              "solidity": 0.2
             }
            },
            "type": "histogram"
           }
          ],
          "histogram2d": [
           {
            "colorbar": {
             "outlinewidth": 0,
             "ticks": ""
            },
            "colorscale": [
             [
              0,
              "#0d0887"
             ],
             [
              0.1111111111111111,
              "#46039f"
             ],
             [
              0.2222222222222222,
              "#7201a8"
             ],
             [
              0.3333333333333333,
              "#9c179e"
             ],
             [
              0.4444444444444444,
              "#bd3786"
             ],
             [
              0.5555555555555556,
              "#d8576b"
             ],
             [
              0.6666666666666666,
              "#ed7953"
             ],
             [
              0.7777777777777778,
              "#fb9f3a"
             ],
             [
              0.8888888888888888,
              "#fdca26"
             ],
             [
              1,
              "#f0f921"
             ]
            ],
            "type": "histogram2d"
           }
          ],
          "histogram2dcontour": [
           {
            "colorbar": {
             "outlinewidth": 0,
             "ticks": ""
            },
            "colorscale": [
             [
              0,
              "#0d0887"
             ],
             [
              0.1111111111111111,
              "#46039f"
             ],
             [
              0.2222222222222222,
              "#7201a8"
             ],
             [
              0.3333333333333333,
              "#9c179e"
             ],
             [
              0.4444444444444444,
              "#bd3786"
             ],
             [
              0.5555555555555556,
              "#d8576b"
             ],
             [
              0.6666666666666666,
              "#ed7953"
             ],
             [
              0.7777777777777778,
              "#fb9f3a"
             ],
             [
              0.8888888888888888,
              "#fdca26"
             ],
             [
              1,
              "#f0f921"
             ]
            ],
            "type": "histogram2dcontour"
           }
          ],
          "mesh3d": [
           {
            "colorbar": {
             "outlinewidth": 0,
             "ticks": ""
            },
            "type": "mesh3d"
           }
          ],
          "parcoords": [
           {
            "line": {
             "colorbar": {
              "outlinewidth": 0,
              "ticks": ""
             }
            },
            "type": "parcoords"
           }
          ],
          "pie": [
           {
            "automargin": true,
            "type": "pie"
           }
          ],
          "scatter": [
           {
            "fillpattern": {
             "fillmode": "overlay",
             "size": 10,
             "solidity": 0.2
            },
            "type": "scatter"
           }
          ],
          "scatter3d": [
           {
            "line": {
             "colorbar": {
              "outlinewidth": 0,
              "ticks": ""
             }
            },
            "marker": {
             "colorbar": {
              "outlinewidth": 0,
              "ticks": ""
             }
            },
            "type": "scatter3d"
           }
          ],
          "scattercarpet": [
           {
            "marker": {
             "colorbar": {
              "outlinewidth": 0,
              "ticks": ""
             }
            },
            "type": "scattercarpet"
           }
          ],
          "scattergeo": [
           {
            "marker": {
             "colorbar": {
              "outlinewidth": 0,
              "ticks": ""
             }
            },
            "type": "scattergeo"
           }
          ],
          "scattergl": [
           {
            "marker": {
             "colorbar": {
              "outlinewidth": 0,
              "ticks": ""
             }
            },
            "type": "scattergl"
           }
          ],
          "scattermapbox": [
           {
            "marker": {
             "colorbar": {
              "outlinewidth": 0,
              "ticks": ""
             }
            },
            "type": "scattermapbox"
           }
          ],
          "scatterpolar": [
           {
            "marker": {
             "colorbar": {
              "outlinewidth": 0,
              "ticks": ""
             }
            },
            "type": "scatterpolar"
           }
          ],
          "scatterpolargl": [
           {
            "marker": {
             "colorbar": {
              "outlinewidth": 0,
              "ticks": ""
             }
            },
            "type": "scatterpolargl"
           }
          ],
          "scatterternary": [
           {
            "marker": {
             "colorbar": {
              "outlinewidth": 0,
              "ticks": ""
             }
            },
            "type": "scatterternary"
           }
          ],
          "surface": [
           {
            "colorbar": {
             "outlinewidth": 0,
             "ticks": ""
            },
            "colorscale": [
             [
              0,
              "#0d0887"
             ],
             [
              0.1111111111111111,
              "#46039f"
             ],
             [
              0.2222222222222222,
              "#7201a8"
             ],
             [
              0.3333333333333333,
              "#9c179e"
             ],
             [
              0.4444444444444444,
              "#bd3786"
             ],
             [
              0.5555555555555556,
              "#d8576b"
             ],
             [
              0.6666666666666666,
              "#ed7953"
             ],
             [
              0.7777777777777778,
              "#fb9f3a"
             ],
             [
              0.8888888888888888,
              "#fdca26"
             ],
             [
              1,
              "#f0f921"
             ]
            ],
            "type": "surface"
           }
          ],
          "table": [
           {
            "cells": {
             "fill": {
              "color": "#EBF0F8"
             },
             "line": {
              "color": "white"
             }
            },
            "header": {
             "fill": {
              "color": "#C8D4E3"
             },
             "line": {
              "color": "white"
             }
            },
            "type": "table"
           }
          ]
         },
         "layout": {
          "annotationdefaults": {
           "arrowcolor": "#2a3f5f",
           "arrowhead": 0,
           "arrowwidth": 1
          },
          "autotypenumbers": "strict",
          "coloraxis": {
           "colorbar": {
            "outlinewidth": 0,
            "ticks": ""
           }
          },
          "colorscale": {
           "diverging": [
            [
             0,
             "#8e0152"
            ],
            [
             0.1,
             "#c51b7d"
            ],
            [
             0.2,
             "#de77ae"
            ],
            [
             0.3,
             "#f1b6da"
            ],
            [
             0.4,
             "#fde0ef"
            ],
            [
             0.5,
             "#f7f7f7"
            ],
            [
             0.6,
             "#e6f5d0"
            ],
            [
             0.7,
             "#b8e186"
            ],
            [
             0.8,
             "#7fbc41"
            ],
            [
             0.9,
             "#4d9221"
            ],
            [
             1,
             "#276419"
            ]
           ],
           "sequential": [
            [
             0,
             "#0d0887"
            ],
            [
             0.1111111111111111,
             "#46039f"
            ],
            [
             0.2222222222222222,
             "#7201a8"
            ],
            [
             0.3333333333333333,
             "#9c179e"
            ],
            [
             0.4444444444444444,
             "#bd3786"
            ],
            [
             0.5555555555555556,
             "#d8576b"
            ],
            [
             0.6666666666666666,
             "#ed7953"
            ],
            [
             0.7777777777777778,
             "#fb9f3a"
            ],
            [
             0.8888888888888888,
             "#fdca26"
            ],
            [
             1,
             "#f0f921"
            ]
           ],
           "sequentialminus": [
            [
             0,
             "#0d0887"
            ],
            [
             0.1111111111111111,
             "#46039f"
            ],
            [
             0.2222222222222222,
             "#7201a8"
            ],
            [
             0.3333333333333333,
             "#9c179e"
            ],
            [
             0.4444444444444444,
             "#bd3786"
            ],
            [
             0.5555555555555556,
             "#d8576b"
            ],
            [
             0.6666666666666666,
             "#ed7953"
            ],
            [
             0.7777777777777778,
             "#fb9f3a"
            ],
            [
             0.8888888888888888,
             "#fdca26"
            ],
            [
             1,
             "#f0f921"
            ]
           ]
          },
          "colorway": [
           "#636efa",
           "#EF553B",
           "#00cc96",
           "#ab63fa",
           "#FFA15A",
           "#19d3f3",
           "#FF6692",
           "#B6E880",
           "#FF97FF",
           "#FECB52"
          ],
          "font": {
           "color": "#2a3f5f"
          },
          "geo": {
           "bgcolor": "white",
           "lakecolor": "white",
           "landcolor": "#E5ECF6",
           "showlakes": true,
           "showland": true,
           "subunitcolor": "white"
          },
          "hoverlabel": {
           "align": "left"
          },
          "hovermode": "closest",
          "mapbox": {
           "style": "light"
          },
          "paper_bgcolor": "white",
          "plot_bgcolor": "#E5ECF6",
          "polar": {
           "angularaxis": {
            "gridcolor": "white",
            "linecolor": "white",
            "ticks": ""
           },
           "bgcolor": "#E5ECF6",
           "radialaxis": {
            "gridcolor": "white",
            "linecolor": "white",
            "ticks": ""
           }
          },
          "scene": {
           "xaxis": {
            "backgroundcolor": "#E5ECF6",
            "gridcolor": "white",
            "gridwidth": 2,
            "linecolor": "white",
            "showbackground": true,
            "ticks": "",
            "zerolinecolor": "white"
           },
           "yaxis": {
            "backgroundcolor": "#E5ECF6",
            "gridcolor": "white",
            "gridwidth": 2,
            "linecolor": "white",
            "showbackground": true,
            "ticks": "",
            "zerolinecolor": "white"
           },
           "zaxis": {
            "backgroundcolor": "#E5ECF6",
            "gridcolor": "white",
            "gridwidth": 2,
            "linecolor": "white",
            "showbackground": true,
            "ticks": "",
            "zerolinecolor": "white"
           }
          },
          "shapedefaults": {
           "line": {
            "color": "#2a3f5f"
           }
          },
          "ternary": {
           "aaxis": {
            "gridcolor": "white",
            "linecolor": "white",
            "ticks": ""
           },
           "baxis": {
            "gridcolor": "white",
            "linecolor": "white",
            "ticks": ""
           },
           "bgcolor": "#E5ECF6",
           "caxis": {
            "gridcolor": "white",
            "linecolor": "white",
            "ticks": ""
           }
          },
          "title": {
           "x": 0.05
          },
          "xaxis": {
           "automargin": true,
           "gridcolor": "white",
           "linecolor": "white",
           "ticks": "",
           "title": {
            "standoff": 15
           },
           "zerolinecolor": "white",
           "zerolinewidth": 2
          },
          "yaxis": {
           "automargin": true,
           "gridcolor": "white",
           "linecolor": "white",
           "ticks": "",
           "title": {
            "standoff": 15
           },
           "zerolinecolor": "white",
           "zerolinewidth": 2
          }
         }
        },
        "title": {
         "text": "Data Usage of 16MB"
        }
       }
      }
     },
     "metadata": {},
     "output_type": "display_data"
    }
   ],
   "source": [
    "fig = px.sunburst(with_unused.reset_index(), path=[\n",
    "                  'usage','stage', 'group', 'part'], values='total', title=f\"Data Usage of {int(flash_chip_size_bytes // 1024 // 1024)}MB\")\n",
    "fig.show()\n"
   ]
  },
  {
   "cell_type": "code",
   "execution_count": 382,
   "metadata": {},
   "outputs": [
    {
     "data": {
      "text/html": [
       "<div>\n",
       "<style scoped>\n",
       "    .dataframe tbody tr th:only-of-type {\n",
       "        vertical-align: middle;\n",
       "    }\n",
       "\n",
       "    .dataframe tbody tr th {\n",
       "        vertical-align: top;\n",
       "    }\n",
       "\n",
       "    .dataframe thead th {\n",
       "        text-align: right;\n",
       "    }\n",
       "</style>\n",
       "<table border=\"1\" class=\"dataframe\">\n",
       "  <thead>\n",
       "    <tr style=\"text-align: right;\">\n",
       "      <th></th>\n",
       "      <th></th>\n",
       "      <th></th>\n",
       "      <th></th>\n",
       "      <th>total</th>\n",
       "      <th>rate</th>\n",
       "    </tr>\n",
       "    <tr>\n",
       "      <th>usage</th>\n",
       "      <th>stage</th>\n",
       "      <th>group</th>\n",
       "      <th>part</th>\n",
       "      <th></th>\n",
       "      <th></th>\n",
       "    </tr>\n",
       "  </thead>\n",
       "  <tbody>\n",
       "    <tr>\n",
       "      <th>used</th>\n",
       "      <th>boost</th>\n",
       "      <th>LSM6DSL</th>\n",
       "      <th>data</th>\n",
       "      <td>84000.0</td>\n",
       "      <td>24000.0</td>\n",
       "    </tr>\n",
       "  </tbody>\n",
       "</table>\n",
       "</div>"
      ],
      "text/plain": [
       "                            total     rate\n",
       "usage stage group   part                  \n",
       "used  boost LSM6DSL data  84000.0  24000.0"
      ]
     },
     "execution_count": 382,
     "metadata": {},
     "output_type": "execute_result"
    }
   ],
   "source": [
    "with_unused.head(1)"
   ]
  },
  {
   "cell_type": "code",
   "execution_count": 383,
   "metadata": {},
   "outputs": [
    {
     "data": {
      "text/plain": [
       "<Axes: ylabel='Total Bytes'>"
      ]
     },
     "execution_count": 383,
     "metadata": {},
     "output_type": "execute_result"
    },
    {
     "data": {
      "image/png": "[encoded data removed]",
      "text/plain": [
       "<Figure size 640x480 with 1 Axes>"
      ]
     },
     "metadata": {},
     "output_type": "display_data"
    }
   ],
   "source": [
    "with_unused[with_unused['rate'] != 0].reset_index().drop(columns=['usage']).groupby('part').sum().rename(columns={'total':'Total Bytes'}).plot(kind='pie', y='Total Bytes', legend=False)"
   ]
  },
  {
   "cell_type": "code",
   "execution_count": 386,
   "metadata": {},
   "outputs": [
    {
     "data": {
      "text/plain": [
       "<Axes: ylabel='Total Bytes'>"
      ]
     },
     "execution_count": 386,
     "metadata": {},
     "output_type": "execute_result"
    },
    {
     "data": {
      "image/png": "[encoded data removed]",
      "text/plain": [
       "<Figure size 640x480 with 1 Axes>"
      ]
     },
     "metadata": {},
     "output_type": "display_data"
    }
   ],
   "source": [
    "with_unused[with_unused['rate'] != 0].reset_index().drop(columns=['usage']).groupby('stage').sum().rename(columns={'total':'Total Bytes'}).plot(kind='pie', y='Total Bytes', legend=False)"
   ]
  }
 ],
 "metadata": {
  "kernelspec": {
   "display_name": "python-3.12",
   "language": "python",
   "name": "python3"
  },
  "language_info": {
   "codemirror_mode": {
    "name": "ipython",
    "version": 3
   },
   "file_extension": ".py",
   "mimetype": "text/x-python",
   "name": "python",
   "nbconvert_exporter": "python",
   "pygments_lexer": "ipython3",
   "version": "3.12.7"
  }
 },
 "nbformat": 4,
 "nbformat_minor": 2
}
