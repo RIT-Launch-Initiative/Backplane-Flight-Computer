{
 "cells": [
  {
   "cell_type": "markdown",
   "metadata": {},
   "source": [
    "# Data analysis script\n",
    "\n",
    "## Input\n",
    "a single file received from running `grim dump` on the payload\n",
    "\n",
    "## Output\n",
    "- FILL THIS IN"
   ]
  },
  {
   "cell_type": "code",
   "execution_count": 89,
   "metadata": {},
   "outputs": [],
   "source": [
    "import struct\n",
    "import base64\n",
    "from collections import namedtuple\n",
    "from typing import Tuple, List\n",
    "import pandas as pd\n",
    "import os\n"
   ]
  },
  {
   "cell_type": "markdown",
   "metadata": {},
   "source": [
    "## Data opening and parsing\n",
    "- open a file to bytes\n",
    "- bytes to lists of data"
   ]
  },
  {
   "cell_type": "code",
   "execution_count": 6,
   "metadata": {},
   "outputs": [],
   "source": [
    "SEPARATOR = \"********\\n\"\n",
    "filename = 'data/all.cap'"
   ]
  },
  {
   "cell_type": "code",
   "execution_count": 7,
   "metadata": {},
   "outputs": [],
   "source": [
    "def file_to_bytes(filename: str) -> Tuple[bytes, bytes, bytes, bytes, bytes]:\n",
    "    with open(filename, 'r') as f:\n",
    "        parts = f.read().split(SEPARATOR)\n",
    "        if len(parts) != 5:\n",
    "            print(\"wrong number of parts. did you remove all extra lines on top and bottom\")\n",
    "        byte_parts = [base64.b64decode(part) for part in parts]\n",
    "        return tuple(byte_parts)"
   ]
  },
  {
   "cell_type": "code",
   "execution_count": 8,
   "metadata": {},
   "outputs": [],
   "source": [
    "SlowData = namedtuple('SlowData', ['timestamp', 'humidity', 'temperature', 'grim_voltage', 'grim_current', 'load_cell_voltage', 'load_cell_current', 'bat_voltage', 'bat_current'])\n",
    "FastData = namedtuple('FastData', ['timestamp', 'accx', 'accy', 'accz', 'gyrox', 'gyroy', 'gyroz', 'pressure'])\n",
    "ADCData = namedtuple('ADCData', ['timestamp', 'reading'])\n",
    "# PreIMUData is FastData\n",
    "PreALTData = namedtuple('PreALTData', ['timestamp', 'pressure', 'temperature'])\n"
   ]
  },
  {
   "cell_type": "code",
   "execution_count": 62,
   "metadata": {},
   "outputs": [],
   "source": [
    "slow_units = SlowData('ms', '% humidity', 'degrees C', 'mV', 'mA', 'mV', 'mA', 'mV', 'mA')\n",
    "fast_units = FastData('ms', 'm/s^2', 'm/s^2', 'm/s^2', 'rad/s',  'rad/s',  'rad/s', 'kPa')\n",
    "adc_units = ADCData('ms', 'LSB')\n",
    "pre_altitude_units = PreALTData('ms', 'kPa', 'degrees C')"
   ]
  },
  {
   "cell_type": "code",
   "execution_count": 63,
   "metadata": {},
   "outputs": [],
   "source": [
    "slow_fmt='IffHHHHHH' # timestamp, humid, temp, (voltage, current) * 3\n",
    "fast_fmt = 'Ifffffff' # timestamp accxyz, gyro xyz, press\n",
    "adc_fmt = 'Iiiiiiiiiii' # timestamp + 10 int32s\n",
    "imu_boost_detect_fmt = fast_fmt\n",
    "alt_boost_detect_fmt = 'Iff' # timestamp, press, temp"
   ]
  },
  {
   "cell_type": "code",
   "execution_count": 22,
   "metadata": {},
   "outputs": [],
   "source": [
    "slow_bs, fast_bs, adc_bs, pre_imu_bs, pre_alt_bs = file_to_bytes(filename)"
   ]
  },
  {
   "cell_type": "code",
   "execution_count": 64,
   "metadata": {},
   "outputs": [],
   "source": [
    "def interpolate_adc(entries: List[List]) -> List[ADCData]:\n",
    "    l = []\n",
    "    for i, entry in enumerate(entries[:-1]):\n",
    "        start_time = entries[i][0]\n",
    "        period = entries[i+1][0] - entries[i][0]\n",
    "        per = period / 10.0\n",
    "        for j, sample in enumerate(entry[1:]): \n",
    "            l.append(ADCData(start_time + j * per, sample))\n",
    "    return l"
   ]
  },
  {
   "cell_type": "code",
   "execution_count": 65,
   "metadata": {},
   "outputs": [],
   "source": [
    "slow_lists = list(struct.iter_unpack(slow_fmt, slow_bs))\n",
    "fast_lists = list(struct.iter_unpack(fast_fmt, fast_bs))\n",
    "adc_lists = list(struct.iter_unpack(adc_fmt, adc_bs))\n",
    "pre_imu_lists = list(struct.iter_unpack(imu_boost_detect_fmt, pre_imu_bs))\n",
    "pre_alt_lists = list(struct.iter_unpack(alt_boost_detect_fmt, pre_alt_bs))\n"
   ]
  },
  {
   "cell_type": "code",
   "execution_count": 66,
   "metadata": {},
   "outputs": [],
   "source": [
    "def unit_slow_data(l: List) -> SlowData:\n",
    "    dr = SlowData(*l)\n",
    "    du = SlowData(dr.timestamp, dr.humidity, dr.temperature, 1.25 * dr.grim_voltage, 1.25 * dr.grim_voltage, 1.25 * dr.load_cell_voltage, 1.25 * dr.load_cell_current, 1.25 * dr.bat_voltage, 1.25 * dr.bat_current)\n",
    "    return du"
   ]
  },
  {
   "cell_type": "code",
   "execution_count": 68,
   "metadata": {},
   "outputs": [],
   "source": [
    "slow_data = [unit_slow_data(l) for l in slow_lists]\n",
    "fast_data = [FastData(*l) for l in fast_lists]\n",
    "adc_data = interpolate_adc(adc_lists)\n",
    "\n",
    "# filter out timestamp = 0 (unwritten) entries\n",
    "# order by timestamp bc the circular buffer may not begin with the earliest entry\n",
    "pre_imu_data = sorted([FastData(*l) for l in pre_imu_lists if l[0] != 0], key = lambda d : d.timestamp)\n",
    "pre_alt_data = sorted([PreALTData(*l) for l in pre_alt_lists if l[0] != 0], key = lambda d : d.timestamp)"
   ]
  },
  {
   "cell_type": "code",
   "execution_count": 71,
   "metadata": {},
   "outputs": [
    {
     "name": "stdout",
     "output_type": "stream",
     "text": [
      "400 slow entries. 1.0 second period\n",
      "113171 fast entries. 3.5344743794788416 ms period\n",
      "1822500 adc entries. 0.2194787379972565 ms period\n"
     ]
    }
   ],
   "source": [
    "# calculate average period of each reading thread\n",
    "print(f\"{len(slow_data)} slow entries. {400 / len(slow_data)} second period\")\n",
    "print(f\"{len(fast_data)} fast entries. {1000 * 400 / len(fast_data)} ms period\")\n",
    "print(f\"{len(adc_data)} adc entries. {1000 * 400 / len(adc_data)} ms period\")\n"
   ]
  },
  {
   "cell_type": "code",
   "execution_count": 113,
   "metadata": {},
   "outputs": [],
   "source": [
    "slow_df = pd.DataFrame(slow_data)\n",
    "fast_df = pd.DataFrame(fast_data)\n",
    "adc_df = pd.DataFrame(adc_data)\n",
    "\n",
    "pre_imu_df = pd.DataFrame(pre_imu_data)\n",
    "pre_alt_df = pd.DataFrame(pre_alt_data)"
   ]
  },
  {
   "cell_type": "code",
   "execution_count": 110,
   "metadata": {},
   "outputs": [],
   "source": [
    "def add_units_to_df(df: pd.DataFrame, units):\n",
    "    new_names = {}\n",
    "    for unit, (series_name, _) in zip(units, df.items()):\n",
    "        new_names[series_name] = f\"{series_name} ({unit})\"\n",
    "    df.rename(columns=new_names, inplace=True)"
   ]
  },
  {
   "cell_type": "code",
   "execution_count": 114,
   "metadata": {},
   "outputs": [],
   "source": [
    "add_units_to_df(slow_df, slow_units)\n",
    "add_units_to_df(fast_df, fast_units)\n",
    "add_units_to_df(adc_df, adc_units)\n",
    "add_units_to_df(pre_alt_df, pre_altitude_units)\n",
    "add_units_to_df(pre_imu_df, fast_units)"
   ]
  },
  {
   "cell_type": "code",
   "execution_count": 115,
   "metadata": {},
   "outputs": [
    {
     "data": {
      "text/html": [
       "<div>\n",
       "<style scoped>\n",
       "    .dataframe tbody tr th:only-of-type {\n",
       "        vertical-align: middle;\n",
       "    }\n",
       "\n",
       "    .dataframe tbody tr th {\n",
       "        vertical-align: top;\n",
       "    }\n",
       "\n",
       "    .dataframe thead th {\n",
       "        text-align: right;\n",
       "    }\n",
       "</style>\n",
       "<table border=\"1\" class=\"dataframe\">\n",
       "  <thead>\n",
       "    <tr style=\"text-align: right;\">\n",
       "      <th></th>\n",
       "      <th>timestamp (ms)</th>\n",
       "      <th>humidity (% humidity)</th>\n",
       "      <th>temperature (degrees C)</th>\n",
       "      <th>grim_voltage (mV)</th>\n",
       "      <th>grim_current (mA)</th>\n",
       "      <th>load_cell_voltage (mV)</th>\n",
       "      <th>load_cell_current (mA)</th>\n",
       "      <th>bat_voltage (mV)</th>\n",
       "      <th>bat_current (mA)</th>\n",
       "    </tr>\n",
       "  </thead>\n",
       "  <tbody>\n",
       "    <tr>\n",
       "      <th>0</th>\n",
       "      <td>2969</td>\n",
       "      <td>36.833984</td>\n",
       "      <td>30.299999</td>\n",
       "      <td>3287.50</td>\n",
       "      <td>3287.50</td>\n",
       "      <td>4762.50</td>\n",
       "      <td>60.00</td>\n",
       "      <td>4788.75</td>\n",
       "      <td>6.25</td>\n",
       "    </tr>\n",
       "    <tr>\n",
       "      <th>1</th>\n",
       "      <td>3969</td>\n",
       "      <td>36.265625</td>\n",
       "      <td>30.309999</td>\n",
       "      <td>3288.75</td>\n",
       "      <td>3288.75</td>\n",
       "      <td>4763.75</td>\n",
       "      <td>60.00</td>\n",
       "      <td>4788.75</td>\n",
       "      <td>8.75</td>\n",
       "    </tr>\n",
       "    <tr>\n",
       "      <th>2</th>\n",
       "      <td>4969</td>\n",
       "      <td>36.080078</td>\n",
       "      <td>30.309999</td>\n",
       "      <td>3285.00</td>\n",
       "      <td>3285.00</td>\n",
       "      <td>4762.50</td>\n",
       "      <td>60.00</td>\n",
       "      <td>4788.75</td>\n",
       "      <td>8.75</td>\n",
       "    </tr>\n",
       "    <tr>\n",
       "      <th>3</th>\n",
       "      <td>5969</td>\n",
       "      <td>36.000977</td>\n",
       "      <td>30.330000</td>\n",
       "      <td>3287.50</td>\n",
       "      <td>3287.50</td>\n",
       "      <td>4766.25</td>\n",
       "      <td>58.75</td>\n",
       "      <td>4790.00</td>\n",
       "      <td>7.50</td>\n",
       "    </tr>\n",
       "    <tr>\n",
       "      <th>4</th>\n",
       "      <td>6969</td>\n",
       "      <td>36.664062</td>\n",
       "      <td>30.350000</td>\n",
       "      <td>3287.50</td>\n",
       "      <td>3287.50</td>\n",
       "      <td>4762.50</td>\n",
       "      <td>60.00</td>\n",
       "      <td>4787.50</td>\n",
       "      <td>8.75</td>\n",
       "    </tr>\n",
       "    <tr>\n",
       "      <th>...</th>\n",
       "      <td>...</td>\n",
       "      <td>...</td>\n",
       "      <td>...</td>\n",
       "      <td>...</td>\n",
       "      <td>...</td>\n",
       "      <td>...</td>\n",
       "      <td>...</td>\n",
       "      <td>...</td>\n",
       "      <td>...</td>\n",
       "    </tr>\n",
       "    <tr>\n",
       "      <th>395</th>\n",
       "      <td>397969</td>\n",
       "      <td>25.417969</td>\n",
       "      <td>38.130001</td>\n",
       "      <td>3286.25</td>\n",
       "      <td>3286.25</td>\n",
       "      <td>4620.00</td>\n",
       "      <td>60.00</td>\n",
       "      <td>4640.00</td>\n",
       "      <td>7.50</td>\n",
       "    </tr>\n",
       "    <tr>\n",
       "      <th>396</th>\n",
       "      <td>398969</td>\n",
       "      <td>24.836914</td>\n",
       "      <td>38.119999</td>\n",
       "      <td>3286.25</td>\n",
       "      <td>3286.25</td>\n",
       "      <td>4618.75</td>\n",
       "      <td>57.50</td>\n",
       "      <td>4641.25</td>\n",
       "      <td>6.25</td>\n",
       "    </tr>\n",
       "    <tr>\n",
       "      <th>397</th>\n",
       "      <td>399969</td>\n",
       "      <td>25.131836</td>\n",
       "      <td>38.099998</td>\n",
       "      <td>3286.25</td>\n",
       "      <td>3286.25</td>\n",
       "      <td>4615.00</td>\n",
       "      <td>58.75</td>\n",
       "      <td>4638.75</td>\n",
       "      <td>6.25</td>\n",
       "    </tr>\n",
       "    <tr>\n",
       "      <th>398</th>\n",
       "      <td>400969</td>\n",
       "      <td>25.748047</td>\n",
       "      <td>38.110001</td>\n",
       "      <td>3287.50</td>\n",
       "      <td>3287.50</td>\n",
       "      <td>4618.75</td>\n",
       "      <td>58.75</td>\n",
       "      <td>4641.25</td>\n",
       "      <td>6.25</td>\n",
       "    </tr>\n",
       "    <tr>\n",
       "      <th>399</th>\n",
       "      <td>401969</td>\n",
       "      <td>25.357422</td>\n",
       "      <td>38.110001</td>\n",
       "      <td>3291.25</td>\n",
       "      <td>3291.25</td>\n",
       "      <td>4622.50</td>\n",
       "      <td>58.75</td>\n",
       "      <td>4643.75</td>\n",
       "      <td>6.25</td>\n",
       "    </tr>\n",
       "  </tbody>\n",
       "</table>\n",
       "<p>400 rows × 9 columns</p>\n",
       "</div>"
      ],
      "text/plain": [
       "     timestamp (ms)  humidity (% humidity)  temperature (degrees C)  \\\n",
       "0              2969              36.833984                30.299999   \n",
       "1              3969              36.265625                30.309999   \n",
       "2              4969              36.080078                30.309999   \n",
       "3              5969              36.000977                30.330000   \n",
       "4              6969              36.664062                30.350000   \n",
       "..              ...                    ...                      ...   \n",
       "395          397969              25.417969                38.130001   \n",
       "396          398969              24.836914                38.119999   \n",
       "397          399969              25.131836                38.099998   \n",
       "398          400969              25.748047                38.110001   \n",
       "399          401969              25.357422                38.110001   \n",
       "\n",
       "     grim_voltage (mV)  grim_current (mA)  load_cell_voltage (mV)  \\\n",
       "0              3287.50            3287.50                 4762.50   \n",
       "1              3288.75            3288.75                 4763.75   \n",
       "2              3285.00            3285.00                 4762.50   \n",
       "3              3287.50            3287.50                 4766.25   \n",
       "4              3287.50            3287.50                 4762.50   \n",
       "..                 ...                ...                     ...   \n",
       "395            3286.25            3286.25                 4620.00   \n",
       "396            3286.25            3286.25                 4618.75   \n",
       "397            3286.25            3286.25                 4615.00   \n",
       "398            3287.50            3287.50                 4618.75   \n",
       "399            3291.25            3291.25                 4622.50   \n",
       "\n",
       "     load_cell_current (mA)  bat_voltage (mV)  bat_current (mA)  \n",
       "0                     60.00           4788.75              6.25  \n",
       "1                     60.00           4788.75              8.75  \n",
       "2                     60.00           4788.75              8.75  \n",
       "3                     58.75           4790.00              7.50  \n",
       "4                     60.00           4787.50              8.75  \n",
       "..                      ...               ...               ...  \n",
       "395                   60.00           4640.00              7.50  \n",
       "396                   57.50           4641.25              6.25  \n",
       "397                   58.75           4638.75              6.25  \n",
       "398                   58.75           4641.25              6.25  \n",
       "399                   58.75           4643.75              6.25  \n",
       "\n",
       "[400 rows x 9 columns]"
      ]
     },
     "execution_count": 115,
     "metadata": {},
     "output_type": "execute_result"
    }
   ],
   "source": [
    "slow_df"
   ]
  },
  {
   "cell_type": "code",
   "execution_count": 119,
   "metadata": {},
   "outputs": [],
   "source": [
    "if not os.path.exists('out'):\n",
    "    os.makedirs('out')\n",
    "slow_df.to_csv('out/slow.csv', index=False)\n",
    "fast_df.to_csv('out/fast.csv', index=False)\n",
    "adc_df.to_csv('out/adc.csv', index=False)\n",
    "\n",
    "pre_imu_df.to_csv('out/pre_imu.csv', index=False)\n",
    "pre_alt_df.to_csv('out/pre_alt.csv', index=False)"
   ]
  }
 ],
 "metadata": {
  "kernelspec": {
   "display_name": "Python 3",
   "language": "python",
   "name": "python3"
  },
  "language_info": {
   "codemirror_mode": {
    "name": "ipython",
    "version": 3
   },
   "file_extension": ".py",
   "mimetype": "text/x-python",
   "name": "python",
   "nbconvert_exporter": "python",
   "pygments_lexer": "ipython3",
   "version": "3.12.3"
  }
 },
 "nbformat": 4,
 "nbformat_minor": 2
}
