{
 "cells": [
  {
   "cell_type": "markdown",
   "metadata": {},
   "source": [
    "# Data analysis script\n",
    "\n",
    "## Input\n",
    "a single file received from running `grim dump` on the payload\n",
    "\n",
    "## Output\n",
    "- FILL THIS IN"
   ]
  },
  {
   "cell_type": "code",
   "execution_count": 19,
   "metadata": {},
   "outputs": [],
   "source": [
    "import struct\n",
    "import base64\n",
    "from collections import namedtuple\n",
    "from typing import Tuple, List\n",
    "import pandas as pd\n",
    "import os\n"
   ]
  },
  {
   "cell_type": "markdown",
   "metadata": {},
   "source": [
    "## Data opening and parsing\n",
    "- open a file to bytes\n",
    "- bytes to lists of data"
   ]
  },
  {
   "cell_type": "code",
   "execution_count": 20,
   "metadata": {},
   "outputs": [],
   "source": [
    "SEPARATOR = \"********\\n\"\n",
    "filename = 'data/lall2.cap'\n",
    "ouptut_dir = 'out2'"
   ]
  },
  {
   "cell_type": "code",
   "execution_count": 21,
   "metadata": {},
   "outputs": [],
   "source": [
    "def file_to_bytes(filename: str) -> Tuple[bytes, bytes, bytes, bytes, bytes]:\n",
    "    with open(filename, 'r') as f:\n",
    "        parts = f.read().split(SEPARATOR)\n",
    "        if len(parts) != 5:\n",
    "            print(\"wrong number of parts. did you remove all extra lines on top and bottom\")\n",
    "        byte_parts = [base64.b64decode(part) for part in parts]\n",
    "        return tuple(byte_parts)"
   ]
  },
  {
   "cell_type": "code",
   "execution_count": 22,
   "metadata": {},
   "outputs": [],
   "source": [
    "SlowData = namedtuple('SlowData', ['timestamp', 'humidity', 'temperature', 'grim_voltage', 'grim_current', 'load_cell_voltage', 'load_cell_current', 'bat_voltage', 'bat_current'])\n",
    "FastData = namedtuple('FastData', ['timestamp', 'accx', 'accy', 'accz', 'gyrox', 'gyroy', 'gyroz', 'pressure'])\n",
    "ADCData = namedtuple('ADCData', ['timestamp', 'reading'])\n",
    "# PreIMUData is FastData\n",
    "PreALTData = namedtuple('PreALTData', ['timestamp', 'pressure', 'temperature'])\n"
   ]
  },
  {
   "cell_type": "code",
   "execution_count": 23,
   "metadata": {},
   "outputs": [],
   "source": [
    "slow_units = SlowData('ms', '% humidity', 'degrees C', 'mV', 'mA', 'mV', 'mA', 'mV', 'mA')\n",
    "fast_units = FastData('ms', 'm/s^2', 'm/s^2', 'm/s^2', 'rad/s',  'rad/s',  'rad/s', 'kPa')\n",
    "adc_units = ADCData('ms', 'LSB')\n",
    "pre_altitude_units = PreALTData('ms', 'kPa', 'degrees C')"
   ]
  },
  {
   "cell_type": "code",
   "execution_count": 24,
   "metadata": {},
   "outputs": [],
   "source": [
    "slow_fmt='IffHHHHHH' # timestamp, humid, temp, (voltage, current) * 3\n",
    "fast_fmt = 'Ifffffff' # timestamp accxyz, gyro xyz, press\n",
    "adc_fmt = 'Iiiiiiiiiii' # timestamp + 10 int32s\n",
    "imu_boost_detect_fmt = fast_fmt\n",
    "alt_boost_detect_fmt = 'Iff' # timestamp, press, temp"
   ]
  },
  {
   "cell_type": "code",
   "execution_count": 25,
   "metadata": {},
   "outputs": [],
   "source": [
    "slow_bs, fast_bs, adc_bs, pre_imu_bs, pre_alt_bs = file_to_bytes(filename)"
   ]
  },
  {
   "cell_type": "code",
   "execution_count": 26,
   "metadata": {},
   "outputs": [],
   "source": [
    "def interpolate_adc(entries: List[List]) -> List[ADCData]:\n",
    "    l = []\n",
    "    for i, entry in enumerate(entries[:-1]):\n",
    "        start_time = entries[i][0]\n",
    "        period = entries[i+1][0] - entries[i][0]\n",
    "        per = period / 10.0\n",
    "        for j, sample in enumerate(entry[1:]): \n",
    "            l.append(ADCData(start_time + j * per, sample))\n",
    "    return l"
   ]
  },
  {
   "cell_type": "code",
   "execution_count": 27,
   "metadata": {},
   "outputs": [],
   "source": [
    "slow_lists = list(struct.iter_unpack(slow_fmt, slow_bs))\n",
    "fast_lists = list(struct.iter_unpack(fast_fmt, fast_bs))\n",
    "adc_lists = list(struct.iter_unpack(adc_fmt, adc_bs))\n",
    "pre_imu_lists = list(struct.iter_unpack(imu_boost_detect_fmt, pre_imu_bs))\n",
    "pre_alt_lists = list(struct.iter_unpack(alt_boost_detect_fmt, pre_alt_bs))\n"
   ]
  },
  {
   "cell_type": "code",
   "execution_count": 28,
   "metadata": {},
   "outputs": [],
   "source": [
    "def unit_slow_data(l: List) -> SlowData:\n",
    "    dr = SlowData(*l)\n",
    "    du = SlowData(dr.timestamp, dr.humidity, dr.temperature, 1.25 * dr.grim_voltage, 1.25 * dr.grim_voltage, 1.25 * dr.load_cell_voltage, 1.25 * dr.load_cell_current, 1.25 * dr.bat_voltage, 1.25 * dr.bat_current)\n",
    "    return du"
   ]
  },
  {
   "cell_type": "code",
   "execution_count": 29,
   "metadata": {},
   "outputs": [],
   "source": [
    "slow_data = [unit_slow_data(l) for l in slow_lists]\n",
    "fast_data = [FastData(*l) for l in fast_lists]\n",
    "adc_data = interpolate_adc(adc_lists)\n",
    "\n",
    "# filter out timestamp = 0 (unwritten) entries\n",
    "# order by timestamp bc the circular buffer may not begin with the earliest entry\n",
    "pre_imu_data = sorted([FastData(*l) for l in pre_imu_lists if l[0] != 0], key = lambda d : d.timestamp)\n",
    "pre_alt_data = sorted([PreALTData(*l) for l in pre_alt_lists if l[0] != 0], key = lambda d : d.timestamp)"
   ]
  },
  {
   "cell_type": "code",
   "execution_count": 30,
   "metadata": {},
   "outputs": [
    {
     "name": "stdout",
     "output_type": "stream",
     "text": [
      "20 slow entries. 20.0 second period\n",
      "5432 fast entries. 73.63770250368188 ms period\n",
      "87640 adc entries. 4.564125969876769 ms period\n"
     ]
    }
   ],
   "source": [
    "# calculate average period of each reading thread\n",
    "print(f\"{len(slow_data)} slow entries. {400 / len(slow_data)} second period\")\n",
    "print(f\"{len(fast_data)} fast entries. {1000 * 400 / len(fast_data)} ms period\")\n",
    "print(f\"{len(adc_data)} adc entries. {1000 * 400 / len(adc_data)} ms period\")\n"
   ]
  },
  {
   "cell_type": "code",
   "execution_count": 37,
   "metadata": {},
   "outputs": [],
   "source": [
    "slow_df = pd.DataFrame(slow_data)\n",
    "fast_df = pd.DataFrame(fast_data)\n",
    "adc_df = pd.DataFrame(adc_data)\n",
    "\n",
    "pre_imu_df = pd.DataFrame(pre_imu_data)\n",
    "pre_alt_df = pd.DataFrame(pre_alt_data)"
   ]
  },
  {
   "cell_type": "code",
   "execution_count": 32,
   "metadata": {},
   "outputs": [],
   "source": [
    "def add_units_to_df(df: pd.DataFrame, units):\n",
    "    new_names = {}\n",
    "    for unit, (series_name, _) in zip(units, df.items()):\n",
    "        new_names[series_name] = f\"{series_name} ({unit})\"\n",
    "    df.rename(columns=new_names, inplace=True)"
   ]
  },
  {
   "cell_type": "code",
   "execution_count": 41,
   "metadata": {},
   "outputs": [],
   "source": [
    "# set T=0 to start of boost accel buffer\n",
    "start = pre_imu_df['timestamp'][0]\n",
    "\n",
    "slow_df['timestamp'] = slow_df['timestamp'] - start\n",
    "fast_df['timestamp'] = fast_df['timestamp'] - start\n",
    "adc_df['timestamp'] = adc_df['timestamp'] - start\n",
    "\n",
    "pre_imu_df['timestamp'] = pre_imu_df['timestamp'] - start\n",
    "pre_alt_df['timestamp'] = pre_alt_df['timestamp'] - start"
   ]
  },
  {
   "cell_type": "code",
   "execution_count": 33,
   "metadata": {},
   "outputs": [],
   "source": [
    "add_units_to_df(slow_df, slow_units)\n",
    "add_units_to_df(fast_df, fast_units)\n",
    "add_units_to_df(adc_df, adc_units)\n",
    "add_units_to_df(pre_alt_df, pre_altitude_units)\n",
    "add_units_to_df(pre_imu_df, fast_units)"
   ]
  },
  {
   "cell_type": "code",
   "execution_count": 44,
   "metadata": {},
   "outputs": [
    {
     "data": {
      "text/html": [
       "<div>\n",
       "<style scoped>\n",
       "    .dataframe tbody tr th:only-of-type {\n",
       "        vertical-align: middle;\n",
       "    }\n",
       "\n",
       "    .dataframe tbody tr th {\n",
       "        vertical-align: top;\n",
       "    }\n",
       "\n",
       "    .dataframe thead th {\n",
       "        text-align: right;\n",
       "    }\n",
       "</style>\n",
       "<table border=\"1\" class=\"dataframe\">\n",
       "  <thead>\n",
       "    <tr style=\"text-align: right;\">\n",
       "      <th></th>\n",
       "      <th>timestamp</th>\n",
       "      <th>accx</th>\n",
       "      <th>accy</th>\n",
       "      <th>accz</th>\n",
       "      <th>gyrox</th>\n",
       "      <th>gyroy</th>\n",
       "      <th>gyroz</th>\n",
       "      <th>pressure</th>\n",
       "    </tr>\n",
       "  </thead>\n",
       "  <tbody>\n",
       "    <tr>\n",
       "      <th>0</th>\n",
       "      <td>97541</td>\n",
       "      <td>3.455000</td>\n",
       "      <td>10.088000</td>\n",
       "      <td>5.857000</td>\n",
       "      <td>2.035</td>\n",
       "      <td>1.891</td>\n",
       "      <td>4.161</td>\n",
       "      <td>0.0</td>\n",
       "    </tr>\n",
       "    <tr>\n",
       "      <th>1</th>\n",
       "      <td>97543</td>\n",
       "      <td>2.172000</td>\n",
       "      <td>8.752000</td>\n",
       "      <td>6.752000</td>\n",
       "      <td>2.243</td>\n",
       "      <td>1.957</td>\n",
       "      <td>4.381</td>\n",
       "      <td>0.0</td>\n",
       "    </tr>\n",
       "    <tr>\n",
       "      <th>2</th>\n",
       "      <td>97545</td>\n",
       "      <td>0.205000</td>\n",
       "      <td>7.250000</td>\n",
       "      <td>7.800000</td>\n",
       "      <td>2.376</td>\n",
       "      <td>2.073</td>\n",
       "      <td>4.619</td>\n",
       "      <td>0.0</td>\n",
       "    </tr>\n",
       "    <tr>\n",
       "      <th>3</th>\n",
       "      <td>97549</td>\n",
       "      <td>-2.842000</td>\n",
       "      <td>4.187000</td>\n",
       "      <td>11.064000</td>\n",
       "      <td>2.665</td>\n",
       "      <td>2.196</td>\n",
       "      <td>4.819</td>\n",
       "      <td>0.0</td>\n",
       "    </tr>\n",
       "    <tr>\n",
       "      <th>4</th>\n",
       "      <td>97551</td>\n",
       "      <td>-4.699000</td>\n",
       "      <td>1.646000</td>\n",
       "      <td>12.346000</td>\n",
       "      <td>2.752</td>\n",
       "      <td>2.273</td>\n",
       "      <td>4.900</td>\n",
       "      <td>0.0</td>\n",
       "    </tr>\n",
       "    <tr>\n",
       "      <th>...</th>\n",
       "      <td>...</td>\n",
       "      <td>...</td>\n",
       "      <td>...</td>\n",
       "      <td>...</td>\n",
       "      <td>...</td>\n",
       "      <td>...</td>\n",
       "      <td>...</td>\n",
       "      <td>...</td>\n",
       "    </tr>\n",
       "    <tr>\n",
       "      <th>115</th>\n",
       "      <td>97820</td>\n",
       "      <td>-0.612000</td>\n",
       "      <td>18.136999</td>\n",
       "      <td>-29.837999</td>\n",
       "      <td>4.163</td>\n",
       "      <td>-6.337</td>\n",
       "      <td>-5.698</td>\n",
       "      <td>0.0</td>\n",
       "    </tr>\n",
       "    <tr>\n",
       "      <th>116</th>\n",
       "      <td>97822</td>\n",
       "      <td>6.570000</td>\n",
       "      <td>25.172001</td>\n",
       "      <td>-38.973999</td>\n",
       "      <td>4.370</td>\n",
       "      <td>-7.657</td>\n",
       "      <td>-5.716</td>\n",
       "      <td>0.0</td>\n",
       "    </tr>\n",
       "    <tr>\n",
       "      <th>117</th>\n",
       "      <td>97824</td>\n",
       "      <td>11.901000</td>\n",
       "      <td>33.834000</td>\n",
       "      <td>-43.376999</td>\n",
       "      <td>3.795</td>\n",
       "      <td>-4.285</td>\n",
       "      <td>-5.088</td>\n",
       "      <td>0.0</td>\n",
       "    </tr>\n",
       "    <tr>\n",
       "      <th>118</th>\n",
       "      <td>97828</td>\n",
       "      <td>21.454000</td>\n",
       "      <td>44.237999</td>\n",
       "      <td>-46.410999</td>\n",
       "      <td>3.387</td>\n",
       "      <td>-2.820</td>\n",
       "      <td>-3.679</td>\n",
       "      <td>0.0</td>\n",
       "    </tr>\n",
       "    <tr>\n",
       "      <th>119</th>\n",
       "      <td>97830</td>\n",
       "      <td>25.780001</td>\n",
       "      <td>48.028000</td>\n",
       "      <td>-46.362999</td>\n",
       "      <td>3.351</td>\n",
       "      <td>-1.123</td>\n",
       "      <td>-3.622</td>\n",
       "      <td>0.0</td>\n",
       "    </tr>\n",
       "  </tbody>\n",
       "</table>\n",
       "<p>120 rows × 8 columns</p>\n",
       "</div>"
      ],
      "text/plain": [
       "     timestamp       accx       accy       accz  gyrox  gyroy  gyroz  pressure\n",
       "0        97541   3.455000  10.088000   5.857000  2.035  1.891  4.161       0.0\n",
       "1        97543   2.172000   8.752000   6.752000  2.243  1.957  4.381       0.0\n",
       "2        97545   0.205000   7.250000   7.800000  2.376  2.073  4.619       0.0\n",
       "3        97549  -2.842000   4.187000  11.064000  2.665  2.196  4.819       0.0\n",
       "4        97551  -4.699000   1.646000  12.346000  2.752  2.273  4.900       0.0\n",
       "..         ...        ...        ...        ...    ...    ...    ...       ...\n",
       "115      97820  -0.612000  18.136999 -29.837999  4.163 -6.337 -5.698       0.0\n",
       "116      97822   6.570000  25.172001 -38.973999  4.370 -7.657 -5.716       0.0\n",
       "117      97824  11.901000  33.834000 -43.376999  3.795 -4.285 -5.088       0.0\n",
       "118      97828  21.454000  44.237999 -46.410999  3.387 -2.820 -3.679       0.0\n",
       "119      97830  25.780001  48.028000 -46.362999  3.351 -1.123 -3.622       0.0\n",
       "\n",
       "[120 rows x 8 columns]"
      ]
     },
     "execution_count": 44,
     "metadata": {},
     "output_type": "execute_result"
    }
   ],
   "source": [
    "pre_imu_df"
   ]
  },
  {
   "cell_type": "code",
   "execution_count": 35,
   "metadata": {},
   "outputs": [],
   "source": [
    "if not os.path.exists(ouptut_dir):\n",
    "    os.makedirs(ouptut_dir)\n",
    "slow_df.to_csv(ouptut_dir+'/slow.csv', index=False)\n",
    "fast_df.to_csv(ouptut_dir+'/fast.csv', index=False)\n",
    "adc_df.to_csv(ouptut_dir+'/adc.csv', index=False)\n",
    "\n",
    "pre_imu_df.to_csv(ouptut_dir+'/pre_imu.csv', index=False)\n",
    "pre_alt_df.to_csv(ouptut_dir+'/pre_alt.csv', index=False)"
   ]
  }
 ],
 "metadata": {
  "kernelspec": {
   "display_name": "Python 3",
   "language": "python",
   "name": "python3"
  },
  "language_info": {
   "codemirror_mode": {
    "name": "ipython",
    "version": 3
   },
   "file_extension": ".py",
   "mimetype": "text/x-python",
   "name": "python",
   "nbconvert_exporter": "python",
   "pygments_lexer": "ipython3",
   "version": "3.12.3"
  }
 },
 "nbformat": 4,
 "nbformat_minor": 2
}
