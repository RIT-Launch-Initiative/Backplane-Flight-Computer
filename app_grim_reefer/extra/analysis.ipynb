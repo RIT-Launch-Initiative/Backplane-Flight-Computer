{
 "cells": [
  {
   "cell_type": "markdown",
   "metadata": {},
   "source": [
    "# Data analysis script\n",
    "\n",
    "## Input\n",
    "a single file received from running `grim dump` on the payload\n",
    "\n",
    "## Output\n",
    "- FILL THIS IN"
   ]
  },
  {
   "cell_type": "code",
   "execution_count": 83,
   "metadata": {},
   "outputs": [],
   "source": [
    "import struct\n",
    "import base64\n",
    "from collections import namedtuple\n",
    "from typing import Tuple, List\n",
    "import pandas as pd\n",
    "import os\n"
   ]
  },
  {
   "cell_type": "markdown",
   "metadata": {},
   "source": [
    "## Data opening and parsing\n",
    "- open a file to bytes\n",
    "- bytes to lists of data"
   ]
  },
  {
   "cell_type": "code",
   "execution_count": 84,
   "metadata": {},
   "outputs": [],
   "source": [
    "SEPARATOR = \"********\\n\"\n",
    "filename = 'data/lall3.cap'\n",
    "ouptut_dir = 'out2'"
   ]
  },
  {
   "cell_type": "code",
   "execution_count": 85,
   "metadata": {},
   "outputs": [],
   "source": [
    "def file_to_bytes(filename: str) -> Tuple[bytes, bytes, bytes, bytes, bytes]:\n",
    "    with open(filename, 'r') as f:\n",
    "        parts = f.read().split(SEPARATOR)\n",
    "        if len(parts) != 5:\n",
    "            print(\"wrong number of parts. did you remove all extra lines on top and bottom\")\n",
    "        byte_parts = [base64.b64decode(part) for part in parts]\n",
    "        return tuple(byte_parts)"
   ]
  },
  {
   "cell_type": "code",
   "execution_count": 86,
   "metadata": {},
   "outputs": [],
   "source": [
    "SlowData = namedtuple('SlowData', ['timestamp', 'humidity', 'temperature', 'grim_voltage', 'grim_current', 'load_cell_voltage', 'load_cell_current', 'bat_voltage', 'bat_current'])\n",
    "FastData = namedtuple('FastData', ['timestamp', 'accx', 'accy', 'accz', 'gyrox', 'gyroy', 'gyroz', 'pressure'])\n",
    "ADCData = namedtuple('ADCData', ['timestamp', 'reading'])\n",
    "# PreIMUData is FastData\n",
    "PreALTData = namedtuple('PreALTData', ['timestamp', 'pressure', 'temperature'])\n"
   ]
  },
  {
   "cell_type": "code",
   "execution_count": 87,
   "metadata": {},
   "outputs": [],
   "source": [
    "slow_units = SlowData('ms', '% humidity', 'degrees C', 'mV', 'mA', 'mV', 'mA', 'mV', 'mA')\n",
    "fast_units = FastData('ms', 'm/s^2', 'm/s^2', 'm/s^2', 'rad/s',  'rad/s',  'rad/s', 'kPa')\n",
    "adc_units = ADCData('ms', 'LSB')\n",
    "pre_altitude_units = PreALTData('ms', 'kPa', 'degrees C')"
   ]
  },
  {
   "cell_type": "code",
   "execution_count": 88,
   "metadata": {},
   "outputs": [],
   "source": [
    "slow_fmt='IffHHHHHH' # timestamp, humid, temp, (voltage, current) * 3\n",
    "fast_fmt = 'Ifffffff' # timestamp accxyz, gyro xyz, press\n",
    "adc_fmt = 'Iiiiiiiiiii' # timestamp + 10 int32s\n",
    "imu_boost_detect_fmt = fast_fmt\n",
    "alt_boost_detect_fmt = 'Iff' # timestamp, press, temp"
   ]
  },
  {
   "cell_type": "code",
   "execution_count": 89,
   "metadata": {},
   "outputs": [],
   "source": [
    "slow_bs, fast_bs, adc_bs, pre_imu_bs, pre_alt_bs = file_to_bytes(filename)"
   ]
  },
  {
   "cell_type": "code",
   "execution_count": 90,
   "metadata": {},
   "outputs": [],
   "source": [
    "def interpolate_adc(entries: List[List]) -> List[ADCData]:\n",
    "    l = []\n",
    "    for i, entry in enumerate(entries[:-1]):\n",
    "        start_time = entries[i][0]\n",
    "        period = entries[i+1][0] - entries[i][0]\n",
    "        per = period / 10.0\n",
    "        for j, sample in enumerate(entry[1:]): \n",
    "            l.append(ADCData(start_time + j * per, sample))\n",
    "    return l"
   ]
  },
  {
   "cell_type": "code",
   "execution_count": 91,
   "metadata": {},
   "outputs": [],
   "source": [
    "slow_lists = list(struct.iter_unpack(slow_fmt, slow_bs))\n",
    "fast_lists = list(struct.iter_unpack(fast_fmt, fast_bs))\n",
    "adc_lists = list(struct.iter_unpack(adc_fmt, adc_bs))\n",
    "pre_imu_lists = list(struct.iter_unpack(imu_boost_detect_fmt, pre_imu_bs))\n",
    "pre_alt_lists = list(struct.iter_unpack(alt_boost_detect_fmt, pre_alt_bs))\n"
   ]
  },
  {
   "cell_type": "code",
   "execution_count": 92,
   "metadata": {},
   "outputs": [],
   "source": [
    "def unit_slow_data(l: List) -> SlowData:\n",
    "    dr = SlowData(*l)\n",
    "    du = SlowData(dr.timestamp, dr.humidity, dr.temperature, 1.25 * dr.grim_voltage, 1.25 * dr.grim_voltage, 1.25 * dr.load_cell_voltage, 1.25 * dr.load_cell_current, 1.25 * dr.bat_voltage, 1.25 * dr.bat_current)\n",
    "    return du"
   ]
  },
  {
   "cell_type": "code",
   "execution_count": 93,
   "metadata": {},
   "outputs": [],
   "source": [
    "slow_data = [unit_slow_data(l) for l in slow_lists]\n",
    "fast_data = [FastData(*l) for l in fast_lists]\n",
    "adc_data = interpolate_adc(adc_lists)\n",
    "\n",
    "# filter out timestamp = 0 (unwritten) entries\n",
    "# order by timestamp bc the circular buffer may not begin with the earliest entry\n",
    "pre_imu_data = sorted([FastData(*l) for l in pre_imu_lists if l[0] != 0], key = lambda d : d.timestamp)\n",
    "pre_alt_data = sorted([PreALTData(*l) for l in pre_alt_lists if l[0] != 0], key = lambda d : d.timestamp)"
   ]
  },
  {
   "cell_type": "code",
   "execution_count": 94,
   "metadata": {},
   "outputs": [],
   "source": [
    "pre_alt_elapsed = pre_alt_data[-1].timestamp - pre_alt_data[0].timestamp\n",
    "pre_imu_elapsed = pre_imu_data[-1].timestamp - pre_imu_data[0].timestamp"
   ]
  },
  {
   "cell_type": "code",
   "execution_count": 96,
   "metadata": {},
   "outputs": [
    {
     "name": "stdout",
     "output_type": "stream",
     "text": [
      "IMU Buffer Time: 290 ms\n",
      "ALT Buffer Time: 4990 ms\n"
     ]
    }
   ],
   "source": [
    "print(f\"IMU Buffer Time: {pre_imu_elapsed} ms\")\n",
    "print(f\"ALT Buffer Time: {pre_alt_elapsed} ms\")"
   ]
  },
  {
   "cell_type": "code",
   "execution_count": 98,
   "metadata": {},
   "outputs": [
    {
     "name": "stdout",
     "output_type": "stream",
     "text": [
      "Suggest 0.8620689655172413\n"
     ]
    }
   ],
   "source": [
    "percent_imu = 250 / pre_imu_elapsed\n",
    "print(f\"Suggest {percent_imu} of current IMU Buffer size\")"
   ]
  },
  {
   "cell_type": "code",
   "execution_count": null,
   "metadata": {},
   "outputs": [
    {
     "name": "stdout",
     "output_type": "stream",
     "text": [
      "20 slow entries. 20.0 second period\n",
      "5432 fast entries. 73.63770250368188 ms period\n",
      "87640 adc entries. 4.564125969876769 ms period\n"
     ]
    }
   ],
   "source": [
    "# calculate average period of each reading thread\n",
    "print(f\"{len(slow_data)} slow entries. {400 / len(slow_data)} second period\")\n",
    "print(f\"{len(fast_data)} fast entries. {1000 * 400 / len(fast_data)} ms period\")\n",
    "print(f\"{len(adc_data)} adc entries. {1000 * 400 / len(adc_data)} ms period\")\n"
   ]
  },
  {
   "cell_type": "code",
   "execution_count": null,
   "metadata": {},
   "outputs": [],
   "source": [
    "slow_df = pd.DataFrame(slow_data)\n",
    "fast_df = pd.DataFrame(fast_data)\n",
    "adc_df = pd.DataFrame(adc_data)\n",
    "\n",
    "pre_imu_df = pd.DataFrame(pre_imu_data)\n",
    "pre_alt_df = pd.DataFrame(pre_alt_data)"
   ]
  },
  {
   "cell_type": "code",
   "execution_count": null,
   "metadata": {},
   "outputs": [],
   "source": [
    "def add_units_to_df(df: pd.DataFrame, units):\n",
    "    new_names = {}\n",
    "    for unit, (series_name, _) in zip(units, df.items()):\n",
    "        new_names[series_name] = f\"{series_name} ({unit})\"\n",
    "    df.rename(columns=new_names, inplace=True)"
   ]
  },
  {
   "cell_type": "code",
   "execution_count": null,
   "metadata": {},
   "outputs": [],
   "source": [
    "# set T=0 to start of boost accel buffer\n",
    "start = pre_imu_df['timestamp'][0]\n",
    "\n",
    "slow_df['timestamp'] = slow_df['timestamp'] - start\n",
    "fast_df['timestamp'] = fast_df['timestamp'] - start\n",
    "adc_df['timestamp'] = adc_df['timestamp'] - start\n",
    "\n",
    "pre_imu_df['timestamp'] = pre_imu_df['timestamp'] - start\n",
    "pre_alt_df['timestamp'] = pre_alt_df['timestamp'] - start"
   ]
  },
  {
   "cell_type": "code",
   "execution_count": null,
   "metadata": {},
   "outputs": [],
   "source": [
    "add_units_to_df(slow_df, slow_units)\n",
    "add_units_to_df(fast_df, fast_units)\n",
    "add_units_to_df(adc_df, adc_units)\n",
    "add_units_to_df(pre_alt_df, pre_altitude_units)\n",
    "add_units_to_df(pre_imu_df, fast_units)"
   ]
  },
  {
   "cell_type": "code",
   "execution_count": null,
   "metadata": {},
   "outputs": [
    {
     "data": {
      "text/html": [
       "<div>\n",
       "<style scoped>\n",
       "    .dataframe tbody tr th:only-of-type {\n",
       "        vertical-align: middle;\n",
       "    }\n",
       "\n",
       "    .dataframe tbody tr th {\n",
       "        vertical-align: top;\n",
       "    }\n",
       "\n",
       "    .dataframe thead th {\n",
       "        text-align: right;\n",
       "    }\n",
       "</style>\n",
       "<table border=\"1\" class=\"dataframe\">\n",
       "  <thead>\n",
       "    <tr style=\"text-align: right;\">\n",
       "      <th></th>\n",
       "      <th>timestamp (ms)</th>\n",
       "      <th>accx (m/s^2)</th>\n",
       "      <th>accy (m/s^2)</th>\n",
       "      <th>accz (m/s^2)</th>\n",
       "      <th>gyrox (rad/s)</th>\n",
       "      <th>gyroy (rad/s)</th>\n",
       "      <th>gyroz (rad/s)</th>\n",
       "      <th>pressure (kPa)</th>\n",
       "    </tr>\n",
       "  </thead>\n",
       "  <tbody>\n",
       "    <tr>\n",
       "      <th>0</th>\n",
       "      <td>292</td>\n",
       "      <td>36.959000</td>\n",
       "      <td>56.799999</td>\n",
       "      <td>-41.988998</td>\n",
       "      <td>3.203</td>\n",
       "      <td>0.274</td>\n",
       "      <td>-1.202</td>\n",
       "      <td>97.366989</td>\n",
       "    </tr>\n",
       "    <tr>\n",
       "      <th>1</th>\n",
       "      <td>295</td>\n",
       "      <td>40.126999</td>\n",
       "      <td>56.723999</td>\n",
       "      <td>-37.585999</td>\n",
       "      <td>2.360</td>\n",
       "      <td>1.038</td>\n",
       "      <td>0.474</td>\n",
       "      <td>97.366989</td>\n",
       "    </tr>\n",
       "    <tr>\n",
       "      <th>2</th>\n",
       "      <td>299</td>\n",
       "      <td>36.466000</td>\n",
       "      <td>55.646999</td>\n",
       "      <td>-34.834000</td>\n",
       "      <td>1.426</td>\n",
       "      <td>2.951</td>\n",
       "      <td>2.129</td>\n",
       "      <td>97.366753</td>\n",
       "    </tr>\n",
       "    <tr>\n",
       "      <th>3</th>\n",
       "      <td>302</td>\n",
       "      <td>29.014999</td>\n",
       "      <td>52.167999</td>\n",
       "      <td>-34.785999</td>\n",
       "      <td>0.724</td>\n",
       "      <td>4.902</td>\n",
       "      <td>3.878</td>\n",
       "      <td>97.366753</td>\n",
       "    </tr>\n",
       "    <tr>\n",
       "      <th>4</th>\n",
       "      <td>305</td>\n",
       "      <td>19.223000</td>\n",
       "      <td>45.549000</td>\n",
       "      <td>-23.909000</td>\n",
       "      <td>0.471</td>\n",
       "      <td>6.361</td>\n",
       "      <td>5.187</td>\n",
       "      <td>97.366753</td>\n",
       "    </tr>\n",
       "    <tr>\n",
       "      <th>...</th>\n",
       "      <td>...</td>\n",
       "      <td>...</td>\n",
       "      <td>...</td>\n",
       "      <td>...</td>\n",
       "      <td>...</td>\n",
       "      <td>...</td>\n",
       "      <td>...</td>\n",
       "      <td>...</td>\n",
       "    </tr>\n",
       "    <tr>\n",
       "      <th>5427</th>\n",
       "      <td>20273</td>\n",
       "      <td>2.254000</td>\n",
       "      <td>-1.741000</td>\n",
       "      <td>9.934000</td>\n",
       "      <td>0.031</td>\n",
       "      <td>-0.053</td>\n",
       "      <td>-0.028</td>\n",
       "      <td>97.366776</td>\n",
       "    </tr>\n",
       "    <tr>\n",
       "      <th>5428</th>\n",
       "      <td>20277</td>\n",
       "      <td>2.297000</td>\n",
       "      <td>-1.761000</td>\n",
       "      <td>10.021000</td>\n",
       "      <td>0.030</td>\n",
       "      <td>-0.056</td>\n",
       "      <td>-0.020</td>\n",
       "      <td>97.366776</td>\n",
       "    </tr>\n",
       "    <tr>\n",
       "      <th>5429</th>\n",
       "      <td>20280</td>\n",
       "      <td>2.263000</td>\n",
       "      <td>-1.722000</td>\n",
       "      <td>10.001000</td>\n",
       "      <td>0.026</td>\n",
       "      <td>-0.051</td>\n",
       "      <td>-0.037</td>\n",
       "      <td>97.366776</td>\n",
       "    </tr>\n",
       "    <tr>\n",
       "      <th>5430</th>\n",
       "      <td>20283</td>\n",
       "      <td>2.239000</td>\n",
       "      <td>-1.780000</td>\n",
       "      <td>10.001000</td>\n",
       "      <td>0.024</td>\n",
       "      <td>-0.052</td>\n",
       "      <td>-0.035</td>\n",
       "      <td>97.366776</td>\n",
       "    </tr>\n",
       "    <tr>\n",
       "      <th>5431</th>\n",
       "      <td>20287</td>\n",
       "      <td>2.244000</td>\n",
       "      <td>-1.718000</td>\n",
       "      <td>9.930000</td>\n",
       "      <td>0.023</td>\n",
       "      <td>-0.050</td>\n",
       "      <td>-0.018</td>\n",
       "      <td>97.366776</td>\n",
       "    </tr>\n",
       "  </tbody>\n",
       "</table>\n",
       "<p>5432 rows × 8 columns</p>\n",
       "</div>"
      ],
      "text/plain": [
       "      timestamp (ms)  accx (m/s^2)  accy (m/s^2)  accz (m/s^2)  gyrox (rad/s)  \\\n",
       "0                292     36.959000     56.799999    -41.988998          3.203   \n",
       "1                295     40.126999     56.723999    -37.585999          2.360   \n",
       "2                299     36.466000     55.646999    -34.834000          1.426   \n",
       "3                302     29.014999     52.167999    -34.785999          0.724   \n",
       "4                305     19.223000     45.549000    -23.909000          0.471   \n",
       "...              ...           ...           ...           ...            ...   \n",
       "5427           20273      2.254000     -1.741000      9.934000          0.031   \n",
       "5428           20277      2.297000     -1.761000     10.021000          0.030   \n",
       "5429           20280      2.263000     -1.722000     10.001000          0.026   \n",
       "5430           20283      2.239000     -1.780000     10.001000          0.024   \n",
       "5431           20287      2.244000     -1.718000      9.930000          0.023   \n",
       "\n",
       "      gyroy (rad/s)  gyroz (rad/s)  pressure (kPa)  \n",
       "0             0.274         -1.202       97.366989  \n",
       "1             1.038          0.474       97.366989  \n",
       "2             2.951          2.129       97.366753  \n",
       "3             4.902          3.878       97.366753  \n",
       "4             6.361          5.187       97.366753  \n",
       "...             ...            ...             ...  \n",
       "5427         -0.053         -0.028       97.366776  \n",
       "5428         -0.056         -0.020       97.366776  \n",
       "5429         -0.051         -0.037       97.366776  \n",
       "5430         -0.052         -0.035       97.366776  \n",
       "5431         -0.050         -0.018       97.366776  \n",
       "\n",
       "[5432 rows x 8 columns]"
      ]
     },
     "execution_count": 67,
     "metadata": {},
     "output_type": "execute_result"
    }
   ],
   "source": []
  },
  {
   "cell_type": "code",
   "execution_count": null,
   "metadata": {},
   "outputs": [],
   "source": [
    "if not os.path.exists(ouptut_dir):\n",
    "    os.makedirs(ouptut_dir)\n",
    "slow_df.to_csv(ouptut_dir+'/slow.csv', index=False)\n",
    "fast_df.to_csv(ouptut_dir+'/fast.csv', index=False)\n",
    "adc_df.to_csv(ouptut_dir+'/adc.csv', index=False)\n",
    "\n",
    "pre_imu_df.to_csv(ouptut_dir+'/pre_imu.csv', index=False)\n",
    "pre_alt_df.to_csv(ouptut_dir+'/pre_alt.csv', index=False)"
   ]
  }
 ],
 "metadata": {
  "kernelspec": {
   "display_name": "Python 3",
   "language": "python",
   "name": "python3"
  },
  "language_info": {
   "codemirror_mode": {
    "name": "ipython",
    "version": 3
   },
   "file_extension": ".py",
   "mimetype": "text/x-python",
   "name": "python",
   "nbconvert_exporter": "python",
   "pygments_lexer": "ipython3",
   "version": "3.12.3"
  }
 },
 "nbformat": 4,
 "nbformat_minor": 2
}
